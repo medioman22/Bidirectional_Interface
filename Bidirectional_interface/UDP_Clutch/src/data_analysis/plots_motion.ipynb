{
 "cells": [
  {
   "cell_type": "code",
   "execution_count": 10,
   "metadata": {},
   "outputs": [
    {
     "name": "stdout",
     "output_type": "stream",
     "text": [
      "The autoreload extension is already loaded. To reload it, use:\n",
      "  %reload_ext autoreload\n"
     ]
    }
   ],
   "source": [
    "%load_ext autoreload\n",
    "%autoreload"
   ]
  },
  {
   "cell_type": "code",
   "execution_count": 1,
   "metadata": {},
   "outputs": [
    {
     "name": "stdout",
     "output_type": "stream",
     "text": [
      "subject_11.pkl\n",
      "subject_12.pkl\n",
      "subject_14.pkl\n",
      "subject_16.pkl\n",
      "subject_18.pkl\n",
      "subject_20.pkl\n",
      "subject_19.pkl\n",
      "subject_17.pkl\n",
      "subject_21.pkl\n",
      "subject_24.pkl\n",
      "subject_26.pkl\n",
      "subject_23.pkl\n",
      "subject_28.pkl\n",
      "subject_25.pkl\n",
      "subject_22.pkl\n",
      "subject_29.pkl\n",
      "subject_43.pkl\n",
      "subject_42.pkl\n",
      "subject_01.pkl\n",
      "subject_00.pkl\n"
     ]
    }
   ],
   "source": [
    "# -*- coding: utf-8 -*-\n",
    "\"\"\"\n",
    "Created on Fri Jan 25 16:11:26 2019\n",
    "\n",
    "@author: macchini\n",
    "\"\"\"\n",
    "\n",
    "import ExperimentalDataMotion_TEST\n",
    "import numpy as np\n",
    "import matplotlib.pyplot as plt\n",
    "from matplotlib.pylab import savefig\n",
    "from scipy import optimize\n",
    "from scipy import stats\n",
    "import utils\n",
    "\n",
    "import my_plots\n",
    "\n",
    "import matplotlib as mpl\n",
    "\n",
    "\n",
    "\n",
    "### Parameters\n",
    "    \n",
    "c0 = np.array([102, 153, 255])\n",
    "c1 = np.array([150,0,0])\n",
    "c2 = np.array([0,0,100])\n",
    "\n",
    "c_b = [\"#5C9FDA\", \"#1E405E\", \"#396C98\"]\n",
    "c_r = [\"#ff4d4d\", \"#750C0C\", \"#AC3838\"]\n",
    "\n",
    "lw = 1.5\n",
    "    \n",
    "params = {\n",
    "    'axes.labelsize': 11,\n",
    "    'font.size': 11,\n",
    "    'legend.fontsize': 11,\n",
    "    'xtick.labelsize': 11,\n",
    "    'ytick.labelsize': 11,\n",
    "    'text.usetex': False,\n",
    "    'figure.figsize': [6, 5],\n",
    "    'boxplot.boxprops.linewidth' : lw,\n",
    "    'boxplot.whiskerprops.linewidth' : lw,\n",
    "    'boxplot.capprops.linewidth' : lw,\n",
    "    'boxplot.medianprops.linewidth' : lw\n",
    "\n",
    "   }\n",
    "mpl.rcParams.update(params)\n",
    "\n",
    "\n",
    "\n",
    "    \n",
    "settings = ExperimentalDataMotion_TEST.initialize_settings()\n",
    "\n",
    "settings['methods'] = ['simple']\n",
    "settings['interfaces'] = ['motive']\n",
    "settings['plot_style'] = 'mean-max-min'\n",
    "settings['metric'] = 'error'\n",
    "settings['plot'] = True\n",
    "\n",
    "\n",
    "\n",
    "exp_data = ExperimentalDataMotion_TEST.run_data_motion_analysis(settings)\n",
    "\n",
    "\n",
    "covar_mean = exp_data.covar_mean\n",
    "snr_mean = exp_data.snr_mean\n",
    "coeff_mean = exp_data.coeff_mean\n",
    "covar_std = exp_data.covar_std\n",
    "snr_std = exp_data.snr_std\n",
    "coeff_std = exp_data.coeff_std\n",
    "\n",
    "n_uses_rpy = exp_data.n_uses_rpy\n",
    "body_parts = exp_data.body_parts\n",
    "rot = exp_data.rot"
   ]
  },
  {
   "cell_type": "code",
   "execution_count": 36,
   "metadata": {},
   "outputs": [
    {
     "name": "stdout",
     "output_type": "stream",
     "text": [
      "The autoreload extension is already loaded. To reload it, use:\n",
      "  %reload_ext autoreload\n"
     ]
    },
    {
     "name": "stderr",
     "output_type": "stream",
     "text": [
      "/Users/lis/anaconda3/envs/HRI_mapping/lib/python3.6/site-packages/matplotlib/cbook/deprecation.py:107: MatplotlibDeprecationWarning: Passing one of 'on', 'true', 'off', 'false' as a boolean is deprecated; use an actual boolean (True/False) instead.\n",
      "  warnings.warn(message, mplDeprecation, stacklevel=1)\n"
     ]
    },
    {
     "data": {
      "image/png": "[encoded data removed]",
      "text/plain": [
       "<Figure size 432x360 with 3 Axes>"
      ]
     },
     "metadata": {},
     "output_type": "display_data"
    }
   ],
   "source": [
    "%load_ext autoreload\n",
    "%autoreload\n",
    "\n",
    "# plot all\n",
    "\n",
    "import my_plots\n",
    "\n",
    "import matplotlib.pyplot as plt\n",
    "import matplotlib as mpl\n",
    "\n",
    "\n",
    "\n",
    "lw = 1.5\n",
    "\n",
    "fs = 13\n",
    "\n",
    "params = {\n",
    "    'axes.labelsize': fs,\n",
    "    'font.size': fs,\n",
    "    'legend.fontsize': fs,\n",
    "    'xtick.labelsize': fs,\n",
    "    'ytick.labelsize': fs,\n",
    "    'text.usetex': False,\n",
    "    'figure.figsize': [6, 5],\n",
    "    'boxplot.boxprops.linewidth' : lw,\n",
    "    'boxplot.whiskerprops.linewidth' : lw,\n",
    "    'boxplot.capprops.linewidth' : lw,\n",
    "    'boxplot.medianprops.linewidth' : lw,\n",
    "    'text.usetex' : True,\n",
    "    'font.family' : 'serif',\n",
    "\n",
    "   }\n",
    "mpl.rcParams.update(params)\n",
    "\n",
    "# xlabels = [''] * 9\n",
    "axis = plt.subplot(3, 1, 1)\n",
    "my_plots.bar_multi(vals = (np.array(covar_mean)*100).tolist(), error = None, xlabels = xlabels, ylabel = 'Correlation [\\%]', legend = rot, title = '', normalize = False, colors = c_b, ax = axis, ylim = [0,40], yticks = [0,10,20,30,40])\n",
    "# xlabels = [''] * 9\n",
    "\n",
    "axis = plt.subplot(3, 1, 2)\n",
    "# xlabels = [''] * 9\n",
    "my_plots.bar_multi(vals = (np.array(snr_mean)*100).tolist(), error = None, xlabels = xlabels, ylabel = 'SNR [\\%]', legend = rot, title = '', normalize = False, colors = c_b, ax = axis, ylim = [0,40], yticks = [0,10,20,30,40])\n",
    "\n",
    "axis = plt.subplot(3, 1, 3)\n",
    "my_plots.bar_multi(vals = (n_uses_rpy/np.max(n_uses_rpy)*100).tolist(), error = None, xlabels = body_parts, ylabel = 'Relevant features [\\%]', legend = rot, title = '', normalize = False, colors = c_r, ax = axis, save = True, ylim = [0, 100], where = './motion_analysis.pdf')\n",
    "\n",
    "\n",
    "savefig('./motion_analysis.pdf', bbox_inches='tight')"
   ]
  },
  {
   "cell_type": "code",
   "execution_count": 42,
   "metadata": {},
   "outputs": [
    {
     "name": "stdout",
     "output_type": "stream",
     "text": [
      "covar of torso =  0.7132962430722675\n"
     ]
    }
   ],
   "source": [
    "print('covar of torso = ', np.sum([x[4] for x in covar_mean]))"
   ]
  },
  {
   "cell_type": "code",
   "execution_count": 43,
   "metadata": {},
   "outputs": [
    {
     "name": "stdout",
     "output_type": "stream",
     "text": [
      "snr of torso =  0.7316001643778339\n"
     ]
    }
   ],
   "source": [
    "print('snr of torso = ', np.sum([x[4] for x in snr_mean]))"
   ]
  },
  {
   "cell_type": "code",
   "execution_count": null,
   "metadata": {},
   "outputs": [],
   "source": []
  }
 ],
 "metadata": {
  "kernelspec": {
   "display_name": "Python 3",
   "language": "python",
   "name": "python3"
  },
  "language_info": {
   "codemirror_mode": {
    "name": "ipython",
    "version": 3
   },
   "file_extension": ".py",
   "mimetype": "text/x-python",
   "name": "python",
   "nbconvert_exporter": "python",
   "pygments_lexer": "ipython3",
   "version": "3.6.5"
  }
 },
 "nbformat": 4,
 "nbformat_minor": 4
}
