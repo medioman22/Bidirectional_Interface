{
 "cells": [
  {
   "cell_type": "markdown",
   "metadata": {},
   "source": [
    "# Analyse survey"
   ]
  },
  {
   "cell_type": "markdown",
   "metadata": {},
   "source": [
    "## Imports"
   ]
  },
  {
   "cell_type": "code",
   "execution_count": 1,
   "metadata": {},
   "outputs": [],
   "source": [
    "# -*- coding: utf-8 -*-\n",
    "\"\"\"\n",
    "Created on Fri Nov 16 13:02:17 2018\n",
    "\n",
    "@author: macchini\n",
    "\"\"\"\n",
    "\n",
    "import os,sys\n",
    "sys.path.insert(1, os.path.join(sys.path[0], '..'))\n",
    "\n",
    "import my_plots\n",
    "import numpy as np\n",
    "import pandas as pd\n",
    "import matplotlib.pyplot as plt\n",
    "import matplotlib as mpl\n",
    "import utils\n",
    "\n",
    "from numpy.random import seed\n",
    "from numpy.random import randn\n",
    "from scipy.stats import kruskal\n",
    "\n",
    "from collections import Counter\n",
    "from matplotlib.pylab import savefig"
   ]
  },
  {
   "cell_type": "code",
   "execution_count": 2,
   "metadata": {},
   "outputs": [],
   "source": [
    "# plot settings\n",
    "\n",
    "lw = 1.5\n",
    "\n",
    "fs = 13\n",
    "\n",
    "params = {\n",
    "    'axes.labelsize': fs,\n",
    "    'font.size': fs,\n",
    "    'legend.fontsize': fs,\n",
    "    'xtick.labelsize': fs,\n",
    "    'ytick.labelsize': fs,\n",
    "    'text.usetex': False,\n",
    "    'figure.figsize': [4, 4],\n",
    "    'boxplot.boxprops.linewidth' : lw,\n",
    "    'boxplot.whiskerprops.linewidth' : lw,\n",
    "    'boxplot.capprops.linewidth' : lw,\n",
    "    'boxplot.medianprops.linewidth' : lw,\n",
    "    'text.usetex' : True,\n",
    "    'font.family' : 'serif',\n",
    "\n",
    "   }\n",
    "mpl.rcParams.update(params)"
   ]
  },
  {
   "cell_type": "markdown",
   "metadata": {},
   "source": [
    "## Load file and create dataframe"
   ]
  },
  {
   "cell_type": "code",
   "execution_count": 3,
   "metadata": {},
   "outputs": [],
   "source": [
    "folder = './Data'\n",
    "\n",
    "csv = 'Bidirectional Interface - haptics.csv'"
   ]
  },
  {
   "cell_type": "code",
   "execution_count": 4,
   "metadata": {
    "scrolled": true
   },
   "outputs": [
    {
     "data": {
      "text/html": [
       "<div>\n",
       "<style scoped>\n",
       "    .dataframe tbody tr th:only-of-type {\n",
       "        vertical-align: middle;\n",
       "    }\n",
       "\n",
       "    .dataframe tbody tr th {\n",
       "        vertical-align: top;\n",
       "    }\n",
       "\n",
       "    .dataframe thead th {\n",
       "        text-align: right;\n",
       "    }\n",
       "</style>\n",
       "<table border=\"1\" class=\"dataframe\">\n",
       "  <thead>\n",
       "    <tr style=\"text-align: right;\">\n",
       "      <th></th>\n",
       "      <th>Horodateur</th>\n",
       "      <th>Age</th>\n",
       "      <th>Gender</th>\n",
       "      <th>How experienced are you with the use of remote controllers?</th>\n",
       "      <th>How experienced are you with the use of remote controllers for controlling drones?</th>\n",
       "      <th>Which interface was easier to use for the task?</th>\n",
       "      <th>How useful was the haptic inteface?</th>\n",
       "      <th>Which interface did you prefer?</th>\n",
       "      <th>Why?</th>\n",
       "      <th>Please give your personal feedback/impressions</th>\n",
       "    </tr>\n",
       "  </thead>\n",
       "  <tbody>\n",
       "    <tr>\n",
       "      <td>0</td>\n",
       "      <td>2019/08/13 10:13:17 AM UTC+2</td>\n",
       "      <td>24</td>\n",
       "      <td>Male</td>\n",
       "      <td>9</td>\n",
       "      <td>9</td>\n",
       "      <td>Wearable</td>\n",
       "      <td>10</td>\n",
       "      <td>Werable</td>\n",
       "      <td>Gives a sense of depth</td>\n",
       "      <td>The vibrating gloves are comfortable to use an...</td>\n",
       "    </tr>\n",
       "    <tr>\n",
       "      <td>1</td>\n",
       "      <td>2019/08/13 10:54:21 AM UTC+2</td>\n",
       "      <td>27</td>\n",
       "      <td>Male</td>\n",
       "      <td>5</td>\n",
       "      <td>2</td>\n",
       "      <td>Wearable</td>\n",
       "      <td>9</td>\n",
       "      <td>Werable</td>\n",
       "      <td>It was nice to have the physical motion associ...</td>\n",
       "      <td>It would be nice to not have the vibration by ...</td>\n",
       "    </tr>\n",
       "    <tr>\n",
       "      <td>2</td>\n",
       "      <td>2019/08/13 12:00:14 PM UTC+2</td>\n",
       "      <td>32</td>\n",
       "      <td>Female</td>\n",
       "      <td>3</td>\n",
       "      <td>3</td>\n",
       "      <td>Wearable</td>\n",
       "      <td>9</td>\n",
       "      <td>Werable</td>\n",
       "      <td>it was easier to control and it felt more simi...</td>\n",
       "      <td>the vibration was very useful, if the behind w...</td>\n",
       "    </tr>\n",
       "    <tr>\n",
       "      <td>3</td>\n",
       "      <td>2019/08/13 3:50:38 PM UTC+2</td>\n",
       "      <td>27</td>\n",
       "      <td>Female</td>\n",
       "      <td>10</td>\n",
       "      <td>1</td>\n",
       "      <td>Wearable</td>\n",
       "      <td>10</td>\n",
       "      <td>Werable</td>\n",
       "      <td>due to vibrations it's possible to align not o...</td>\n",
       "      <td>Tasks were interesting and getting more challe...</td>\n",
       "    </tr>\n",
       "    <tr>\n",
       "      <td>4</td>\n",
       "      <td>2019/08/13 5:22:01 PM UTC+2</td>\n",
       "      <td>25</td>\n",
       "      <td>Female</td>\n",
       "      <td>3</td>\n",
       "      <td>1</td>\n",
       "      <td>Wearable</td>\n",
       "      <td>9</td>\n",
       "      <td>Werable</td>\n",
       "      <td>Because the vibrations help in knowing how clo...</td>\n",
       "      <td>I believe it is hard to measure the depth most...</td>\n",
       "    </tr>\n",
       "    <tr>\n",
       "      <td>5</td>\n",
       "      <td>2019/08/13 6:37:02 PM UTC+2</td>\n",
       "      <td>29</td>\n",
       "      <td>Male</td>\n",
       "      <td>10</td>\n",
       "      <td>8</td>\n",
       "      <td>Wearable</td>\n",
       "      <td>10</td>\n",
       "      <td>Werable</td>\n",
       "      <td>The wearable interface feels more natural and ...</td>\n",
       "      <td>It was hard to accomplish the tasks with the r...</td>\n",
       "    </tr>\n",
       "    <tr>\n",
       "      <td>6</td>\n",
       "      <td>2019/08/13 6:39:57 PM UTC+2</td>\n",
       "      <td>21</td>\n",
       "      <td>Male</td>\n",
       "      <td>10</td>\n",
       "      <td>1</td>\n",
       "      <td>Wearable</td>\n",
       "      <td>10</td>\n",
       "      <td>Werable</td>\n",
       "      <td>Physical feedback compensated the lack of visi...</td>\n",
       "      <td>The haptic interface was really good. It could...</td>\n",
       "    </tr>\n",
       "    <tr>\n",
       "      <td>11</td>\n",
       "      <td>2019/08/28 1:38:23 PM UTC+2</td>\n",
       "      <td>31</td>\n",
       "      <td>Male</td>\n",
       "      <td>5</td>\n",
       "      <td>1</td>\n",
       "      <td>Wearable</td>\n",
       "      <td>6</td>\n",
       "      <td>Werable</td>\n",
       "      <td>having a feedback</td>\n",
       "      <td>The place of vibrator for forward direction wa...</td>\n",
       "    </tr>\n",
       "    <tr>\n",
       "      <td>12</td>\n",
       "      <td>2019/08/28 3:48:56 PM UTC+2</td>\n",
       "      <td>24</td>\n",
       "      <td>Male</td>\n",
       "      <td>10</td>\n",
       "      <td>3</td>\n",
       "      <td>Wearable</td>\n",
       "      <td>9</td>\n",
       "      <td>Werable</td>\n",
       "      <td>Wearable control is more fun and haptic interf...</td>\n",
       "      <td>Even if haptic interface helps a lot to feel d...</td>\n",
       "    </tr>\n",
       "  </tbody>\n",
       "</table>\n",
       "</div>"
      ],
      "text/plain": [
       "                      Horodateur  Age  Gender  \\\n",
       "0   2019/08/13 10:13:17 AM UTC+2   24    Male   \n",
       "1   2019/08/13 10:54:21 AM UTC+2   27    Male   \n",
       "2   2019/08/13 12:00:14 PM UTC+2   32  Female   \n",
       "3    2019/08/13 3:50:38 PM UTC+2   27  Female   \n",
       "4    2019/08/13 5:22:01 PM UTC+2   25  Female   \n",
       "5    2019/08/13 6:37:02 PM UTC+2   29    Male   \n",
       "6    2019/08/13 6:39:57 PM UTC+2   21    Male   \n",
       "11   2019/08/28 1:38:23 PM UTC+2   31    Male   \n",
       "12   2019/08/28 3:48:56 PM UTC+2   24    Male   \n",
       "\n",
       "    How experienced are you with the use of remote controllers?  \\\n",
       "0                                                   9             \n",
       "1                                                   5             \n",
       "2                                                   3             \n",
       "3                                                  10             \n",
       "4                                                   3             \n",
       "5                                                  10             \n",
       "6                                                  10             \n",
       "11                                                  5             \n",
       "12                                                 10             \n",
       "\n",
       "    How experienced are you with the use of remote controllers for controlling drones?  \\\n",
       "0                                                   9                                    \n",
       "1                                                   2                                    \n",
       "2                                                   3                                    \n",
       "3                                                   1                                    \n",
       "4                                                   1                                    \n",
       "5                                                   8                                    \n",
       "6                                                   1                                    \n",
       "11                                                  1                                    \n",
       "12                                                  3                                    \n",
       "\n",
       "   Which interface was easier to use for the task?  \\\n",
       "0                                         Wearable   \n",
       "1                                         Wearable   \n",
       "2                                         Wearable   \n",
       "3                                         Wearable   \n",
       "4                                         Wearable   \n",
       "5                                         Wearable   \n",
       "6                                         Wearable   \n",
       "11                                        Wearable   \n",
       "12                                        Wearable   \n",
       "\n",
       "    How useful was the haptic inteface? Which interface did you prefer?  \\\n",
       "0                                    10                         Werable   \n",
       "1                                     9                         Werable   \n",
       "2                                     9                         Werable   \n",
       "3                                    10                         Werable   \n",
       "4                                     9                         Werable   \n",
       "5                                    10                         Werable   \n",
       "6                                    10                         Werable   \n",
       "11                                    6                         Werable   \n",
       "12                                    9                         Werable   \n",
       "\n",
       "                                                 Why?  \\\n",
       "0                              Gives a sense of depth   \n",
       "1   It was nice to have the physical motion associ...   \n",
       "2   it was easier to control and it felt more simi...   \n",
       "3   due to vibrations it's possible to align not o...   \n",
       "4   Because the vibrations help in knowing how clo...   \n",
       "5   The wearable interface feels more natural and ...   \n",
       "6   Physical feedback compensated the lack of visi...   \n",
       "11                                  having a feedback   \n",
       "12  Wearable control is more fun and haptic interf...   \n",
       "\n",
       "       Please give your personal feedback/impressions  \n",
       "0   The vibrating gloves are comfortable to use an...  \n",
       "1   It would be nice to not have the vibration by ...  \n",
       "2   the vibration was very useful, if the behind w...  \n",
       "3   Tasks were interesting and getting more challe...  \n",
       "4   I believe it is hard to measure the depth most...  \n",
       "5   It was hard to accomplish the tasks with the r...  \n",
       "6   The haptic interface was really good. It could...  \n",
       "11  The place of vibrator for forward direction wa...  \n",
       "12  Even if haptic interface helps a lot to feel d...  "
      ]
     },
     "execution_count": 4,
     "metadata": {},
     "output_type": "execute_result"
    }
   ],
   "source": [
    "answers_df = pd.read_csv(os.path.join(folder, csv))\n",
    "\n",
    "answers_df_sim = answers_df.iloc[[0,1,2,3,4,5,6,11,12]]\n",
    "\n",
    "answers_df_hw = answers_df.iloc[[7,8,9,10]]\n",
    "answers_df_sim"
   ]
  },
  {
   "cell_type": "markdown",
   "metadata": {},
   "source": [
    "## Separate questions"
   ]
  },
  {
   "cell_type": "code",
   "execution_count": 5,
   "metadata": {},
   "outputs": [],
   "source": [
    "data_sim = {}\n",
    "data_hw = {}\n",
    "\n",
    "\n",
    "age = 'Age'\n",
    "gender = 'Gender'\n",
    "experience_controller = 'How experienced are you with the use of remote controllers?'\n",
    "experience_controller_drone = 'How experienced are you with the use of remote controllers for controlling drones?'\n",
    "easier = 'Which interface was easier to use for the task?'\n",
    "haptics = 'How useful was the haptic inteface?'\n",
    "prefered = 'Which interface did you prefer?'\n",
    "why = 'Why?'\n",
    "feedback = 'Please give your personal feedback/impressions'\n",
    "\n",
    "questions = [age, gender, experience_controller, experience_controller_drone, easier, haptics, prefered, why, feedback]\n",
    "\n",
    "for q in questions:\n",
    "    data_sim[q] = answers_df_sim[q].values\n",
    "for q in questions:\n",
    "    data_hw[q] = answers_df_hw[q].values"
   ]
  },
  {
   "cell_type": "markdown",
   "metadata": {},
   "source": [
    "## Compute mean and average"
   ]
  },
  {
   "cell_type": "code",
   "execution_count": 6,
   "metadata": {},
   "outputs": [
    {
     "name": "stdout",
     "output_type": "stream",
     "text": [
      "{'Age': [26.666666666666668, 3.366501646120693], 'How experienced are you with the use of remote controllers?': [7.222222222222222, 2.9731307022799225], 'How experienced are you with the use of remote controllers for controlling drones?': [3.2222222222222223, 2.9355210696939795]}\n",
      "{'Age': [25.5, 2.5], 'How experienced are you with the use of remote controllers?': [7.5, 0.8660254037844386], 'How experienced are you with the use of remote controllers for controlling drones?': [5.25, 2.5860201081971503]}\n"
     ]
    }
   ],
   "source": [
    "def compute_stats(data):\n",
    "\n",
    "    stats = {}\n",
    "\n",
    "    mean_index = 0\n",
    "    std_index = 1\n",
    "\n",
    "    for q in [age, experience_controller, experience_controller_drone]:\n",
    "        stats[q] = [0, 0]\n",
    "        stats[q][mean_index] = np.mean(data[q])\n",
    "        stats[q][std_index] = np.std(data[q])\n",
    "\n",
    "    print(stats)\n",
    "    \n",
    "    return stats\n",
    "\n",
    "stats_sim = compute_stats(data_sim)\n",
    "stats_hw = compute_stats(data_hw)\n",
    "\n",
    "data_hw_q = data_hw"
   ]
  },
  {
   "cell_type": "markdown",
   "metadata": {},
   "source": [
    "## Results"
   ]
  },
  {
   "cell_type": "markdown",
   "metadata": {},
   "source": [
    "Stats (similarly for stats_hw for the hardware experiments) is a nested dictionnary containing the mean and std for each question of the survey, separated depending on the interface (remote or motion) and run (first or last)\n",
    "\n",
    "data (similarly data_hw) can be used to create boxplot for the distribution of answers."
   ]
  },
  {
   "cell_type": "code",
   "execution_count": 7,
   "metadata": {},
   "outputs": [
    {
     "name": "stdout",
     "output_type": "stream",
     "text": [
      "[10, 10, 10, 10, 9, 9, 9, 9, 6]\n",
      "9.11111111111111\n",
      "1.1967032904743342\n"
     ]
    },
    {
     "data": {
      "image/png": "[encoded data removed]",
      "text/plain": [
       "<Figure size 864x288 with 3 Axes>"
      ]
     },
     "metadata": {
      "needs_background": "light"
     },
     "output_type": "display_data"
    }
   ],
   "source": [
    "resp_data = {}\n",
    "\n",
    "resp_data[easier] = Counter(data_sim[easier])\n",
    "resp_data[prefered] = Counter(data_sim[prefered])\n",
    "\n",
    "resp_data[easier]['Equivalent'] = 0\n",
    "resp_data[easier]['Remote'] = 0\n",
    "resp_data[prefered]['Equivalent'] = 0\n",
    "resp_data[prefered]['Remote'] = 0\n",
    "\n",
    "c1 = 'g'\n",
    "c2 = 'b'\n",
    "c3 = 'r'\n",
    "\n",
    "c = [c1, c2, c3]\n",
    "\n",
    "qs = ['QH 1', 'QH 2']\n",
    "\n",
    "fig = plt.figure(figsize = (12,4))\n",
    "for jdx, j in enumerate(resp_data):\n",
    "    \n",
    "    ax = fig.add_subplot(1, 3, 1+jdx)\n",
    "\n",
    "    options = []\n",
    "    resp = []\n",
    "\n",
    "    for i in sorted(resp_data[j]):\n",
    "        options.append(i)\n",
    "        resp.append(resp_data[j][i])\n",
    "\n",
    "    for idx, i in enumerate(options):\n",
    "        plt.bar(1+idx, resp[idx], label = i, color = c[idx])\n",
    "\n",
    "    if jdx==0:\n",
    "        plt.legend(loc = 'upper left')  \n",
    "    plt.grid()    \n",
    "    plt.ylim(0,10)\n",
    "    plt.xticks([2], [qs[jdx]])\n",
    "    plt.ylabel('Responses')\n",
    "    ax.spines['right'].set_visible(False)\n",
    "    ax.spines['top'].set_visible(False)\n",
    "    \n",
    "    \n",
    "resp_data[haptics] = Counter(data_sim[haptics])\n",
    "hapt_resp = []\n",
    "for i in resp_data[haptics]:\n",
    "    hapt_resp.extend([i]*resp_data[haptics][i])\n",
    "    \n",
    "print(hapt_resp)\n",
    "\n",
    "ax = fig.add_subplot(1, 3, 3)\n",
    "\n",
    "ax.bar(1, np.mean(hapt_resp), yerr = np.std(hapt_resp), color = 'b', ecolor = 'b')\n",
    "plt.xlim(0,2)\n",
    "plt.xticks([1], ['QH 3'])\n",
    "plt.ylabel('Score')\n",
    "plt.grid()   \n",
    "\n",
    "savefig('hapt_quest.pdf', bbox_inches='tight')\n",
    "\n",
    "print(np.mean(hapt_resp))\n",
    "print(np.std(hapt_resp))"
   ]
  },
  {
   "cell_type": "code",
   "execution_count": 8,
   "metadata": {},
   "outputs": [
    {
     "name": "stdout",
     "output_type": "stream",
     "text": [
      "Counter({'Wearable': 9, 'Equivalent': 0, 'Remote': 0})\n",
      "Counter({10: 4, 9: 4, 6: 1})\n",
      "Counter({'Werable': 9, 'Equivalent': 0, 'Remote': 0})\n"
     ]
    }
   ],
   "source": [
    "print(resp_data[easier])\n",
    "print(resp_data[haptics])\n",
    "print(resp_data[prefered])"
   ]
  },
  {
   "cell_type": "markdown",
   "metadata": {},
   "source": [
    "# Questionnaire"
   ]
  },
  {
   "cell_type": "code",
   "execution_count": 9,
   "metadata": {},
   "outputs": [
    {
     "name": "stdout",
     "output_type": "stream",
     "text": [
      "SIMULATION\n",
      "-----------\n",
      "Why?\n",
      "-----------\n",
      "\n",
      "Gives a sense of depth\n",
      "\n",
      "It was nice to have the physical motion associated with the motion of your hand\n",
      "\n",
      "it was easier to control and it felt more similar to human's hand control.\n",
      "\n",
      "due to vibrations it's possible to align not only visually to go through.\n",
      "\n",
      "Because the vibrations help in knowing how close you are to the objective. If not, it is quite difficult to measure the depth (it is more trial and error and depends on the size of the robot)\n",
      "\n",
      "The wearable interface feels more natural and the vibration feedback is useful to understand the drone position\n",
      "\n",
      "Physical feedback compensated the lack of vision I had. Without any change in the viewpoint and the haptic ,it was really difficult if not impossible, to do the tasks with the controller.\n",
      "\n",
      "having a feedback\n",
      "\n",
      "Wearable control is more fun and haptic interface helps a lot to feel distances\n",
      "\n",
      "-----------\n",
      "Please give your personal feedback/impressions\n",
      "-----------\n",
      "\n",
      "The vibrating gloves are comfortable to use and approximately understand \n",
      "\n",
      "It would be nice to not have the vibration by default from the start of the flight. Adding more vibrational elements to the glove (or even making arrays of them if they are smaller) might be useful. The controller could be also integrated in the glove, I guess.\n",
      "\n",
      "the vibration was very useful, if the behind wall was in a unique color it would be better.\n",
      "\n",
      "Tasks were interesting and getting more challenging from 1 to 3. \n",
      "Liked an idea of this glove. Sure, it will find an application.\n",
      "\n",
      "I believe it is hard to measure the depth mostly when the robot has no shadow. The vibrations are a good way to help in the successful of the task, nevertheless sometimes the wearable could more difficult to control since you don't have the actions separately (go up, down, left, right, forward, backwards, as you can have it with the joystick)  \n",
      "\n",
      "It was hard to accomplish the tasks with the remote due to the lack of depth perception. The haptic glove was very helpful, expecially in tasks 2 and 3\n",
      "\n",
      "The haptic interface was really good. It could help to change the position of the motors on the gloves considering the position of the while in control. To have them correspond more with the spatial coordinates.\n",
      "\n",
      "The place of vibrator for forward direction was not intuitive because when grasping the fingers are not in forward direction\n",
      "\n",
      "Even if haptic interface helps a lot to feel distances, it is still not as easy as when you are able to rotate the camera\n",
      "\n"
     ]
    }
   ],
   "source": [
    "why_answers = data_sim[why]\n",
    "\n",
    "print('SIMULATION')\n",
    "print('-----------')\n",
    "print(why)\n",
    "print('-----------')\n",
    "print()\n",
    "\n",
    "for w in why_answers:\n",
    "    print(w)\n",
    "    print()\n",
    "    \n",
    "print('-----------')\n",
    "print(feedback)\n",
    "print('-----------')\n",
    "print()\n",
    "\n",
    "feed_answers = data_sim[feedback]\n",
    "\n",
    "for f in feed_answers:\n",
    "    print(f)\n",
    "    print()"
   ]
  },
  {
   "cell_type": "code",
   "execution_count": 10,
   "metadata": {},
   "outputs": [
    {
     "name": "stdout",
     "output_type": "stream",
     "text": [
      "HARDWARE\n",
      "-----------\n",
      "Why?\n",
      "-----------\n",
      "\n",
      "Spatial control felt easier with the remote controller because x y z displacements are very straight forward, whereas it is more clumsy by hand. However, the existence and location of obstacles was made very clear with the haptic feedback. \n",
      "\n",
      "I preferred the haptic feedback, as the depth perception was felt as well as seen. The obstacles were very difficult with no haptic feedback!\n",
      "\n",
      "The haptics feedback helps a lot during the tasks. It helps clearing obstacles much more easily.\n",
      "\n",
      "The haptics feedback helps a lot during the tasks. It helps clearing obstacles much more easily.\n",
      "\n",
      "-----------\n",
      "Please give your personal feedback/impressions\n",
      "-----------\n",
      "\n",
      "For the obstacles used in this experiment, I think a basic vibrating remote controller (say, like the one of the PS4) would have been sufficient to succeed in the tasks, indeed, I think the 6-way directionality of the haptic feedback felt like an overkill for these obstacles. \n",
      "\n",
      "This system would be especially useful when your vision is impaired, such as if the drone is far away, or if you are blind in one eye. The haptic control of the drone was a little jerky vs the remote controller. It was initially counter intuitive given I have used an xbox style controller before, but it was quick/easy to learn.\n",
      "\n",
      "The haptic feedback + control with the hand makes the whole experience quite intuitive and fun. I am definitely more confident with the haptic feedback.\n",
      "\n",
      "The haptic feedback + control with the hand makes the whole experience quite intuitive and fun. I am definitely more confident with the haptic feedback.\n",
      "\n"
     ]
    }
   ],
   "source": [
    "why_answers = data_hw[why]\n",
    "\n",
    "print('HARDWARE')\n",
    "print('-----------')\n",
    "print(why)\n",
    "print('-----------')\n",
    "print()\n",
    "\n",
    "for w in why_answers:\n",
    "    print(w)\n",
    "    print()\n",
    "    \n",
    "print('-----------')\n",
    "print(feedback)\n",
    "print('-----------')\n",
    "print()\n",
    "\n",
    "feed_answers = data_hw[feedback]\n",
    "\n",
    "for f in feed_answers:\n",
    "    print(f)\n",
    "    print()"
   ]
  },
  {
   "cell_type": "markdown",
   "metadata": {},
   "source": [
    "# Backup - pie charts"
   ]
  },
  {
   "cell_type": "code",
   "execution_count": 11,
   "metadata": {},
   "outputs": [
    {
     "data": {
      "image/png": "[encoded data removed]",
      "text/plain": [
       "<Figure size 864x864 with 3 Axes>"
      ]
     },
     "metadata": {},
     "output_type": "display_data"
    },
    {
     "data": {
      "image/png": "[encoded data removed]",
      "text/plain": [
       "<Figure size 864x864 with 3 Axes>"
      ]
     },
     "metadata": {},
     "output_type": "display_data"
    }
   ],
   "source": [
    "def plot_pies(data):\n",
    "    \n",
    "    plt.figure(figsize = (12,12))\n",
    "\n",
    "    gender_pie_data = Counter(data[gender])\n",
    "    easier_pie_data = Counter(data[easier])\n",
    "    haptics_useful_pie_data = Counter(data[haptics])\n",
    "    prefered_pie_data = Counter(data[prefered])\n",
    "\n",
    "#     ax1 = plt.subplot(221)\n",
    "#     ax1.pie(gender_pie_data.values(), labels=gender_pie_data.keys(), autopct='%1.1f%%', startangle=90)\n",
    "#     ax1.axis('equal')  # Equal aspect ratio ensures that pie is drawn as a circle.\n",
    "#     ax1.set_title(gender)\n",
    "\n",
    "    ax1 = plt.subplot(231)\n",
    "    ax1.pie(easier_pie_data.values(), labels=easier_pie_data.keys(), autopct='%1.1f%%', startangle=90)\n",
    "    ax1.axis('equal')  # Equal aspect ratio ensures that pie is drawn as a circle.\n",
    "    ax1.set_title(easier)\n",
    "\n",
    "    ax1 = plt.subplot(232)\n",
    "    ax1.pie(haptics_useful_pie_data.values(), labels=haptics_useful_pie_data.keys(), autopct='%1.1f%%', startangle=90)\n",
    "    ax1.axis('equal')  # Equal aspect ratio ensures that pie is drawn as a circle.\n",
    "    ax1.set_title(haptics)\n",
    "\n",
    "    ax1 = plt.subplot(233)\n",
    "    ax1.pie(prefered_pie_data.values(), labels=prefered_pie_data.keys(), autopct='%1.1f%%', startangle=90)\n",
    "    ax1.axis('equal')  # Equal aspect ratio ensures that pie is drawn as a circle.\n",
    "    ax1.set_title(prefered)\n",
    "\n",
    "    plt.show()\n",
    "    \n",
    "plot_pies(data_sim)\n",
    "plot_pies(data_hw)"
   ]
  },
  {
   "cell_type": "code",
   "execution_count": null,
   "metadata": {},
   "outputs": [],
   "source": []
  },
  {
   "cell_type": "code",
   "execution_count": 12,
   "metadata": {},
   "outputs": [],
   "source": [
    "# -*- coding: utf-8 -*-\n",
    "\"\"\"\n",
    "Created on Fri Nov 16 13:02:17 2018\n",
    "\n",
    "@author: macchini\n",
    "\"\"\"\n",
    "\n",
    "import os,sys\n",
    "sys.path.insert(1, os.path.join(sys.path[0], '..'))\n",
    "\n",
    "import my_plots\n",
    "import numpy as np\n",
    "import pandas as pd\n",
    "import matplotlib.pyplot as plt\n",
    "import matplotlib as mpl\n",
    "import utils\n",
    "\n",
    "from numpy.random import seed\n",
    "from numpy.random import randn\n",
    "from scipy.stats import kruskal\n",
    "\n",
    "from statistics import print_p"
   ]
  },
  {
   "cell_type": "markdown",
   "metadata": {},
   "source": [
    "## Load file and create dataframe"
   ]
  },
  {
   "cell_type": "code",
   "execution_count": 13,
   "metadata": {},
   "outputs": [],
   "source": [
    "folder = './Data'\n",
    "\n",
    "files = os.listdir(folder)\n",
    "\n",
    "csv_1 = 'NASA_TLX_haptics_1.csv'\n",
    "csv_2 = 'NASA_TLX_haptics_2.csv'\n",
    "csv_3 = 'NASA_TLX_haptics_3.csv'"
   ]
  },
  {
   "cell_type": "code",
   "execution_count": 14,
   "metadata": {
    "scrolled": true
   },
   "outputs": [],
   "source": [
    "answers_df_1 = pd.read_csv(os.path.join(folder, csv_1))\n",
    "answers_df_2 = pd.read_csv(os.path.join(folder, csv_2))\n",
    "answers_df_3 = pd.read_csv(os.path.join(folder, csv_3))\n",
    "\n",
    "answers_df = pd.concat([answers_df_1, answers_df_2, answers_df_3])\n",
    "\n",
    "\n",
    "# Separate hardware and simulation experiments\n",
    "answers_df_hw = answers_df[answers_df['subject number'] >= 100]\n",
    "answers_df = answers_df[answers_df['subject number'] < 100]"
   ]
  },
  {
   "cell_type": "markdown",
   "metadata": {},
   "source": [
    "## Separate dataframe depending on interface/run"
   ]
  },
  {
   "cell_type": "code",
   "execution_count": 15,
   "metadata": {},
   "outputs": [],
   "source": [
    "types = ['remote', 'motion']\n",
    "\n",
    "# Separate answers depending on interface and run\n",
    "answers = {}\n",
    "answers[types[0]] = answers_df[answers_df['Interface'] == 'Remote']\n",
    "answers[types[1]] = answers_df[answers_df['Interface'] == 'Motion']\n",
    "\n",
    "answers_hw = {}\n",
    "answers_hw[types[0]] = answers_df_hw[answers_df_hw['Interface'] == 'Remote']\n",
    "answers_hw[types[1]] = answers_df_hw[answers_df_hw['Interface'] == 'Motion']"
   ]
  },
  {
   "cell_type": "markdown",
   "metadata": {},
   "source": [
    "## Separate questions"
   ]
  },
  {
   "cell_type": "code",
   "execution_count": 16,
   "metadata": {},
   "outputs": [],
   "source": [
    "data = {}\n",
    "data_hw_NASA = {}\n",
    "\n",
    "mentally_demanding = 'How mentally demanding was the test?'\n",
    "physically_demanding = 'How physically demanding was the test?'\n",
    "pace = 'How hurried or rushed was the pace of the task?'\n",
    "successful = 'How successful were you in accomplishing what you were asked to do?'\n",
    "insecure = 'How insecure, discouraged, irritated, stresses, and annoyed were you?'\n",
    "\n",
    "questions = [mentally_demanding, physically_demanding, pace, successful, insecure]\n",
    "\n",
    "for i in types:\n",
    "    data[i] = {}\n",
    "    data_hw_NASA[i] = {}\n",
    "    for q in questions:\n",
    "        data[i][q] = answers[i][q].values\n",
    "        data_hw_NASA[i][q] = answers_hw[i][q].values"
   ]
  },
  {
   "cell_type": "markdown",
   "metadata": {},
   "source": [
    "## Compute mean and average"
   ]
  },
  {
   "cell_type": "code",
   "execution_count": 17,
   "metadata": {},
   "outputs": [
    {
     "name": "stdout",
     "output_type": "stream",
     "text": [
      "{'remote': {'How mentally demanding was the test?': [2.357142857142857, 0.8949974347244047], 'How physically demanding was the test?': [1.2142857142857142, 0.410325903324145], 'How hurried or rushed was the pace of the task?': [1.3214285714285714, 0.6575697371257846], 'How successful were you in accomplishing what you were asked to do?': [2.5357142857142856, 0.7310531960878115], 'How insecure, discouraged, irritated, stresses, and annoyed were you?': [1.75, 1.0220777158038703]}, 'motion': {'How mentally demanding was the test?': [2.0, 0.9837387536759294], 'How physically demanding was the test?': [1.5806451612903225, 0.7523808896574581], 'How hurried or rushed was the pace of the task?': [1.3548387096774193, 0.8249491517770594], 'How successful were you in accomplishing what you were asked to do?': [3.870967741935484, 0.7509965630208268], 'How insecure, discouraged, irritated, stresses, and annoyed were you?': [1.096774193548387, 0.29565004483586066]}}\n"
     ]
    }
   ],
   "source": [
    "stats = {}\n",
    "stats_hw = {}\n",
    "\n",
    "mean_index = 0\n",
    "std_index = 1\n",
    "\n",
    "for i in types:\n",
    "    stats[i] = {}\n",
    "    stats_hw[i] = {}\n",
    "    for q in questions:\n",
    "        stats[i][q] = [0, 0]\n",
    "        stats[i][q][mean_index] = np.mean(data[i][q])\n",
    "        stats[i][q][std_index] = np.std(data[i][q])\n",
    "        \n",
    "        stats_hw[i][q] = [0, 0]\n",
    "        stats_hw[i][q][mean_index] = np.mean(data_hw_NASA[i][q])\n",
    "        stats_hw[i][q][std_index] = np.std(data_hw_NASA[i][q])\n",
    "        \n",
    "print(stats)"
   ]
  },
  {
   "cell_type": "markdown",
   "metadata": {},
   "source": [
    "## Results"
   ]
  },
  {
   "cell_type": "markdown",
   "metadata": {},
   "source": [
    "Stats (similarly for stats_hw for the hardware experiments) is a nested dictionnary containing the mean and std for each question of the survey, separated depending on the interface (remote or motion) and run (first or last)\n",
    "\n",
    "data (similarly data_hw_NASA) can be used to create boxplot for the distribution of answers."
   ]
  },
  {
   "cell_type": "code",
   "execution_count": 18,
   "metadata": {},
   "outputs": [],
   "source": [
    "def t_test_kruskal(X, Y):\n",
    "    \n",
    "    # Kruskal-Wallis H-test\n",
    "    \n",
    "    # seed the random number generator\n",
    "    seed(1)\n",
    "    \n",
    "    # compare samples\n",
    "    stat, p = kruskal(X, Y)\n",
    "    \n",
    "    return [stat, p]"
   ]
  },
  {
   "cell_type": "code",
   "execution_count": 19,
   "metadata": {},
   "outputs": [
    {
     "name": "stdout",
     "output_type": "stream",
     "text": [
      "\n",
      "\n",
      "remote motion How mentally demanding was the test?\n",
      "p = 0.12542957764898166\n",
      "remote motion How physically demanding was the test?\n",
      "\u001b[33mp = 0.04031242700616708 !!!!!!\u001b[0m\n",
      "remote motion How hurried or rushed was the pace of the task?\n",
      "p = 0.5815264895493811\n",
      "remote motion How successful were you in accomplishing what you were asked to do?\n",
      "\u001b[32mp = 1.0636481155072526e-07 !!!!!!!!!!\u001b[0m\n",
      "remote motion How insecure, discouraged, irritated, stresses, and annoyed were you?\n",
      "\u001b[32mp = 0.002324042856445646 !!!!!!!!!!\u001b[0m\n",
      "\n"
     ]
    }
   ],
   "source": [
    "for idx,i in enumerate(types):\n",
    "    print()\n",
    "    for j in types[idx+1:]:\n",
    "        print()\n",
    "        for q in questions:\n",
    "            if i != j:\n",
    "                # also, compare only first-last for same interface or first-first, last-last for different ones\n",
    "\n",
    "                t, p = t_test_kruskal(data[i][q],data[j][q])\n",
    "                print(i,j,q)\n",
    "                print_p(p)"
   ]
  },
  {
   "cell_type": "markdown",
   "metadata": {},
   "source": [
    "### remote-first motion-first How physically demanding was the test? p =  0.0488888176268915\n",
    "### remote-last motion-last How physically demanding was the test? p =  0.23390621098854886\n",
    "### remote-last motion-last How mentally demanding was the test? p =  0.01913961955875495\n",
    "### motion-first remote-first How mentally demanding was the test? p =  0.03344653009997241"
   ]
  },
  {
   "cell_type": "code",
   "execution_count": 20,
   "metadata": {},
   "outputs": [
    {
     "name": "stdout",
     "output_type": "stream",
     "text": [
      "remote\n",
      "{'How mentally demanding was the test?': [2.357142857142857, 0.8949974347244047], 'How physically demanding was the test?': [1.2142857142857142, 0.410325903324145], 'How hurried or rushed was the pace of the task?': [1.3214285714285714, 0.6575697371257846], 'How successful were you in accomplishing what you were asked to do?': [2.5357142857142856, 0.7310531960878115], 'How insecure, discouraged, irritated, stresses, and annoyed were you?': [1.75, 1.0220777158038703]}\n",
      "[2.357142857142857, 1.2142857142857142, 1.3214285714285714, 2.5357142857142856, 1.75]\n",
      "[0.8949974347244047, 0.410325903324145, 0.6575697371257846, 0.7310531960878115, 1.0220777158038703]\n",
      "motion\n",
      "{'How mentally demanding was the test?': [2.0, 0.9837387536759294], 'How physically demanding was the test?': [1.5806451612903225, 0.7523808896574581], 'How hurried or rushed was the pace of the task?': [1.3548387096774193, 0.8249491517770594], 'How successful were you in accomplishing what you were asked to do?': [3.870967741935484, 0.7509965630208268], 'How insecure, discouraged, irritated, stresses, and annoyed were you?': [1.096774193548387, 0.29565004483586066]}\n",
      "[2.0, 1.5806451612903225, 1.3548387096774193, 3.870967741935484, 1.096774193548387]\n",
      "[0.9837387536759294, 0.7523808896574581, 0.8249491517770594, 0.7509965630208268, 0.29565004483586066]\n",
      "[[1.2142857142857142, 2.5357142857142856, 1.75], [1.5806451612903225, 3.870967741935484, 1.096774193548387]]\n",
      "[[0.410325903324145, 0.7310531960878115, 1.0220777158038703], [0.7523808896574581, 0.7509965630208268, 0.29565004483586066]]\n"
     ]
    },
    {
     "data": {
      "image/png": "[encoded data removed]",
      "text/plain": [
       "<Figure size 1152x288 with 2 Axes>"
      ]
     },
     "metadata": {
      "needs_background": "light"
     },
     "output_type": "display_data"
    }
   ],
   "source": [
    "plt.figure(figsize=(16,4))\n",
    "\n",
    "vals = []\n",
    "errors = []\n",
    "\n",
    "for idx, s in enumerate(stats):\n",
    "    print(s)\n",
    "    print(stats[s])\n",
    "    \n",
    "    means = [stats[s][q][0] for q in questions]\n",
    "    stds = [stats[s][q][1] for q in questions]\n",
    "    \n",
    "    print(means)\n",
    "    print(stds)\n",
    "    \n",
    "    ax = plt.subplot(141+idx)\n",
    "    \n",
    "    ax.bar([0, 1, 2, 3, 4],\n",
    "       means,\n",
    "       yerr=stds)\n",
    "    plt.title(s)\n",
    "    plt.ylim(0, 5)\n",
    "#     vals.append(means[1])\n",
    "#     stds.append(stds[1])\n",
    "#     vals.append(means[3:5])\n",
    "#     errors.append(stds[3:5])\n",
    "    vals.append([means[1], means[3], means[4]])\n",
    "    errors.append([stds[1], stds[3], stds[4]])\n",
    "#     stds.append([stds[3:5]])\n",
    "    \n",
    "print(vals)\n",
    "print(errors)"
   ]
  },
  {
   "cell_type": "code",
   "execution_count": 21,
   "metadata": {},
   "outputs": [
    {
     "name": "stdout",
     "output_type": "stream",
     "text": [
      "br\n"
     ]
    },
    {
     "name": "stderr",
     "output_type": "stream",
     "text": [
      "/Users/lis/Documents/github/Bidirectional_Interface/data_analysis/Surveys/../my_plots.py:58: MatplotlibDeprecationWarning: Adding an axes using the same arguments as a previous axes currently reuses the earlier instance.  In a future version, a new instance will always be created and returned.  Meanwhile, this warning can be suppressed, and the future behavior ensured, by passing a unique label to each axes instance.\n",
      "  ax = plt.subplot(111)\n"
     ]
    },
    {
     "data": {
      "text/plain": [
       "<matplotlib.axes._subplots.AxesSubplot at 0x1a25bb3250>"
      ]
     },
     "execution_count": 21,
     "metadata": {},
     "output_type": "execute_result"
    },
    {
     "data": {
      "image/png": "[encoded data removed]",
      "text/plain": [
       "<Figure size 288x288 with 1 Axes>"
      ]
     },
     "metadata": {
      "needs_background": "light"
     },
     "output_type": "display_data"
    }
   ],
   "source": [
    "plt.figure(figsize=(4,4))\n",
    "ax = plt.subplot(111)\n",
    "my_plots.bar_multi(vals, errors, legend = ['R','M'], xlabels = ['Q 2', 'Q 4', 'Q 5'], xlim = [0.5,3.5], yticks = [1,2,3,4,5], w =0.15, save = True, where = 'hapt_NASA.pdf', colors = 'br')"
   ]
  },
  {
   "cell_type": "markdown",
   "metadata": {},
   "source": [
    "# FINAL PLOTS"
   ]
  },
  {
   "cell_type": "code",
   "execution_count": 22,
   "metadata": {},
   "outputs": [
    {
     "name": "stdout",
     "output_type": "stream",
     "text": [
      "remote\n",
      "{'How mentally demanding was the test?': [2.357142857142857, 0.8949974347244047], 'How physically demanding was the test?': [1.2142857142857142, 0.410325903324145], 'How hurried or rushed was the pace of the task?': [1.3214285714285714, 0.6575697371257846], 'How successful were you in accomplishing what you were asked to do?': [2.5357142857142856, 0.7310531960878115], 'How insecure, discouraged, irritated, stresses, and annoyed were you?': [1.75, 1.0220777158038703]}\n",
      "[2.357142857142857, 1.2142857142857142, 1.3214285714285714, 2.5357142857142856, 1.75]\n",
      "[0.8949974347244047, 0.410325903324145, 0.6575697371257846, 0.7310531960878115, 1.0220777158038703]\n",
      "motion\n",
      "{'How mentally demanding was the test?': [2.0, 0.9837387536759294], 'How physically demanding was the test?': [1.5806451612903225, 0.7523808896574581], 'How hurried or rushed was the pace of the task?': [1.3548387096774193, 0.8249491517770594], 'How successful were you in accomplishing what you were asked to do?': [3.870967741935484, 0.7509965630208268], 'How insecure, discouraged, irritated, stresses, and annoyed were you?': [1.096774193548387, 0.29565004483586066]}\n",
      "[2.0, 1.5806451612903225, 1.3548387096774193, 3.870967741935484, 1.096774193548387]\n",
      "[0.9837387536759294, 0.7523808896574581, 0.8249491517770594, 0.7509965630208268, 0.29565004483586066]\n",
      "br\n",
      "[10, 10, 10, 10, 9, 9, 9, 9, 6]\n",
      "9.11111111111111\n",
      "1.1967032904743342\n"
     ]
    },
    {
     "data": {
      "image/png": "[encoded data removed]",
      "text/plain": [
       "<Figure size 504x144 with 3 Axes>"
      ]
     },
     "metadata": {
      "needs_background": "light"
     },
     "output_type": "display_data"
    }
   ],
   "source": [
    "resp_data = {}\n",
    "\n",
    "resp_data[easier] = Counter(data_sim[easier])\n",
    "resp_data[prefered] = Counter(data_sim[prefered])\n",
    "\n",
    "resp_data[easier]['Equivalent'] = 0\n",
    "resp_data[easier]['Remote'] = 0\n",
    "resp_data[prefered]['Equivalent'] = 0\n",
    "resp_data[prefered]['Remote'] = 0\n",
    "\n",
    "c1 = 'gray'\n",
    "c2 = 'b'\n",
    "c3 = 'r'\n",
    "\n",
    "c = [c1, c2, c3]\n",
    "\n",
    "qs = ['QH 1', 'QH 2']\n",
    "\n",
    "fig = plt.figure(figsize = (7,2))\n",
    "for jdx, j in enumerate(resp_data):\n",
    "    \n",
    "    ax = fig.add_subplot(1, 3, 1+jdx)\n",
    "\n",
    "    options = []\n",
    "    resp = []\n",
    "\n",
    "    for i in sorted(resp_data[j]):\n",
    "        options.append(i)\n",
    "        resp.append(resp_data[j][i])\n",
    "\n",
    "    for idx, i in enumerate(options):\n",
    "        plt.bar(1+idx, resp[idx], label = i, color = c[idx])\n",
    "        \n",
    "    plt.yticks([2,4,6,8,10])\n",
    "    if jdx==1:\n",
    "        plt.yticks([2,4,6,8,10], ['','','','',''])\n",
    "    if jdx==0:\n",
    "        plt.title('Simulation')  \n",
    "\n",
    "    plt.grid()    \n",
    "    plt.ylim(0,10)\n",
    "    plt.xticks([2], [qs[jdx]])\n",
    "#     plt.ylabel('Responses')\n",
    "    ax.spines['right'].set_visible(False)\n",
    "    ax.spines['top'].set_visible(False)\n",
    "    ax.xaxis.grid()\n",
    "    \n",
    "\n",
    "vals = []\n",
    "errors = []\n",
    "\n",
    "for idx, s in enumerate(stats):\n",
    "    print(s)\n",
    "    print(stats[s])\n",
    "    \n",
    "    means = [stats[s][q][0] for q in questions]\n",
    "    stds = [stats[s][q][1] for q in questions]\n",
    "    \n",
    "    print(means)\n",
    "    print(stds)\n",
    "    \n",
    "#     ax = plt.subplot(141+idx)\n",
    "    \n",
    "#     ax.bar([0, 1, 2, 3, 4],\n",
    "#        means,\n",
    "#        yerr=stds)\n",
    "#     plt.title(s)\n",
    "#     plt.ylim(0, 5)\n",
    "#     vals.append(means[1])\n",
    "#     stds.append(stds[1])\n",
    "#     vals.append(means[3:5])\n",
    "#     errors.append(stds[3:5])\n",
    "    vals.append([means[1], means[3], means[4]])\n",
    "    errors.append([stds[1], stds[3], stds[4]])\n",
    "#     stds.append([stds[3:5]])\n",
    "\n",
    "ax = fig.add_subplot(133)\n",
    "my_plots.bar_multi(vals, errors, ax = ax, xlabels = ['Q2', 'Q4', 'Q5'], xlim = [0.5,3.5], yticks = [1,2,3,4,5], w =0.2, save = True, where = 'hapt.pdf', colors = 'br')\n",
    "ax.xaxis.grid()\n",
    "savefig('hapt.pdf', bbox_inches='tight')\n",
    "\n",
    "\n",
    "resp_data[haptics] = Counter(data_sim[haptics])\n",
    "hapt_resp = []\n",
    "for i in resp_data[haptics]:\n",
    "    hapt_resp.extend([i]*resp_data[haptics][i])\n",
    "    \n",
    "print(hapt_resp)\n",
    "\n",
    "print(np.mean(hapt_resp))\n",
    "print(np.std(hapt_resp))"
   ]
  },
  {
   "cell_type": "code",
   "execution_count": 23,
   "metadata": {
    "jupyter": {
     "source_hidden": true
    }
   },
   "outputs": [
    {
     "name": "stdout",
     "output_type": "stream",
     "text": [
      "0\n",
      "1\n",
      "2\n",
      "0\n",
      "1\n",
      "2\n",
      "remote\n",
      "{'How mentally demanding was the test?': [3.4, 1.019803902718557], 'How physically demanding was the test?': [1.4, 0.48989794855663565], 'How hurried or rushed was the pace of the task?': [1.6, 0.48989794855663565], 'How successful were you in accomplishing what you were asked to do?': [3.1, 0.5385164807134505], 'How insecure, discouraged, irritated, stresses, and annoyed were you?': [2.2, 0.8717797887081347]}\n",
      "[3.4, 1.4, 1.6, 3.1, 2.2]\n",
      "[1.019803902718557, 0.48989794855663565, 0.48989794855663565, 0.5385164807134505, 0.8717797887081347]\n",
      "motion\n",
      "{'How mentally demanding was the test?': [2.111111111111111, 0.8748897637790901], 'How physically demanding was the test?': [1.5555555555555556, 0.4969039949999533], 'How hurried or rushed was the pace of the task?': [1.2222222222222223, 0.41573970964154905], 'How successful were you in accomplishing what you were asked to do?': [4.111111111111111, 0.5665577237325317], 'How insecure, discouraged, irritated, stresses, and annoyed were you?': [1.4444444444444444, 0.6849348892187752]}\n",
      "[2.111111111111111, 1.5555555555555556, 1.2222222222222223, 4.111111111111111, 1.4444444444444444]\n",
      "[0.8748897637790901, 0.4969039949999533, 0.41573970964154905, 0.5665577237325317, 0.6849348892187752]\n",
      "br\n",
      "9.11111111111111\n",
      "1.1967032904743342\n"
     ]
    },
    {
     "data": {
      "image/png": "[encoded data removed]",
      "text/plain": [
       "<Figure size 504x144 with 3 Axes>"
      ]
     },
     "metadata": {
      "needs_background": "light"
     },
     "output_type": "display_data"
    }
   ],
   "source": [
    "resp_data = {}\n",
    "\n",
    "resp_data[easier] = Counter(data_hw_q[easier])\n",
    "resp_data[prefered] = Counter(data_hw_q[prefered])\n",
    "\n",
    "resp_data[easier]['Equivalent'] = 0\n",
    "resp_data[easier]['Remote controller'] = 1\n",
    "resp_data[easier]['Wearable'] = 3\n",
    "resp_data[prefered]['Equivalent'] = 0\n",
    "resp_data[prefered]['Remote controller'] = 1\n",
    "resp_data[prefered]['Werable'] = 3\n",
    "\n",
    "c1 = 'gray'\n",
    "c2 = 'b'\n",
    "c3 = 'r'\n",
    "\n",
    "c = [c1, c2, c3]\n",
    "\n",
    "qs = ['QH 1', 'QH 2']\n",
    "\n",
    "fig = plt.figure(figsize = (7,2))\n",
    "for jdx, j in enumerate(resp_data):\n",
    "    \n",
    "    ax = fig.add_subplot(1, 3, 1+jdx)\n",
    "\n",
    "    options = []\n",
    "    resp = []\n",
    "\n",
    "    for i in sorted(resp_data[j]):\n",
    "        options.append(i)\n",
    "        resp.append(resp_data[j][i])\n",
    "\n",
    "    for idx, i in enumerate(options):\n",
    "        print(idx)\n",
    "        lab = 'Remote' if 'Re' in i else i\n",
    "        plt.bar(1+idx, resp[idx], label = lab, color = c[idx])\n",
    "        \n",
    "    plt.yticks([2,4,6,8,10])\n",
    "    if jdx==0:\n",
    "        plt.legend()\n",
    "        plt.title('Hardware')  \n",
    "    if jdx==1:\n",
    "        plt.yticks([2,4,6,8,10], ['','','','',''])\n",
    "\n",
    "    plt.grid()    \n",
    "    plt.ylim(0,10)\n",
    "    plt.xticks([2], [qs[jdx]])\n",
    "#     plt.ylabel('Responses')\n",
    "    ax.spines['right'].set_visible(False)\n",
    "    ax.spines['top'].set_visible(False)\n",
    "    ax.xaxis.grid()\n",
    "###\n",
    "\n",
    "vals = []\n",
    "errors = []\n",
    "\n",
    "for idx, s in enumerate(stats_hw):\n",
    "    print(s)\n",
    "    print(stats_hw[s])\n",
    "    \n",
    "    means = [stats_hw[s][q][0] for q in questions]\n",
    "    stds = [stats_hw[s][q][1] for q in questions]\n",
    "    \n",
    "    print(means)\n",
    "    print(stds)\n",
    "    vals.append([means[1], means[3], means[4]])\n",
    "    errors.append([stds[1], stds[3], stds[4]])\n",
    "\n",
    "ax = fig.add_subplot(133)\n",
    "my_plots.bar_multi(vals, errors, ax = ax, legend = ['R','W'], xlabels = ['Q 2', 'Q 4', 'Q 5'], xlim = [0.5,3.5], yticks = [1,2,3,4,5], w =0.15, save = True, where = 'hapt_HW.pdf', colors = 'br')\n",
    "ax.xaxis.grid()\n",
    "savefig('hapt_HW.pdf', bbox_inches='tight')\n",
    "\n",
    "print(np.mean(hapt_resp))\n",
    "print(np.std(hapt_resp))"
   ]
  },
  {
   "cell_type": "code",
   "execution_count": 24,
   "metadata": {},
   "outputs": [
    {
     "name": "stdout",
     "output_type": "stream",
     "text": [
      "{'Which interface was easier to use for the task?': Counter({'Wearable': 3, 'Remote controller': 1, 'Equivalent': 0}), 'Which interface did you prefer?': Counter({'Werable': 3, 'Remote controller': 1, 'Equivalent': 0})}\n"
     ]
    }
   ],
   "source": [
    "print(resp_data)"
   ]
  },
  {
   "cell_type": "code",
   "execution_count": 25,
   "metadata": {
    "collapsed": true,
    "jupyter": {
     "outputs_hidden": true
    }
   },
   "outputs": [
    {
     "data": {
      "text/plain": [
       "{'Age': array([24, 27, 32, 27, 25, 29, 21, 31, 24]),\n",
       " 'Gender': array(['Male', 'Male', 'Female', 'Female', 'Female', 'Male', 'Male',\n",
       "        'Male', 'Male'], dtype=object),\n",
       " 'How experienced are you with the use of remote controllers?': array([ 9,  5,  3, 10,  3, 10, 10,  5, 10]),\n",
       " 'How experienced are you with the use of remote controllers for controlling drones?': array([9, 2, 3, 1, 1, 8, 1, 1, 3]),\n",
       " 'Which interface was easier to use for the task?': array(['Wearable', 'Wearable', 'Wearable', 'Wearable', 'Wearable',\n",
       "        'Wearable', 'Wearable', 'Wearable', 'Wearable'], dtype=object),\n",
       " 'How useful was the haptic inteface?': array([10,  9,  9, 10,  9, 10, 10,  6,  9]),\n",
       " 'Which interface did you prefer?': array(['Werable', 'Werable', 'Werable', 'Werable', 'Werable', 'Werable',\n",
       "        'Werable', 'Werable', 'Werable'], dtype=object),\n",
       " 'Why?': array(['Gives a sense of depth',\n",
       "        'It was nice to have the physical motion associated with the motion of your hand',\n",
       "        \"it was easier to control and it felt more similar to human's hand control.\",\n",
       "        \"due to vibrations it's possible to align not only visually to go through.\",\n",
       "        'Because the vibrations help in knowing how close you are to the objective. If not, it is quite difficult to measure the depth (it is more trial and error and depends on the size of the robot)',\n",
       "        'The wearable interface feels more natural and the vibration feedback is useful to understand the drone position',\n",
       "        'Physical feedback compensated the lack of vision I had. Without any change in the viewpoint and the haptic ,it was really difficult if not impossible, to do the tasks with the controller.',\n",
       "        'having a feedback',\n",
       "        'Wearable control is more fun and haptic interface helps a lot to feel distances'],\n",
       "       dtype=object),\n",
       " 'Please give your personal feedback/impressions': array(['The vibrating gloves are comfortable to use and approximately understand ',\n",
       "        'It would be nice to not have the vibration by default from the start of the flight. Adding more vibrational elements to the glove (or even making arrays of them if they are smaller) might be useful. The controller could be also integrated in the glove, I guess.',\n",
       "        'the vibration was very useful, if the behind wall was in a unique color it would be better.',\n",
       "        'Tasks were interesting and getting more challenging from 1 to 3. \\nLiked an idea of this glove. Sure, it will find an application.',\n",
       "        \"I believe it is hard to measure the depth mostly when the robot has no shadow. The vibrations are a good way to help in the successful of the task, nevertheless sometimes the wearable could more difficult to control since you don't have the actions separately (go up, down, left, right, forward, backwards, as you can have it with the joystick)  \",\n",
       "        'It was hard to accomplish the tasks with the remote due to the lack of depth perception. The haptic glove was very helpful, expecially in tasks 2 and 3',\n",
       "        'The haptic interface was really good. It could help to change the position of the motors on the gloves considering the position of the while in control. To have them correspond more with the spatial coordinates.',\n",
       "        'The place of vibrator for forward direction was not intuitive because when grasping the fingers are not in forward direction',\n",
       "        'Even if haptic interface helps a lot to feel distances, it is still not as easy as when you are able to rotate the camera'],\n",
       "       dtype=object)}"
      ]
     },
     "execution_count": 25,
     "metadata": {},
     "output_type": "execute_result"
    }
   ],
   "source": [
    "data_sim"
   ]
  },
  {
   "cell_type": "code",
   "execution_count": 26,
   "metadata": {},
   "outputs": [
    {
     "data": {
      "text/plain": [
       "{'Age': array([24, 27, 32, 27, 25, 29, 21, 31, 24]),\n",
       " 'Gender': array(['Male', 'Male', 'Female', 'Female', 'Female', 'Male', 'Male',\n",
       "        'Male', 'Male'], dtype=object),\n",
       " 'How experienced are you with the use of remote controllers?': array([ 9,  5,  3, 10,  3, 10, 10,  5, 10]),\n",
       " 'How experienced are you with the use of remote controllers for controlling drones?': array([9, 2, 3, 1, 1, 8, 1, 1, 3]),\n",
       " 'Which interface was easier to use for the task?': array(['Wearable', 'Wearable', 'Wearable', 'Wearable', 'Wearable',\n",
       "        'Wearable', 'Wearable', 'Wearable', 'Wearable'], dtype=object),\n",
       " 'How useful was the haptic inteface?': array([10,  9,  9, 10,  9, 10, 10,  6,  9]),\n",
       " 'Which interface did you prefer?': array(['Werable', 'Werable', 'Werable', 'Werable', 'Werable', 'Werable',\n",
       "        'Werable', 'Werable', 'Werable'], dtype=object),\n",
       " 'Why?': array(['Gives a sense of depth',\n",
       "        'It was nice to have the physical motion associated with the motion of your hand',\n",
       "        \"it was easier to control and it felt more similar to human's hand control.\",\n",
       "        \"due to vibrations it's possible to align not only visually to go through.\",\n",
       "        'Because the vibrations help in knowing how close you are to the objective. If not, it is quite difficult to measure the depth (it is more trial and error and depends on the size of the robot)',\n",
       "        'The wearable interface feels more natural and the vibration feedback is useful to understand the drone position',\n",
       "        'Physical feedback compensated the lack of vision I had. Without any change in the viewpoint and the haptic ,it was really difficult if not impossible, to do the tasks with the controller.',\n",
       "        'having a feedback',\n",
       "        'Wearable control is more fun and haptic interface helps a lot to feel distances'],\n",
       "       dtype=object),\n",
       " 'Please give your personal feedback/impressions': array(['The vibrating gloves are comfortable to use and approximately understand ',\n",
       "        'It would be nice to not have the vibration by default from the start of the flight. Adding more vibrational elements to the glove (or even making arrays of them if they are smaller) might be useful. The controller could be also integrated in the glove, I guess.',\n",
       "        'the vibration was very useful, if the behind wall was in a unique color it would be better.',\n",
       "        'Tasks were interesting and getting more challenging from 1 to 3. \\nLiked an idea of this glove. Sure, it will find an application.',\n",
       "        \"I believe it is hard to measure the depth mostly when the robot has no shadow. The vibrations are a good way to help in the successful of the task, nevertheless sometimes the wearable could more difficult to control since you don't have the actions separately (go up, down, left, right, forward, backwards, as you can have it with the joystick)  \",\n",
       "        'It was hard to accomplish the tasks with the remote due to the lack of depth perception. The haptic glove was very helpful, expecially in tasks 2 and 3',\n",
       "        'The haptic interface was really good. It could help to change the position of the motors on the gloves considering the position of the while in control. To have them correspond more with the spatial coordinates.',\n",
       "        'The place of vibrator for forward direction was not intuitive because when grasping the fingers are not in forward direction',\n",
       "        'Even if haptic interface helps a lot to feel distances, it is still not as easy as when you are able to rotate the camera'],\n",
       "       dtype=object)}"
      ]
     },
     "execution_count": 26,
     "metadata": {},
     "output_type": "execute_result"
    }
   ],
   "source": [
    "data_sim"
   ]
  },
  {
   "cell_type": "code",
   "execution_count": 27,
   "metadata": {},
   "outputs": [],
   "source": [
    "res = [9,10,10,10]"
   ]
  },
  {
   "cell_type": "code",
   "execution_count": 28,
   "metadata": {},
   "outputs": [
    {
     "data": {
      "text/plain": [
       "9.75"
      ]
     },
     "execution_count": 28,
     "metadata": {},
     "output_type": "execute_result"
    }
   ],
   "source": [
    "np.mean(res)"
   ]
  },
  {
   "cell_type": "code",
   "execution_count": 29,
   "metadata": {},
   "outputs": [
    {
     "data": {
      "text/plain": [
       "0.4330127018922193"
      ]
     },
     "execution_count": 29,
     "metadata": {},
     "output_type": "execute_result"
    }
   ],
   "source": [
    "np.std(res)"
   ]
  },
  {
   "cell_type": "code",
   "execution_count": 30,
   "metadata": {},
   "outputs": [],
   "source": [
    "remote_exp =  [7, 7 ,7 ,9,   9, 5, 3, 10,3, 10, 10, 5, 10, 9,8, 10, 10, 8, 5, 5, 10, 7, 10, 5, 4, 8]"
   ]
  },
  {
   "cell_type": "code",
   "execution_count": 31,
   "metadata": {},
   "outputs": [
    {
     "data": {
      "text/plain": [
       "7.461538461538462"
      ]
     },
     "execution_count": 31,
     "metadata": {},
     "output_type": "execute_result"
    }
   ],
   "source": [
    "np.mean(remote_exp)"
   ]
  },
  {
   "cell_type": "code",
   "execution_count": 32,
   "metadata": {},
   "outputs": [
    {
     "data": {
      "text/plain": [
       "2.3407883161081444"
      ]
     },
     "execution_count": 32,
     "metadata": {},
     "output_type": "execute_result"
    }
   ],
   "source": [
    "np.std(remote_exp)"
   ]
  },
  {
   "cell_type": "code",
   "execution_count": null,
   "metadata": {},
   "outputs": [],
   "source": []
  }
 ],
 "metadata": {
  "kernelspec": {
   "display_name": "Python 3",
   "language": "python",
   "name": "python3"
  },
  "language_info": {
   "codemirror_mode": {
    "name": "ipython",
    "version": 3
   },
   "file_extension": ".py",
   "mimetype": "text/x-python",
   "name": "python",
   "nbconvert_exporter": "python",
   "pygments_lexer": "ipython3",
   "version": "3.7.5"
  }
 },
 "nbformat": 4,
 "nbformat_minor": 4
}
