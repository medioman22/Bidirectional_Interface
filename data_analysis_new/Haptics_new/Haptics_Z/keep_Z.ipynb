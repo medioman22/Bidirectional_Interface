{
 "cells": [
  {
   "cell_type": "code",
   "execution_count": 1,
   "metadata": {},
   "outputs": [],
   "source": [
    "import os"
   ]
  },
  {
   "cell_type": "code",
   "execution_count": 2,
   "metadata": {},
   "outputs": [
    {
     "data": {
      "text/plain": [
       "['sub3_MotionCapture',\n",
       " 'sub7_Controller',\n",
       " 'sub6_h_MotionCapture',\n",
       " 'sub7_MotionCapture',\n",
       " 'sub1_h_MotionCapture',\n",
       " '.DS_Store',\n",
       " 'sub4_MotionCapture',\n",
       " 'sub2_Controller',\n",
       " 'sub8_Controller',\n",
       " 'sub5_Controller',\n",
       " 'sub8_h_MotionCapture',\n",
       " 'sub7_h_MotionCapture',\n",
       " 'sub8_MotionCapture',\n",
       " 'sub3_Controller',\n",
       " 'sub2_h_MotionCapture',\n",
       " 'sub5_h_MotionCapture',\n",
       " 'sub6_Controller',\n",
       " 'sub1_Controller',\n",
       " '.ipynb_checkpoints',\n",
       " 'sub5_MotionCapture',\n",
       " 'sub1_MotionCapture',\n",
       " 'sub4_h_MotionCapture',\n",
       " 'keep_Z.ipynb',\n",
       " 'sub3_h_MotionCapture',\n",
       " 'sub6_MotionCapture',\n",
       " 'sub4_Controller',\n",
       " 'sub2_MotionCapture']"
      ]
     },
     "execution_count": 2,
     "metadata": {},
     "output_type": "execute_result"
    }
   ],
   "source": [
    "dir = os.listdir()\n",
    "dir"
   ]
  },
  {
   "cell_type": "code",
   "execution_count": 3,
   "metadata": {},
   "outputs": [],
   "source": [
    "for d in dir:\n",
    "    if 'sub' in d:\n",
    "        os.chdir(d)\n",
    "        \n",
    "        subdir = os.listdir()\n",
    "        for s in subdir:\n",
    "            if 'X_' in s or 'Y_' in s:\n",
    "                os.remove(s)\n",
    "        \n",
    "        os.chdir('..')"
   ]
  },
  {
   "cell_type": "code",
   "execution_count": 12,
   "metadata": {},
   "outputs": [
    {
     "data": {
      "text/plain": [
       "'/Users/matteomacchini/Documents/github/Bidirectional_Interface/data_analysis_new/Haptics_new/Haptics_Y/sub3_MotionCapture'"
      ]
     },
     "execution_count": 12,
     "metadata": {},
     "output_type": "execute_result"
    }
   ],
   "source": [
    "os.getcwd()"
   ]
  },
  {
   "cell_type": "code",
   "execution_count": null,
   "metadata": {},
   "outputs": [],
   "source": [
    "os.chdir(*)"
   ]
  }
 ],
 "metadata": {
  "kernelspec": {
   "display_name": "Python 3",
   "language": "python",
   "name": "python3"
  },
  "language_info": {
   "codemirror_mode": {
    "name": "ipython",
    "version": 3
   },
   "file_extension": ".py",
   "mimetype": "text/x-python",
   "name": "python",
   "nbconvert_exporter": "python",
   "pygments_lexer": "ipython3",
   "version": "3.7.3"
  }
 },
 "nbformat": 4,
 "nbformat_minor": 2
}
