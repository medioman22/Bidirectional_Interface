{
 "cells": [
  {
   "cell_type": "code",
   "execution_count": 1,
   "metadata": {},
   "outputs": [],
   "source": [
    "import os"
   ]
  },
  {
   "cell_type": "code",
   "execution_count": 2,
   "metadata": {},
   "outputs": [],
   "source": [
    "dir = os.listdir()"
   ]
  },
  {
   "cell_type": "code",
   "execution_count": 33,
   "metadata": {},
   "outputs": [],
   "source": [
    "for d in dir:\n",
    "    if 'Haptics' in d:\n",
    "        os.chdir(d)\n",
    "        \n",
    "        d_in = os.listdir()\n",
    "        \n",
    "        for d_sub in d_in:\n",
    "            if 'MotionCapture' in d_sub and '_h' not in d_sub:\n",
    "                os.rename(d_sub, d_sub.replace('MotionCapture', 'Glove_nohaptics'))\n",
    "            if 'MotionCapture' in d_sub and '_h' in d_sub:\n",
    "                os.rename(d_sub, d_sub.replace('MotionCapture_h', 'Glove_haptics'))\n",
    "#             if 'Gloveaptics' in d_sub:\n",
    "#                 os.rename(d_sub, d_sub.replace('Gloveaptics', 'Glove_haptics'))\n",
    "        \n",
    "        os.chdir('..')\n",
    "        "
   ]
  },
  {
   "cell_type": "code",
   "execution_count": 29,
   "metadata": {},
   "outputs": [],
   "source": [
    "os.chdir('..')"
   ]
  },
  {
   "cell_type": "code",
   "execution_count": 24,
   "metadata": {},
   "outputs": [
    {
     "data": {
      "text/plain": [
       "'/Users/matteomacchini/Documents/github/Bidirectional_Interface/data_analysis_new/Haptics_new'"
      ]
     },
     "execution_count": 24,
     "metadata": {},
     "output_type": "execute_result"
    }
   ],
   "source": [
    "os.getcwd()"
   ]
  },
  {
   "cell_type": "code",
   "execution_count": null,
   "metadata": {},
   "outputs": [],
   "source": []
  }
 ],
 "metadata": {
  "kernelspec": {
   "display_name": "Python 3",
   "language": "python",
   "name": "python3"
  },
  "language_info": {
   "codemirror_mode": {
    "name": "ipython",
    "version": 3
   },
   "file_extension": ".py",
   "mimetype": "text/x-python",
   "name": "python",
   "nbconvert_exporter": "python",
   "pygments_lexer": "ipython3",
   "version": "3.7.3"
  }
 },
 "nbformat": 4,
 "nbformat_minor": 2
}
