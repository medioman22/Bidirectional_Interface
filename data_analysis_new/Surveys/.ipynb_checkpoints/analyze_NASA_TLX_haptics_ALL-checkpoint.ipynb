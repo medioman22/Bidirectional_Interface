{
 "cells": [
  {
   "cell_type": "markdown",
   "metadata": {},
   "source": [
    "# Analyse survey"
   ]
  },
  {
   "cell_type": "markdown",
   "metadata": {},
   "source": [
    "## Imports"
   ]
  },
  {
   "cell_type": "code",
   "execution_count": 1,
   "metadata": {},
   "outputs": [],
   "source": [
    "# -*- coding: utf-8 -*-\n",
    "\"\"\"\n",
    "Created on Fri Nov 16 13:02:17 2018\n",
    "\n",
    "@author: macchini\n",
    "\"\"\"\n",
    "\n",
    "import os,sys\n",
    "sys.path.insert(1, os.path.join(sys.path[0], '..'))\n",
    "\n",
    "import my_plots\n",
    "import numpy as np\n",
    "import pandas as pd\n",
    "import matplotlib.pyplot as plt\n",
    "import matplotlib as mpl\n",
    "import utils\n",
    "\n",
    "from numpy.random import seed\n",
    "from numpy.random import randn\n",
    "from scipy.stats import kruskal\n",
    "\n",
    "from collections import Counter\n",
    "from matplotlib.pylab import savefig"
   ]
  },
  {
   "cell_type": "code",
   "execution_count": 2,
   "metadata": {},
   "outputs": [],
   "source": [
    "# plot settings\n",
    "\n",
    "lw = 1.5\n",
    "\n",
    "fs = 13\n",
    "\n",
    "params = {\n",
    "    'axes.labelsize': fs,\n",
    "    'font.size': fs,\n",
    "    'legend.fontsize': fs,\n",
    "    'xtick.labelsize': fs,\n",
    "    'ytick.labelsize': fs,\n",
    "    'text.usetex': False,\n",
    "    'figure.figsize': [4, 4],\n",
    "    'boxplot.boxprops.linewidth' : lw,\n",
    "    'boxplot.whiskerprops.linewidth' : lw,\n",
    "    'boxplot.capprops.linewidth' : lw,\n",
    "    'boxplot.medianprops.linewidth' : lw,\n",
    "    'text.usetex' : True,\n",
    "    'font.family' : 'serif',\n",
    "\n",
    "   }\n",
    "mpl.rcParams.update(params)"
   ]
  },
  {
   "cell_type": "markdown",
   "metadata": {},
   "source": [
    "## Load file and create dataframe"
   ]
  },
  {
   "cell_type": "code",
   "execution_count": 3,
   "metadata": {},
   "outputs": [],
   "source": [
    "folder = './'\n",
    "\n",
    "csv = 'Bidirectional_haptics_new.csv'"
   ]
  },
  {
   "cell_type": "code",
   "execution_count": 4,
   "metadata": {
    "scrolled": true
   },
   "outputs": [
    {
     "data": {
      "text/html": [
       "<div>\n",
       "<style scoped>\n",
       "    .dataframe tbody tr th:only-of-type {\n",
       "        vertical-align: middle;\n",
       "    }\n",
       "\n",
       "    .dataframe tbody tr th {\n",
       "        vertical-align: top;\n",
       "    }\n",
       "\n",
       "    .dataframe thead th {\n",
       "        text-align: right;\n",
       "    }\n",
       "</style>\n",
       "<table border=\"1\" class=\"dataframe\">\n",
       "  <thead>\n",
       "    <tr style=\"text-align: right;\">\n",
       "      <th></th>\n",
       "      <th>Timestamp</th>\n",
       "      <th>Subject n°</th>\n",
       "      <th>Age</th>\n",
       "      <th>Gender</th>\n",
       "      <th>Which interface was easier to use for the task?</th>\n",
       "      <th>Which interface did you prefer?</th>\n",
       "      <th>How useful was the haptic inteface?</th>\n",
       "      <th>Why?</th>\n",
       "      <th>Please give your personal feedback/impressions</th>\n",
       "    </tr>\n",
       "  </thead>\n",
       "  <tbody>\n",
       "    <tr>\n",
       "      <td>0</td>\n",
       "      <td>2020/02/20 11:11:14 am CET</td>\n",
       "      <td>2</td>\n",
       "      <td>27</td>\n",
       "      <td>Male</td>\n",
       "      <td>Wearable</td>\n",
       "      <td>Wearable</td>\n",
       "      <td>8</td>\n",
       "      <td>Given that there were no specific fiducials on...</td>\n",
       "      <td>Very interesting experiment! It would be worth...</td>\n",
       "    </tr>\n",
       "    <tr>\n",
       "      <td>1</td>\n",
       "      <td>2020/02/20 11:53:16 am CET</td>\n",
       "      <td>3</td>\n",
       "      <td>22</td>\n",
       "      <td>Male</td>\n",
       "      <td>Remote</td>\n",
       "      <td>Wearable</td>\n",
       "      <td>7</td>\n",
       "      <td>hepls to know when zou are close to an obstacl...</td>\n",
       "      <td>Reallz good experiment, well conducted, instru...</td>\n",
       "    </tr>\n",
       "    <tr>\n",
       "      <td>2</td>\n",
       "      <td>2020/02/20 2:41:54 pm CET</td>\n",
       "      <td>4</td>\n",
       "      <td>21</td>\n",
       "      <td>Male</td>\n",
       "      <td>Wearable</td>\n",
       "      <td>Wearable</td>\n",
       "      <td>10</td>\n",
       "      <td>It can help feeling where the obstacles are wh...</td>\n",
       "      <td>It is really comfortable and easier to fly wit...</td>\n",
       "    </tr>\n",
       "    <tr>\n",
       "      <td>3</td>\n",
       "      <td>2020/02/20 4:01:42 pm CET</td>\n",
       "      <td>5</td>\n",
       "      <td>31</td>\n",
       "      <td>Male</td>\n",
       "      <td>Wearable</td>\n",
       "      <td>Wearable</td>\n",
       "      <td>10</td>\n",
       "      <td>in some of the tasks there is no way of accomp...</td>\n",
       "      <td>Maybe more motors could give an even better ex...</td>\n",
       "    </tr>\n",
       "    <tr>\n",
       "      <td>4</td>\n",
       "      <td>2020/02/20 4:59:55 pm CET</td>\n",
       "      <td>6</td>\n",
       "      <td>21</td>\n",
       "      <td>Male</td>\n",
       "      <td>Remote</td>\n",
       "      <td>Wearable</td>\n",
       "      <td>8</td>\n",
       "      <td>Helps evaluating how far is the obstacle from ...</td>\n",
       "      <td>The haptics is very usefull but it is difficul...</td>\n",
       "    </tr>\n",
       "    <tr>\n",
       "      <td>5</td>\n",
       "      <td>2020/02/24 7:19:34 pm CET</td>\n",
       "      <td>1</td>\n",
       "      <td>30</td>\n",
       "      <td>Male</td>\n",
       "      <td>Wearable</td>\n",
       "      <td>Wearable</td>\n",
       "      <td>10</td>\n",
       "      <td>Better distance perception, more fun</td>\n",
       "      <td>...</td>\n",
       "    </tr>\n",
       "    <tr>\n",
       "      <td>6</td>\n",
       "      <td>2020/02/24 7:20:32 pm CET</td>\n",
       "      <td>7</td>\n",
       "      <td>23</td>\n",
       "      <td>Male</td>\n",
       "      <td>Wearable</td>\n",
       "      <td>Wearable</td>\n",
       "      <td>10</td>\n",
       "      <td>The haptics interface helps preventing collisi...</td>\n",
       "      <td>...</td>\n",
       "    </tr>\n",
       "    <tr>\n",
       "      <td>7</td>\n",
       "      <td>2020/02/24 7:20:58 pm CET</td>\n",
       "      <td>8</td>\n",
       "      <td>30</td>\n",
       "      <td>Male</td>\n",
       "      <td>Wearable</td>\n",
       "      <td>Wearable</td>\n",
       "      <td>9</td>\n",
       "      <td>Easier to avoid obstacles</td>\n",
       "      <td>...</td>\n",
       "    </tr>\n",
       "    <tr>\n",
       "      <td>8</td>\n",
       "      <td>2020/02/24 7:22:16 pm CET</td>\n",
       "      <td>9</td>\n",
       "      <td>26</td>\n",
       "      <td>Female</td>\n",
       "      <td>Wearable</td>\n",
       "      <td>Wearable</td>\n",
       "      <td>10</td>\n",
       "      <td>The glove is an engaging and fun solution for ...</td>\n",
       "      <td>...</td>\n",
       "    </tr>\n",
       "  </tbody>\n",
       "</table>\n",
       "</div>"
      ],
      "text/plain": [
       "                    Timestamp  Subject n°  Age  Gender  \\\n",
       "0  2020/02/20 11:11:14 am CET           2   27    Male   \n",
       "1  2020/02/20 11:53:16 am CET           3   22    Male   \n",
       "2   2020/02/20 2:41:54 pm CET           4   21    Male   \n",
       "3   2020/02/20 4:01:42 pm CET           5   31    Male   \n",
       "4   2020/02/20 4:59:55 pm CET           6   21    Male   \n",
       "5   2020/02/24 7:19:34 pm CET           1   30    Male   \n",
       "6   2020/02/24 7:20:32 pm CET           7   23    Male   \n",
       "7   2020/02/24 7:20:58 pm CET           8   30    Male   \n",
       "8   2020/02/24 7:22:16 pm CET           9   26  Female   \n",
       "\n",
       "  Which interface was easier to use for the task?  \\\n",
       "0                                        Wearable   \n",
       "1                                          Remote   \n",
       "2                                        Wearable   \n",
       "3                                        Wearable   \n",
       "4                                          Remote   \n",
       "5                                        Wearable   \n",
       "6                                        Wearable   \n",
       "7                                        Wearable   \n",
       "8                                        Wearable   \n",
       "\n",
       "  Which interface did you prefer?  How useful was the haptic inteface?  \\\n",
       "0                        Wearable                                    8   \n",
       "1                        Wearable                                    7   \n",
       "2                        Wearable                                   10   \n",
       "3                        Wearable                                   10   \n",
       "4                        Wearable                                    8   \n",
       "5                        Wearable                                   10   \n",
       "6                        Wearable                                   10   \n",
       "7                        Wearable                                    9   \n",
       "8                        Wearable                                   10   \n",
       "\n",
       "                                                Why?  \\\n",
       "0  Given that there were no specific fiducials on...   \n",
       "1  hepls to know when zou are close to an obstacl...   \n",
       "2  It can help feeling where the obstacles are wh...   \n",
       "3  in some of the tasks there is no way of accomp...   \n",
       "4  Helps evaluating how far is the obstacle from ...   \n",
       "5               Better distance perception, more fun   \n",
       "6  The haptics interface helps preventing collisi...   \n",
       "7                          Easier to avoid obstacles   \n",
       "8  The glove is an engaging and fun solution for ...   \n",
       "\n",
       "      Please give your personal feedback/impressions  \n",
       "0  Very interesting experiment! It would be worth...  \n",
       "1  Reallz good experiment, well conducted, instru...  \n",
       "2  It is really comfortable and easier to fly wit...  \n",
       "3  Maybe more motors could give an even better ex...  \n",
       "4  The haptics is very usefull but it is difficul...  \n",
       "5                                                ...  \n",
       "6                                                ...  \n",
       "7                                                ...  \n",
       "8                                                ...  "
      ]
     },
     "execution_count": 4,
     "metadata": {},
     "output_type": "execute_result"
    }
   ],
   "source": [
    "answers_df = pd.read_csv(os.path.join(folder, csv))\n",
    "\n",
    "answers_df_sim = answers_df.iloc[[0,1,2,3,4,5,6,7,8]]\n",
    "answers_df_sim"
   ]
  },
  {
   "cell_type": "markdown",
   "metadata": {},
   "source": [
    "## Separate questions"
   ]
  },
  {
   "cell_type": "code",
   "execution_count": 5,
   "metadata": {},
   "outputs": [],
   "source": [
    "data_sim = {}\n",
    "\n",
    "\n",
    "age = 'Age'\n",
    "gender = 'Gender'\n",
    "easier = 'Which interface was easier to use for the task?'\n",
    "haptics = 'How useful was the haptic inteface?'\n",
    "prefered = 'Which interface did you prefer?'\n",
    "why = 'Why?'\n",
    "feedback = 'Please give your personal feedback/impressions'\n",
    "\n",
    "questions = [age, gender, easier, haptics, prefered, why, feedback]\n",
    "\n",
    "for q in questions:\n",
    "    data_sim[q] = answers_df_sim[q].values"
   ]
  },
  {
   "cell_type": "markdown",
   "metadata": {},
   "source": [
    "## Compute mean and average"
   ]
  },
  {
   "cell_type": "code",
   "execution_count": 6,
   "metadata": {},
   "outputs": [
    {
     "name": "stdout",
     "output_type": "stream",
     "text": [
      "{'Age': [25.666666666666668, 3.829708431025353]}\n"
     ]
    }
   ],
   "source": [
    "def compute_stats(data):\n",
    "\n",
    "    stats = {}\n",
    "\n",
    "    mean_index = 0\n",
    "    std_index = 1\n",
    "\n",
    "    for q in [age]:\n",
    "        stats[q] = [0, 0]\n",
    "        stats[q][mean_index] = np.mean(data[q])\n",
    "        stats[q][std_index] = np.std(data[q])\n",
    "\n",
    "    print(stats)\n",
    "    \n",
    "    return stats\n",
    "\n",
    "stats_sim = compute_stats(data_sim)"
   ]
  },
  {
   "cell_type": "markdown",
   "metadata": {},
   "source": [
    "## Results"
   ]
  },
  {
   "cell_type": "markdown",
   "metadata": {},
   "source": [
    "Stats (similarly for stats_hw for the hardware experiments) is a nested dictionnary containing the mean and std for each question of the survey, separated depending on the interface (remote or motion) and run (first or last)\n",
    "\n",
    "data (similarly data_hw) can be used to create boxplot for the distribution of answers."
   ]
  },
  {
   "cell_type": "code",
   "execution_count": 7,
   "metadata": {},
   "outputs": [
    {
     "name": "stdout",
     "output_type": "stream",
     "text": [
      "[8, 8, 7, 10, 10, 10, 10, 10, 9]\n",
      "9.11111111111111\n"
     ]
    },
    {
     "data": {
      "image/png": "[encoded data removed]",
      "text/plain": [
       "<Figure size 864x288 with 3 Axes>"
      ]
     },
     "metadata": {
      "needs_background": "light"
     },
     "output_type": "display_data"
    }
   ],
   "source": [
    "resp_data = {}\n",
    "\n",
    "resp_data[easier] = Counter(data_sim[easier])\n",
    "resp_data[prefered] = Counter(data_sim[prefered])\n",
    "\n",
    "resp_data[easier]['Equivalent'] = 0\n",
    "resp_data[easier]['Remote'] = 0\n",
    "resp_data[prefered]['Equivalent'] = 0\n",
    "resp_data[prefered]['Remote'] = 0\n",
    "\n",
    "c1 = 'g'\n",
    "c2 = 'b'\n",
    "c3 = 'r'\n",
    "\n",
    "c = [c1, c2, c3]\n",
    "\n",
    "qs = ['QH 1', 'QH 2']\n",
    "\n",
    "fig = plt.figure(figsize = (12,4))\n",
    "for jdx, j in enumerate(resp_data):\n",
    "    \n",
    "    ax = fig.add_subplot(1, 3, 1+jdx)\n",
    "\n",
    "    options = []\n",
    "    resp = []\n",
    "\n",
    "    for i in sorted(resp_data[j]):\n",
    "        options.append(i)\n",
    "        resp.append(resp_data[j][i])\n",
    "\n",
    "    for idx, i in enumerate(options):\n",
    "        plt.bar(1+idx, resp[idx], label = i, color = c[idx])\n",
    "\n",
    "    if jdx==0:\n",
    "        plt.legend(loc = 'upper left')  \n",
    "    plt.grid()    \n",
    "    plt.ylim(0,10)\n",
    "    plt.xticks([2], [qs[jdx]])\n",
    "    plt.ylabel('Responses')\n",
    "    ax.spines['right'].set_visible(False)\n",
    "    ax.spines['top'].set_visible(False)\n",
    "    \n",
    "    \n",
    "resp_data[haptics] = Counter(data_sim[haptics])\n",
    "hapt_resp = []\n",
    "for i in resp_data[haptics]:\n",
    "    hapt_resp.extend([i]*resp_data[haptics][i])\n",
    "    \n",
    "print(hapt_resp)\n",
    "\n",
    "ax = fig.add_subplot(1, 3, 3)\n",
    "\n",
    "ax.bar(1, np.mean(hapt_resp), yerr = np.std(hapt_resp), color = 'b', ecolor = 'b')\n",
    "plt.xlim(0,2)\n",
    "plt.xticks([1], ['QH 3'])\n",
    "plt.ylabel('Score')\n",
    "plt.grid()   \n",
    "\n",
    "savefig('hapt_quest.pdf', bbox_inches='tight')\n",
    "\n",
    "print(np.mean(hapt_resp))"
   ]
  },
  {
   "cell_type": "code",
   "execution_count": 8,
   "metadata": {
    "jupyter": {
     "source_hidden": true
    }
   },
   "outputs": [
    {
     "name": "stdout",
     "output_type": "stream",
     "text": [
      "Counter({'Wearable': 7, 'Remote': 0, 'Equivalent': 0})\n",
      "Counter({10: 5, 8: 2, 7: 1, 9: 1})\n",
      "Counter({'Wearable': 9, 'Equivalent': 0, 'Remote': 0})\n"
     ]
    }
   ],
   "source": [
    "print(resp_data[easier])\n",
    "print(resp_data[haptics])\n",
    "print(resp_data[prefered])"
   ]
  },
  {
   "cell_type": "markdown",
   "metadata": {},
   "source": [
    "# Questionnaire"
   ]
  },
  {
   "cell_type": "code",
   "execution_count": 9,
   "metadata": {},
   "outputs": [
    {
     "name": "stdout",
     "output_type": "stream",
     "text": [
      "SIMULATION\n",
      "-----------\n",
      "Why?\n",
      "-----------\n",
      "\n",
      "Given that there were no specific fiducials on the obstacle surface, it was extremely difficult  to ascertain the position of the robot relative to the obstacle. The difficulty was compunded for the remote controller because its sensitivity made it very hard to make gradual, gentle movements. On the other hand, the wearable interface without haptics was much better at making gradual movements. However, the problem of determining the relative position of the drone to the obstacle was not resolved until haptic feedback was provided.  \n",
      "\n",
      "hepls to know when zou are close to an obstacle and then to adapt the control to be more accurate. If zou approaching to fast, zou do not have time to integrate the vibrations and adapt the control.\n",
      "\n",
      "It can help feeling where the obstacles are when you cannot see them and it is then really useful to avoid them.\n",
      "\n",
      "in some of the tasks there is no way of accomplishing without it\n",
      "\n",
      "Helps evaluating how far is the obstacle from the drone\n",
      "\n",
      "Better distance perception, more fun\n",
      "\n",
      "The haptics interface helps preventing collisions and increases distance recognition\n",
      "\n",
      "Easier to avoid obstacles\n",
      "\n",
      "The glove is an engaging and fun solution for drone teleoperation. Also, the vibrations help perceiving obstacles which are not easy to avoid using only visual feedback\n",
      "\n",
      "-----------\n",
      "Please give your personal feedback/impressions\n",
      "-----------\n",
      "\n",
      "Very interesting experiment! It would be worth exploring the differences in performance between first and third person control. Also, I would recommend replacing the mouse for a simpler, lightweight click button that people can hold more easily. \n",
      "\n",
      "Reallz good experiment, well conducted, instructions are easz to understand.\n",
      "\n",
      "It is really comfortable and easier to fly with the haptic interface. It also requires less concentration to fly with it. \n",
      "\n",
      "Maybe more motors could give an even better experience (with the wearable interface)\n",
      "\n",
      "The haptics is very usefull but it is difficult to control the drone with the glove, remote is much easier\n",
      "\n",
      "...\n",
      "\n",
      "...\n",
      "\n",
      "...\n",
      "\n",
      "...\n",
      "\n"
     ]
    }
   ],
   "source": [
    "why_answers = data_sim[why]\n",
    "\n",
    "print('SIMULATION')\n",
    "print('-----------')\n",
    "print(why)\n",
    "print('-----------')\n",
    "print()\n",
    "\n",
    "for w in why_answers:\n",
    "    print(w)\n",
    "    print()\n",
    "    \n",
    "print('-----------')\n",
    "print(feedback)\n",
    "print('-----------')\n",
    "print()\n",
    "\n",
    "feed_answers = data_sim[feedback]\n",
    "\n",
    "for f in feed_answers:\n",
    "    print(f)\n",
    "    print()"
   ]
  },
  {
   "cell_type": "markdown",
   "metadata": {},
   "source": [
    "# Backup - pie charts"
   ]
  },
  {
   "cell_type": "code",
   "execution_count": 11,
   "metadata": {},
   "outputs": [
    {
     "data": {
      "image/png": "[encoded data removed]",
      "text/plain": [
       "<Figure size 864x864 with 3 Axes>"
      ]
     },
     "metadata": {},
     "output_type": "display_data"
    }
   ],
   "source": [
    "def plot_pies(data):\n",
    "    \n",
    "    plt.figure(figsize = (12,12))\n",
    "\n",
    "    gender_pie_data = Counter(data[gender])\n",
    "    easier_pie_data = Counter(data[easier])\n",
    "    haptics_useful_pie_data = Counter(data[haptics])\n",
    "    prefered_pie_data = Counter(data[prefered])\n",
    "\n",
    "#     ax1 = plt.subplot(221)\n",
    "#     ax1.pie(gender_pie_data.values(), labels=gender_pie_data.keys(), autopct='%1.1f%%', startangle=90)\n",
    "#     ax1.axis('equal')  # Equal aspect ratio ensures that pie is drawn as a circle.\n",
    "#     ax1.set_title(gender)\n",
    "\n",
    "    ax1 = plt.subplot(231)\n",
    "    ax1.pie(easier_pie_data.values(), labels=easier_pie_data.keys(), autopct='%1.1f%%', startangle=90)\n",
    "    ax1.axis('equal')  # Equal aspect ratio ensures that pie is drawn as a circle.\n",
    "    ax1.set_title(easier)\n",
    "\n",
    "    ax1 = plt.subplot(232)\n",
    "    ax1.pie(haptics_useful_pie_data.values(), labels=haptics_useful_pie_data.keys(), autopct='%1.1f%%', startangle=90)\n",
    "    ax1.axis('equal')  # Equal aspect ratio ensures that pie is drawn as a circle.\n",
    "    ax1.set_title(haptics)\n",
    "\n",
    "    ax1 = plt.subplot(233)\n",
    "    ax1.pie(prefered_pie_data.values(), labels=prefered_pie_data.keys(), autopct='%1.1f%%', startangle=90)\n",
    "    ax1.axis('equal')  # Equal aspect ratio ensures that pie is drawn as a circle.\n",
    "    ax1.set_title(prefered)\n",
    "\n",
    "    plt.show()\n",
    "    \n",
    "plot_pies(data_sim)"
   ]
  },
  {
   "cell_type": "code",
   "execution_count": null,
   "metadata": {},
   "outputs": [],
   "source": []
  },
  {
   "cell_type": "code",
   "execution_count": 12,
   "metadata": {},
   "outputs": [],
   "source": [
    "# -*- coding: utf-8 -*-\n",
    "\"\"\"\n",
    "Created on Fri Nov 16 13:02:17 2018\n",
    "\n",
    "@author: macchini\n",
    "\"\"\"\n",
    "\n",
    "import os,sys\n",
    "sys.path.insert(1, os.path.join(sys.path[0], '..'))\n",
    "\n",
    "import my_plots\n",
    "import numpy as np\n",
    "import pandas as pd\n",
    "import matplotlib.pyplot as plt\n",
    "import matplotlib as mpl\n",
    "import utils\n",
    "\n",
    "from numpy.random import seed\n",
    "from numpy.random import randn\n",
    "from scipy.stats import kruskal\n",
    "\n",
    "from statistics import print_p"
   ]
  },
  {
   "cell_type": "markdown",
   "metadata": {},
   "source": [
    "## Load file and create dataframe"
   ]
  },
  {
   "cell_type": "code",
   "execution_count": 13,
   "metadata": {},
   "outputs": [],
   "source": [
    "folder = '.'\n",
    "\n",
    "files = os.listdir(folder)\n",
    "\n",
    "csv_1 = 'NASA_haptics_new.csv'\n",
    "csv_2 = 'NASA_haptics_new copy.csv'\n",
    "csv_3 = 'NASA_haptics_new copy 2.csv'"
   ]
  },
  {
   "cell_type": "code",
   "execution_count": 14,
   "metadata": {
    "scrolled": true
   },
   "outputs": [],
   "source": [
    "answers_df_1 = pd.read_csv(os.path.join(folder, csv_1))\n",
    "answers_df_2 = pd.read_csv(os.path.join(folder, csv_2))\n",
    "answers_df_3 = pd.read_csv(os.path.join(folder, csv_3))\n",
    "\n",
    "answers_df = pd.concat([answers_df_1, answers_df_2, answers_df_3])\n",
    "\n",
    "\n",
    "# Separate hardware and simulation experiments\n",
    "answers_df_hw = answers_df[answers_df['subject number'] >= 100]\n",
    "answers_df = answers_df[answers_df['subject number'] < 100]"
   ]
  },
  {
   "cell_type": "markdown",
   "metadata": {},
   "source": [
    "## Separate dataframe depending on interface/run"
   ]
  },
  {
   "cell_type": "code",
   "execution_count": 29,
   "metadata": {},
   "outputs": [],
   "source": [
    "types = ['remote', 'motion_NH', 'motion']\n",
    "\n",
    "# Separate answers depending on interface and run\n",
    "answers = {}\n",
    "answers[types[0]] = answers_df[answers_df['Interface'] == 'Remote']\n",
    "answers[types[1]] = answers_df[answers_df['Interface'] == 'Motion - no haptics']\n",
    "answers[types[2]] = answers_df[answers_df['Interface'] == 'Motion']"
   ]
  },
  {
   "cell_type": "markdown",
   "metadata": {},
   "source": [
    "## Separate questions"
   ]
  },
  {
   "cell_type": "code",
   "execution_count": 30,
   "metadata": {},
   "outputs": [],
   "source": [
    "data = {}\n",
    "\n",
    "mentally_demanding = 'How mentally demanding was the test?'\n",
    "physically_demanding = 'How physically demanding was the test?'\n",
    "pace = 'How hurried or rushed was the pace of the task?'\n",
    "successful = 'How successful were you in accomplishing what you were asked to do?'\n",
    "insecure = 'How insecure, discouraged, irritated, stresses, and annoyed were you?'\n",
    "\n",
    "questions = [mentally_demanding, physically_demanding, pace, successful, insecure]\n",
    "\n",
    "for i in types:\n",
    "    data[i] = {}\n",
    "    for q in questions:\n",
    "        data[i][q] = answers[i][q].values"
   ]
  },
  {
   "cell_type": "markdown",
   "metadata": {},
   "source": [
    "## Compute mean and average"
   ]
  },
  {
   "cell_type": "code",
   "execution_count": 31,
   "metadata": {},
   "outputs": [
    {
     "name": "stdout",
     "output_type": "stream",
     "text": [
      "remote\n",
      "How mentally demanding was the test?\n",
      "[3.2222222222222223, 0.9162456945817024]\n",
      "How physically demanding was the test?\n",
      "[1.6666666666666667, 0.8164965809277259]\n",
      "How hurried or rushed was the pace of the task?\n",
      "[1.7777777777777777, 0.6285393610547089]\n",
      "How successful were you in accomplishing what you were asked to do?\n",
      "[2.5555555555555554, 0.49690399499995325]\n",
      "How insecure, discouraged, irritated, stresses, and annoyed were you?\n",
      "[2.0, 0.6666666666666666]\n",
      "motion_NH\n",
      "How mentally demanding was the test?\n",
      "[3.111111111111111, 1.1967032904743342]\n",
      "How physically demanding was the test?\n",
      "[2.0, 0.6666666666666666]\n",
      "How hurried or rushed was the pace of the task?\n",
      "[1.8888888888888888, 0.7370277311900889]\n",
      "How successful were you in accomplishing what you were asked to do?\n",
      "[3.111111111111111, 0.9938079899999065]\n",
      "How insecure, discouraged, irritated, stresses, and annoyed were you?\n",
      "[1.8888888888888888, 0.7370277311900888]\n",
      "motion\n",
      "How mentally demanding was the test?\n",
      "[2.0, 1.1547005383792515]\n",
      "How physically demanding was the test?\n",
      "[2.0, 0.6666666666666666]\n",
      "How hurried or rushed was the pace of the task?\n",
      "[1.5555555555555556, 0.6849348892187752]\n",
      "How successful were you in accomplishing what you were asked to do?\n",
      "[4.333333333333333, 0.9428090415820635]\n",
      "How insecure, discouraged, irritated, stresses, and annoyed were you?\n",
      "[1.2222222222222223, 0.41573970964154905]\n"
     ]
    }
   ],
   "source": [
    "stats = {}\n",
    "stats_hw = {}\n",
    "\n",
    "mean_index = 0\n",
    "std_index = 1\n",
    "\n",
    "for i in types:\n",
    "    stats[i] = {}\n",
    "    for q in questions:\n",
    "        stats[i][q] = [0, 0]\n",
    "        stats[i][q][mean_index] = np.mean(data[i][q])\n",
    "        stats[i][q][std_index] = np.std(data[i][q])\n",
    "        \n",
    "for i in list(stats):\n",
    "    print(i)\n",
    "    for j in  list(stats[i]):\n",
    "        print(j)\n",
    "        print(stats[i][j])"
   ]
  },
  {
   "cell_type": "markdown",
   "metadata": {},
   "source": [
    "## Results"
   ]
  },
  {
   "cell_type": "markdown",
   "metadata": {},
   "source": [
    "Stats (similarly for stats_hw for the hardware experiments) is a nested dictionnary containing the mean and std for each question of the survey, separated depending on the interface (remote or motion) and run (first or last)\n",
    "\n",
    "data (similarly data_hw) can be used to create boxplot for the distribution of answers."
   ]
  },
  {
   "cell_type": "code",
   "execution_count": 32,
   "metadata": {},
   "outputs": [],
   "source": [
    "def t_test_kruskal(X, Y):\n",
    "    \n",
    "    # Kruskal-Wallis H-test\n",
    "    \n",
    "    # seed the random number generator\n",
    "    seed(1)\n",
    "    \n",
    "    # compare samples\n",
    "    stat, p = kruskal(X, Y)\n",
    "    \n",
    "    return [stat, p]"
   ]
  },
  {
   "cell_type": "code",
   "execution_count": 33,
   "metadata": {},
   "outputs": [
    {
     "name": "stdout",
     "output_type": "stream",
     "text": [
      "\n",
      "\n",
      "remote motion_NH How mentally demanding was the test?\n",
      "p = 0.7429397709635803\n",
      "remote motion_NH How physically demanding was the test?\n",
      "\u001b[31mp = 0.07994026836061813 !\u001b[0m\n",
      "remote motion_NH How hurried or rushed was the pace of the task?\n",
      "p = 0.6089352031866389\n",
      "remote motion_NH How successful were you in accomplishing what you were asked to do?\n",
      "\u001b[33mp = 0.042969075123320384 !!!!!!\u001b[0m\n",
      "remote motion_NH How insecure, discouraged, irritated, stresses, and annoyed were you?\n",
      "p = 0.5527989956194557\n",
      "\n",
      "remote motion How mentally demanding was the test?\n",
      "\u001b[32mp = 0.00026714599287167425 !!!!!!!!!!\u001b[0m\n",
      "remote motion How physically demanding was the test?\n",
      "\u001b[31mp = 0.07994026836061813 !\u001b[0m\n",
      "remote motion How hurried or rushed was the pace of the task?\n",
      "p = 0.1698298662828242\n",
      "remote motion How successful were you in accomplishing what you were asked to do?\n",
      "\u001b[32mp = 6.493678300476403e-08 !!!!!!!!!!\u001b[0m\n",
      "remote motion How insecure, discouraged, irritated, stresses, and annoyed were you?\n",
      "\u001b[32mp = 2.3869877245011646e-05 !!!!!!!!!!\u001b[0m\n",
      "\n",
      "\n",
      "motion_NH motion How mentally demanding was the test?\n",
      "\u001b[32mp = 0.00163567160816614 !!!!!!!!!!\u001b[0m\n",
      "motion_NH motion How physically demanding was the test?\n",
      "p = 1.0\n",
      "motion_NH motion How hurried or rushed was the pace of the task?\n",
      "\u001b[31mp = 0.09107784373226036 !\u001b[0m\n",
      "motion_NH motion How successful were you in accomplishing what you were asked to do?\n",
      "\u001b[32mp = 7.382315695212538e-05 !!!!!!!!!!\u001b[0m\n",
      "motion_NH motion How insecure, discouraged, irritated, stresses, and annoyed were you?\n",
      "\u001b[32mp = 0.00046066383319051565 !!!!!!!!!!\u001b[0m\n",
      "\n"
     ]
    }
   ],
   "source": [
    "for idx,i in enumerate(types):\n",
    "    print()\n",
    "    for j in types[idx+1:]:\n",
    "        print()\n",
    "        for q in questions:\n",
    "            if i != j:\n",
    "                # also, compare only first-last for same interface or first-first, last-last for different ones\n",
    "\n",
    "                t, p = t_test_kruskal(data[i][q],data[j][q])\n",
    "                print(i,j,q)\n",
    "                print_p(p)"
   ]
  },
  {
   "cell_type": "markdown",
   "metadata": {},
   "source": [
    "### remote-first motion-first How physically demanding was the test? p =  0.0488888176268915\n",
    "### remote-last motion-last How physically demanding was the test? p =  0.23390621098854886\n",
    "### remote-last motion-last How mentally demanding was the test? p =  0.01913961955875495\n",
    "### motion-first remote-first How mentally demanding was the test? p =  0.03344653009997241"
   ]
  },
  {
   "cell_type": "code",
   "execution_count": 34,
   "metadata": {},
   "outputs": [
    {
     "name": "stdout",
     "output_type": "stream",
     "text": [
      "remote\n",
      "{'How mentally demanding was the test?': [3.2222222222222223, 0.9162456945817024], 'How physically demanding was the test?': [1.6666666666666667, 0.8164965809277259], 'How hurried or rushed was the pace of the task?': [1.7777777777777777, 0.6285393610547089], 'How successful were you in accomplishing what you were asked to do?': [2.5555555555555554, 0.49690399499995325], 'How insecure, discouraged, irritated, stresses, and annoyed were you?': [2.0, 0.6666666666666666]}\n",
      "[3.2222222222222223, 1.6666666666666667, 1.7777777777777777, 2.5555555555555554, 2.0]\n",
      "[0.9162456945817024, 0.8164965809277259, 0.6285393610547089, 0.49690399499995325, 0.6666666666666666]\n",
      "motion_NH\n",
      "{'How mentally demanding was the test?': [3.111111111111111, 1.1967032904743342], 'How physically demanding was the test?': [2.0, 0.6666666666666666], 'How hurried or rushed was the pace of the task?': [1.8888888888888888, 0.7370277311900889], 'How successful were you in accomplishing what you were asked to do?': [3.111111111111111, 0.9938079899999065], 'How insecure, discouraged, irritated, stresses, and annoyed were you?': [1.8888888888888888, 0.7370277311900888]}\n",
      "[3.111111111111111, 2.0, 1.8888888888888888, 3.111111111111111, 1.8888888888888888]\n",
      "[1.1967032904743342, 0.6666666666666666, 0.7370277311900889, 0.9938079899999065, 0.7370277311900888]\n",
      "motion\n",
      "{'How mentally demanding was the test?': [2.0, 1.1547005383792515], 'How physically demanding was the test?': [2.0, 0.6666666666666666], 'How hurried or rushed was the pace of the task?': [1.5555555555555556, 0.6849348892187752], 'How successful were you in accomplishing what you were asked to do?': [4.333333333333333, 0.9428090415820635], 'How insecure, discouraged, irritated, stresses, and annoyed were you?': [1.2222222222222223, 0.41573970964154905]}\n",
      "[2.0, 2.0, 1.5555555555555556, 4.333333333333333, 1.2222222222222223]\n",
      "[1.1547005383792515, 0.6666666666666666, 0.6849348892187752, 0.9428090415820635, 0.41573970964154905]\n",
      "[[1.6666666666666667, 2.5555555555555554, 2.0], [2.0, 3.111111111111111, 1.8888888888888888], [2.0, 4.333333333333333, 1.2222222222222223]]\n",
      "[[0.8164965809277259, 0.49690399499995325, 0.6666666666666666], [0.6666666666666666, 0.9938079899999065, 0.7370277311900888], [0.6666666666666666, 0.9428090415820635, 0.41573970964154905]]\n"
     ]
    },
    {
     "data": {
      "image/png": "[encoded data removed]",
      "text/plain": [
       "<Figure size 1152x288 with 3 Axes>"
      ]
     },
     "metadata": {
      "needs_background": "light"
     },
     "output_type": "display_data"
    }
   ],
   "source": [
    "plt.figure(figsize=(16,4))\n",
    "\n",
    "vals = []\n",
    "errors = []\n",
    "\n",
    "for idx, s in enumerate(stats):\n",
    "    print(s)\n",
    "    print(stats[s])\n",
    "    \n",
    "    means = [stats[s][q][0] for q in questions]\n",
    "    stds = [stats[s][q][1] for q in questions]\n",
    "    \n",
    "    print(means)\n",
    "    print(stds)\n",
    "    \n",
    "    ax = plt.subplot(141+idx)\n",
    "    \n",
    "    ax.bar([0, 1, 2, 3, 4],\n",
    "       means,\n",
    "       yerr=stds)\n",
    "#     plt.title(s)\n",
    "    plt.ylim(0, 5)\n",
    "#     vals.append(means[1])\n",
    "#     stds.append(stds[1])\n",
    "#     vals.append(means[3:5])\n",
    "#     errors.append(stds[3:5])\n",
    "    vals.append([means[1], means[3], means[4]])\n",
    "    errors.append([stds[1], stds[3], stds[4]])\n",
    "#     stds.append([stds[3:5]])\n",
    "    \n",
    "print(vals)\n",
    "print(errors)"
   ]
  },
  {
   "cell_type": "code",
   "execution_count": 35,
   "metadata": {},
   "outputs": [
    {
     "data": {
      "text/plain": [
       "[[1.6666666666666667, 2.5555555555555554, 2.0],\n",
       " [2.0, 3.111111111111111, 1.8888888888888888],\n",
       " [2.0, 4.333333333333333, 1.2222222222222223]]"
      ]
     },
     "execution_count": 35,
     "metadata": {},
     "output_type": "execute_result"
    }
   ],
   "source": [
    "vals"
   ]
  },
  {
   "cell_type": "code",
   "execution_count": 36,
   "metadata": {},
   "outputs": [
    {
     "name": "stdout",
     "output_type": "stream",
     "text": [
      "bgr\n"
     ]
    },
    {
     "name": "stderr",
     "output_type": "stream",
     "text": [
      "/Users/lis/Documents/github/Bidirectional_Interface/data_analysis_new/Surveys/../my_plots.py:58: MatplotlibDeprecationWarning: Adding an axes using the same arguments as a previous axes currently reuses the earlier instance.  In a future version, a new instance will always be created and returned.  Meanwhile, this warning can be suppressed, and the future behavior ensured, by passing a unique label to each axes instance.\n",
      "  ax = plt.subplot(111)\n"
     ]
    },
    {
     "data": {
      "text/plain": [
       "<matplotlib.axes._subplots.AxesSubplot at 0x1a249853d0>"
      ]
     },
     "execution_count": 36,
     "metadata": {},
     "output_type": "execute_result"
    },
    {
     "data": {
      "image/png": "[encoded data removed]",
      "text/plain": [
       "<Figure size 288x288 with 1 Axes>"
      ]
     },
     "metadata": {
      "needs_background": "light"
     },
     "output_type": "display_data"
    }
   ],
   "source": [
    "plt.figure(figsize=(4,4))\n",
    "ax = plt.subplot(111)\n",
    "my_plots.bar_multi(vals, errors, legend = ['R','G','M'], xlabels = ['Q 2', 'Q 4', 'Q 5'], xlim = [0.5,3.5], yticks = [1,2,3,4,5], w =0.15, save = True, where = 'hapt_NASA.pdf', colors = 'bgr')"
   ]
  },
  {
   "cell_type": "markdown",
   "metadata": {},
   "source": [
    "# FINAL PLOTS"
   ]
  },
  {
   "cell_type": "code",
   "execution_count": 43,
   "metadata": {},
   "outputs": [
    {
     "name": "stdout",
     "output_type": "stream",
     "text": [
      "[8, 8, 7, 10, 10, 10, 10, 10, 9]\n",
      "remote\n",
      "{'How mentally demanding was the test?': [3.2222222222222223, 0.9162456945817024], 'How physically demanding was the test?': [1.6666666666666667, 0.8164965809277259], 'How hurried or rushed was the pace of the task?': [1.7777777777777777, 0.6285393610547089], 'How successful were you in accomplishing what you were asked to do?': [2.5555555555555554, 0.49690399499995325], 'How insecure, discouraged, irritated, stresses, and annoyed were you?': [2.0, 0.6666666666666666]}\n",
      "[3.2222222222222223, 1.6666666666666667, 1.7777777777777777, 2.5555555555555554, 2.0]\n",
      "[0.9162456945817024, 0.8164965809277259, 0.6285393610547089, 0.49690399499995325, 0.6666666666666666]\n",
      "motion_NH\n",
      "{'How mentally demanding was the test?': [3.111111111111111, 1.1967032904743342], 'How physically demanding was the test?': [2.0, 0.6666666666666666], 'How hurried or rushed was the pace of the task?': [1.8888888888888888, 0.7370277311900889], 'How successful were you in accomplishing what you were asked to do?': [3.111111111111111, 0.9938079899999065], 'How insecure, discouraged, irritated, stresses, and annoyed were you?': [1.8888888888888888, 0.7370277311900888]}\n",
      "[3.111111111111111, 2.0, 1.8888888888888888, 3.111111111111111, 1.8888888888888888]\n",
      "[1.1967032904743342, 0.6666666666666666, 0.7370277311900889, 0.9938079899999065, 0.7370277311900888]\n",
      "motion\n",
      "{'How mentally demanding was the test?': [2.0, 1.1547005383792515], 'How physically demanding was the test?': [2.0, 0.6666666666666666], 'How hurried or rushed was the pace of the task?': [1.5555555555555556, 0.6849348892187752], 'How successful were you in accomplishing what you were asked to do?': [4.333333333333333, 0.9428090415820635], 'How insecure, discouraged, irritated, stresses, and annoyed were you?': [1.2222222222222223, 0.41573970964154905]}\n",
      "[2.0, 2.0, 1.5555555555555556, 4.333333333333333, 1.2222222222222223]\n",
      "[1.1547005383792515, 0.6666666666666666, 0.6849348892187752, 0.9428090415820635, 0.41573970964154905]\n",
      "bgr\n"
     ]
    },
    {
     "name": "stderr",
     "output_type": "stream",
     "text": [
      "/Users/lis/anaconda3/envs/bidir/lib/python3.7/site-packages/ipykernel_launcher.py:61: MatplotlibDeprecationWarning: Adding an axes using the same arguments as a previous axes currently reuses the earlier instance.  In a future version, a new instance will always be created and returned.  Meanwhile, this warning can be suppressed, and the future behavior ensured, by passing a unique label to each axes instance.\n"
     ]
    },
    {
     "data": {
      "image/png": "[encoded data removed]",
      "text/plain": [
       "<Figure size 504x216 with 4 Axes>"
      ]
     },
     "metadata": {
      "needs_background": "light"
     },
     "output_type": "display_data"
    }
   ],
   "source": [
    "resp_data = {}\n",
    "\n",
    "resp_data[easier] = Counter(data_sim[easier])\n",
    "resp_data[prefered] = Counter(data_sim[prefered])\n",
    "\n",
    "resp_data[easier]['Equivalent'] = 0\n",
    "resp_data[easier]['Remote'] = 0\n",
    "resp_data[prefered]['Equivalent'] = 0\n",
    "resp_data[prefered]['Remote'] = 0\n",
    "\n",
    "c1 = 'gray'\n",
    "c2 = 'b'\n",
    "c3 = 'g'\n",
    "c4 = 'r'\n",
    "\n",
    "c = [c1, c2, c3, c4]\n",
    "\n",
    "qs = ['QH 1', 'QH 2']\n",
    "\n",
    "fig = plt.figure(figsize = (7,3))\n",
    "for jdx, j in enumerate(resp_data):\n",
    "    \n",
    "    ax = fig.add_subplot(1, 4, 2+jdx)\n",
    "\n",
    "    options = []\n",
    "    resp = []\n",
    "\n",
    "    for i in sorted(resp_data[j]):\n",
    "        options.append(i)\n",
    "        resp.append(resp_data[j][i])\n",
    "\n",
    "    for idx, i in enumerate(options):\n",
    "        plt.bar(1+idx, resp[idx], label = i, color = c[idx])\n",
    "        \n",
    "    if jdx==1:\n",
    "        plt.yticks([2,4,6,8,10], ['','','','',''])\n",
    "\n",
    "    plt.grid()    \n",
    "    plt.ylim(0,10)\n",
    "    plt.xticks([2], [qs[jdx]])\n",
    "#     plt.ylabel('Responses')\n",
    "    ax.spines['right'].set_visible(False)\n",
    "    ax.spines['top'].set_visible(False)\n",
    "    ax.xaxis.grid()\n",
    "    \n",
    "    \n",
    "ax = fig.add_subplot(1, 4, 1)\n",
    "plt.bar(1+idx, 0, label = 'Equivalent', color = c[0])\n",
    "plt.bar(1+idx, 0, label = 'Remote', color = c[1])\n",
    "plt.bar(1+idx, 0, label = 'Glove', color = c[2])\n",
    "plt.bar(1+idx, 0, label = 'Wearable', color = c[3])\n",
    "plt.legend(loc = 'upper left')  \n",
    "    \n",
    "resp_data[haptics] = Counter(data_sim[haptics])\n",
    "hapt_resp = []\n",
    "for i in resp_data[haptics]:\n",
    "    hapt_resp.extend([i]*resp_data[haptics][i])\n",
    "    \n",
    "print(hapt_resp)\n",
    "\n",
    "ax = fig.add_subplot(1, 4, 1)\n",
    "\n",
    "# ax.bar(1, np.mean(hapt_resp), yerr = np.std(hapt_resp), color = 'b', ecolor = 'b')\n",
    "# plt.xlim(0,2)\n",
    "plt.xticks([])\n",
    "plt.yticks([])\n",
    "# # plt.ylabel('Score')\n",
    "# plt.grid()   \n",
    "\n",
    "ax.spines['right'].set_visible(False)\n",
    "ax.spines['top'].set_visible(False)\n",
    "ax.spines['left'].set_visible(False)\n",
    "ax.spines['bottom'].set_visible(False)\n",
    "###\n",
    "\n",
    "vals = []\n",
    "errors = []\n",
    "\n",
    "for idx, s in enumerate(stats):\n",
    "    print(s)\n",
    "    print(stats[s])\n",
    "    \n",
    "    means = [stats[s][q][0] for q in questions]\n",
    "    stds = [stats[s][q][1] for q in questions]\n",
    "    \n",
    "    print(means)\n",
    "    print(stds)\n",
    "    \n",
    "#     ax = plt.subplot(141+idx)\n",
    "    \n",
    "#     ax.bar([0, 1, 2, 3, 4],\n",
    "#        means,\n",
    "#        yerr=stds)\n",
    "#     plt.title(s)\n",
    "#     plt.ylim(0, 5)\n",
    "#     vals.append(means[1])\n",
    "#     stds.append(stds[1])\n",
    "#     vals.append(means[3:5])\n",
    "#     errors.append(stds[3:5])\n",
    "    vals.append([means[1], means[3], means[4]])\n",
    "    errors.append([stds[1], stds[3], stds[4]])\n",
    "#     stds.append([stds[3:5]])\n",
    "\n",
    "ax = fig.add_subplot(144)\n",
    "my_plots.bar_multi(vals, errors, ax = ax, legend = ['R','G','M'], xlabels = ['Q2', 'Q4', 'Q5'], xlim = [0.5,3.5], yticks = [1,2,3,4,5], w =0.15, save = True, where = 'hapt.pdf', colors = 'bgr')\n",
    "ax.xaxis.grid()"
   ]
  },
  {
   "cell_type": "code",
   "execution_count": null,
   "metadata": {},
   "outputs": [],
   "source": [
    "resp_data = {}\n",
    "\n",
    "resp_data[easier] = Counter(data_hw_q[easier])\n",
    "resp_data[prefered] = Counter(data_hw_q[prefered])\n",
    "\n",
    "resp_data[easier]['Equivalent'] = 0\n",
    "resp_data[easier]['Remote controller'] = 1\n",
    "resp_data[easier]['Wearable'] = 3\n",
    "resp_data[prefered]['Equivalent'] = 0\n",
    "resp_data[prefered]['Remote controller'] = 1\n",
    "resp_data[prefered]['Werable'] = 3\n",
    "\n",
    "c1 = 'gray'\n",
    "c2 = 'b'\n",
    "c3 = 'r'\n",
    "\n",
    "c = [c1, c2, c3]\n",
    "\n",
    "qs = ['QH 1', 'QH 2']\n",
    "\n",
    "fig = plt.figure(figsize = (7,3))\n",
    "for jdx, j in enumerate(resp_data):\n",
    "    \n",
    "    ax = fig.add_subplot(1, 4, 2+jdx)\n",
    "\n",
    "    options = []\n",
    "    resp = []\n",
    "\n",
    "    for i in sorted(resp_data[j]):\n",
    "        options.append(i)\n",
    "        resp.append(resp_data[j][i])\n",
    "\n",
    "    for idx, i in enumerate(options):\n",
    "        print(idx)\n",
    "        plt.bar(1+idx, resp[idx], label = i, color = c[idx])\n",
    "        \n",
    "    if jdx==1:\n",
    "        plt.yticks([2,4,6,8,10], ['','','','',''])\n",
    "\n",
    "    plt.grid()    \n",
    "    plt.ylim(0,10)\n",
    "    plt.xticks([2], [qs[jdx]])\n",
    "#     plt.ylabel('Responses')\n",
    "    ax.spines['right'].set_visible(False)\n",
    "    ax.spines['top'].set_visible(False)\n",
    "    ax.xaxis.grid()\n",
    "    \n",
    "    \n",
    "ax = fig.add_subplot(1, 4, 1)\n",
    "plt.bar(1+idx, 0, label = 'Equivalent', color = c[0])\n",
    "plt.bar(1+idx, 0, label = 'Remote', color = c[1])\n",
    "plt.bar(1+idx, 0, label = 'Wearable', color = c[2])\n",
    "plt.legend(loc = 'upper left')  \n",
    "    \n",
    "resp_data[haptics] = Counter(data_sim[haptics])\n",
    "hapt_resp = []\n",
    "for i in resp_data[haptics]:\n",
    "    hapt_resp.extend([i]*resp_data[haptics][i])\n",
    "    \n",
    "print(hapt_resp)\n",
    "\n",
    "ax = fig.add_subplot(1, 4, 1)\n",
    "\n",
    "# ax.bar(1, np.mean(hapt_resp), yerr = np.std(hapt_resp), color = 'b', ecolor = 'b')\n",
    "# plt.xlim(0,2)\n",
    "plt.xticks([])\n",
    "plt.yticks([])\n",
    "# # plt.ylabel('Score')\n",
    "# plt.grid()   \n",
    "\n",
    "ax.spines['right'].set_visible(False)\n",
    "ax.spines['top'].set_visible(False)\n",
    "ax.spines['left'].set_visible(False)\n",
    "ax.spines['bottom'].set_visible(False)\n",
    "###\n",
    "\n",
    "vals = []\n",
    "errors = []\n",
    "\n",
    "for idx, s in enumerate(stats):\n",
    "    print(s)\n",
    "    print(stats_hw[s])\n",
    "    \n",
    "    means = [stats_hw[s][q][0] for q in questions]\n",
    "    stds = [stats_hw[s][q][1] for q in questions]\n",
    "    \n",
    "    print(means)\n",
    "    print(stds)\n",
    "    vals.append([means[1], means[3], means[4]])\n",
    "    errors.append([stds[1], stds[3], stds[4]])\n",
    "\n",
    "ax = fig.add_subplot(144)\n",
    "my_plots.bar_multi(vals, errors, ax = ax, legend = ['R','M'], xlabels = ['Q2', 'Q4', 'Q5'], xlim = [0.5,3.5], yticks = [1,2,3,4,5], w =0.15, save = True, where = 'hapt_HW.pdf', colors = 'br')\n",
    "ax.xaxis.grid()"
   ]
  },
  {
   "cell_type": "code",
   "execution_count": null,
   "metadata": {},
   "outputs": [],
   "source": [
    "print(resp_data)"
   ]
  },
  {
   "cell_type": "code",
   "execution_count": null,
   "metadata": {},
   "outputs": [],
   "source": []
  }
 ],
 "metadata": {
  "kernelspec": {
   "display_name": "Python 3",
   "language": "python",
   "name": "python3"
  },
  "language_info": {
   "codemirror_mode": {
    "name": "ipython",
    "version": 3
   },
   "file_extension": ".py",
   "mimetype": "text/x-python",
   "name": "python",
   "nbconvert_exporter": "python",
   "pygments_lexer": "ipython3",
   "version": "3.7.4"
  }
 },
 "nbformat": 4,
 "nbformat_minor": 4
}
