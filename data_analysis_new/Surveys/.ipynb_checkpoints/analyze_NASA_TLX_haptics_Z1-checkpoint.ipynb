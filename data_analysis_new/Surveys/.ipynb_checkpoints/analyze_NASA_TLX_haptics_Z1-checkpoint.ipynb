{
 "cells": [
  {
   "cell_type": "markdown",
   "metadata": {},
   "source": [
    "# Analyse survey"
   ]
  },
  {
   "cell_type": "markdown",
   "metadata": {},
   "source": [
    "## Imports"
   ]
  },
  {
   "cell_type": "code",
   "execution_count": 1,
   "metadata": {},
   "outputs": [],
   "source": [
    "# -*- coding: utf-8 -*-\n",
    "\"\"\"\n",
    "Created on Fri Nov 16 13:02:17 2018\n",
    "\n",
    "@author: macchini\n",
    "\"\"\"\n",
    "%load_ext autoreload\n",
    "%autoreload 2\n",
    "\n",
    "import os,sys\n",
    "sys.path.insert(1, os.path.join(sys.path[0], '..'))\n",
    "\n",
    "import my_plots\n",
    "import numpy as np\n",
    "import pandas as pd\n",
    "import matplotlib.pyplot as plt\n",
    "import matplotlib as mpl\n",
    "import utils\n",
    "\n",
    "from numpy.random import seed\n",
    "from numpy.random import randn\n",
    "from scipy.stats import kruskal\n",
    "\n",
    "from statistics import print_p"
   ]
  },
  {
   "cell_type": "code",
   "execution_count": 2,
   "metadata": {},
   "outputs": [],
   "source": [
    "# plot settings\n",
    "\n",
    "lw = 1.5\n",
    "\n",
    "fs = 13\n",
    "\n",
    "params = {\n",
    "    'axes.labelsize': fs,\n",
    "    'font.size': fs,\n",
    "    'legend.fontsize': fs,\n",
    "    'xtick.labelsize': fs,\n",
    "    'ytick.labelsize': fs,\n",
    "    'text.usetex': False,\n",
    "    'figure.figsize': [4, 4],\n",
    "    'boxplot.boxprops.linewidth' : lw,\n",
    "    'boxplot.whiskerprops.linewidth' : lw,\n",
    "    'boxplot.capprops.linewidth' : lw,\n",
    "    'boxplot.medianprops.linewidth' : lw,\n",
    "    'text.usetex' : True,\n",
    "    'font.family' : 'serif',\n",
    "\n",
    "   }\n",
    "mpl.rcParams.update(params)"
   ]
  },
  {
   "cell_type": "markdown",
   "metadata": {},
   "source": [
    "## Load file and create dataframe"
   ]
  },
  {
   "cell_type": "code",
   "execution_count": 3,
   "metadata": {},
   "outputs": [],
   "source": [
    "folder = './Data'\n",
    "\n",
    "files = os.listdir(folder)\n",
    "\n",
    "csv = 'NASA_TLX_haptics_2.csv'"
   ]
  },
  {
   "cell_type": "code",
   "execution_count": 4,
   "metadata": {
    "scrolled": true
   },
   "outputs": [],
   "source": [
    "answers_df = pd.read_csv(os.path.join(folder, csv))\n",
    "\n",
    "# Separate hardware and simulation experiments\n",
    "answers_df_hw = answers_df[answers_df['subject number'] >= 100]\n",
    "answers_df = answers_df[answers_df['subject number'] < 100]"
   ]
  },
  {
   "cell_type": "markdown",
   "metadata": {},
   "source": [
    "## Separate dataframe depending on interface/run"
   ]
  },
  {
   "cell_type": "code",
   "execution_count": 5,
   "metadata": {},
   "outputs": [],
   "source": [
    "types = ['remote', 'motion']\n",
    "\n",
    "# Separate answers depending on interface and run\n",
    "answers = {}\n",
    "answers[types[0]] = answers_df[answers_df['Interface'] == 'Remote']\n",
    "answers[types[1]] = answers_df[answers_df['Interface'] == 'Motion']\n",
    "\n",
    "answers_hw = {}\n",
    "answers_hw[types[0]] = answers_df_hw[answers_df_hw['Interface'] == 'Remote']\n",
    "answers_hw[types[1]] = answers_df_hw[answers_df_hw['Interface'] == 'Motion']"
   ]
  },
  {
   "cell_type": "markdown",
   "metadata": {},
   "source": [
    "## Separate questions"
   ]
  },
  {
   "cell_type": "code",
   "execution_count": 6,
   "metadata": {},
   "outputs": [
    {
     "name": "stdout",
     "output_type": "stream",
     "text": [
      "{'remote': {'How mentally demanding was the test?': array([1, 4, 4, 3, 3, 2, 3, 2, 3, 3]), 'How physically demanding was the test?': array([1, 2, 2, 2, 1, 1, 1, 1, 1, 1]), 'How hurried or rushed was the pace of the task?': array([1, 2, 2, 1, 1, 1, 1, 1, 1, 2]), 'How successful were you in accomplishing what you were asked to do?': array([1, 3, 4, 1, 2, 3, 3, 3, 2, 2]), 'How insecure, discouraged, irritated, stresses, and annoyed were you?': array([1, 2, 2, 2, 4, 1, 1, 3, 1, 3])}, 'motion': {'How mentally demanding was the test?': array([2, 4, 1, 3, 1, 3, 1, 1, 2]), 'How physically demanding was the test?': array([3, 1, 2, 1, 1, 1, 1, 1, 2]), 'How hurried or rushed was the pace of the task?': array([1, 1, 1, 1, 1, 1, 1, 1, 3]), 'How successful were you in accomplishing what you were asked to do?': array([4, 3, 3, 5, 4, 4, 5, 4, 3]), 'How insecure, discouraged, irritated, stresses, and annoyed were you?': array([1, 1, 1, 1, 1, 1, 1, 1, 1])}}\n"
     ]
    }
   ],
   "source": [
    "data = {}\n",
    "data_hw = {}\n",
    "\n",
    "mentally_demanding = 'How mentally demanding was the test?'\n",
    "physically_demanding = 'How physically demanding was the test?'\n",
    "pace = 'How hurried or rushed was the pace of the task?'\n",
    "successful = 'How successful were you in accomplishing what you were asked to do?'\n",
    "insecure = 'How insecure, discouraged, irritated, stresses, and annoyed were you?'\n",
    "\n",
    "questions = [mentally_demanding, physically_demanding, pace, successful, insecure]\n",
    "\n",
    "for i in types:\n",
    "    data[i] = {}\n",
    "    data_hw[i] = {}\n",
    "    for q in questions:\n",
    "        data[i][q] = answers[i][q].values\n",
    "        data_hw[i][q] = answers_hw[i][q].values\n",
    "print(data)"
   ]
  },
  {
   "cell_type": "markdown",
   "metadata": {},
   "source": [
    "## Compute mean and average"
   ]
  },
  {
   "cell_type": "code",
   "execution_count": 7,
   "metadata": {},
   "outputs": [
    {
     "name": "stdout",
     "output_type": "stream",
     "text": [
      "{'remote': {'How mentally demanding was the test?': [2.8, 0.8717797887081347], 'How physically demanding was the test?': [1.3, 0.45825756949558394], 'How hurried or rushed was the pace of the task?': [1.3, 0.45825756949558405], 'How successful were you in accomplishing what you were asked to do?': [2.4, 0.9165151389911681], 'How insecure, discouraged, irritated, stresses, and annoyed were you?': [2.0, 1.0]}, 'motion': {'How mentally demanding was the test?': [2.0, 1.0540925533894598], 'How physically demanding was the test?': [1.4444444444444444, 0.6849348892187752], 'How hurried or rushed was the pace of the task?': [1.2222222222222223, 0.628539361054709], 'How successful were you in accomplishing what you were asked to do?': [3.888888888888889, 0.7370277311900889], 'How insecure, discouraged, irritated, stresses, and annoyed were you?': [1.0, 0.0]}}\n"
     ]
    }
   ],
   "source": [
    "stats = {}\n",
    "stats_hw = {}\n",
    "\n",
    "mean_index = 0\n",
    "std_index = 1\n",
    "\n",
    "for i in types:\n",
    "    stats[i] = {}\n",
    "    stats_hw[i] = {}\n",
    "    for q in questions:\n",
    "        stats[i][q] = [0, 0]\n",
    "        stats[i][q][mean_index] = np.mean(data[i][q])\n",
    "        stats[i][q][std_index] = np.std(data[i][q])\n",
    "        \n",
    "        stats_hw[i][q] = [0, 0]\n",
    "        stats_hw[i][q][mean_index] = np.mean(data_hw[i][q])\n",
    "        stats_hw[i][q][std_index] = np.std(data_hw[i][q])\n",
    "        \n",
    "print(stats)"
   ]
  },
  {
   "cell_type": "markdown",
   "metadata": {},
   "source": [
    "## Results"
   ]
  },
  {
   "cell_type": "markdown",
   "metadata": {},
   "source": [
    "Stats (similarly for stats_hw for the hardware experiments) is a nested dictionnary containing the mean and std for each question of the survey, separated depending on the interface (remote or motion) and run (first or last)\n",
    "\n",
    "data (similarly data_hw) can be used to create boxplot for the distribution of answers."
   ]
  },
  {
   "cell_type": "code",
   "execution_count": 8,
   "metadata": {},
   "outputs": [],
   "source": [
    "def t_test_kruskal(X, Y):\n",
    "    \n",
    "    # Kruskal-Wallis H-test\n",
    "    \n",
    "    # seed the random number generator\n",
    "    seed(1)\n",
    "    \n",
    "    # compare samples\n",
    "    stat, p = kruskal(X, Y)\n",
    "    \n",
    "    return [stat, p]"
   ]
  },
  {
   "cell_type": "code",
   "execution_count": 9,
   "metadata": {},
   "outputs": [
    {
     "name": "stdout",
     "output_type": "stream",
     "text": [
      "\n",
      "\n",
      "remote motion How mentally demanding was the test?\n",
      "p = 0.10599426350123946\n",
      "remote motion How physically demanding was the test?\n",
      "p = 0.7635726487259695\n",
      "remote motion How hurried or rushed was the pace of the task?\n",
      "p = 0.42135683188931183\n",
      "remote motion How successful were you in accomplishing what you were asked to do?\n",
      "\u001b[32mp = 0.003955851600090126 !!!!!!!!!!\u001b[0m\n",
      "remote motion How insecure, discouraged, irritated, stresses, and annoyed were you?\n",
      "\u001b[32mp = 0.007347491016318628 !!!!!!!!!!\u001b[0m\n",
      "\n"
     ]
    }
   ],
   "source": [
    "for idx,i in enumerate(types):\n",
    "    print()\n",
    "    for j in types[idx+1:]:\n",
    "        print()\n",
    "        for q in questions:\n",
    "            if i != j:\n",
    "                # also, compare only first-last for same interface or first-first, last-last for different ones\n",
    "\n",
    "                t, p = t_test_kruskal(data[i][q],data[j][q])\n",
    "                print(i,j,q)\n",
    "                print_p(p)"
   ]
  },
  {
   "cell_type": "code",
   "execution_count": 10,
   "metadata": {},
   "outputs": [
    {
     "name": "stdout",
     "output_type": "stream",
     "text": [
      "remote\n",
      "{'How mentally demanding was the test?': [2.8, 0.8717797887081347], 'How physically demanding was the test?': [1.3, 0.45825756949558394], 'How hurried or rushed was the pace of the task?': [1.3, 0.45825756949558405], 'How successful were you in accomplishing what you were asked to do?': [2.4, 0.9165151389911681], 'How insecure, discouraged, irritated, stresses, and annoyed were you?': [2.0, 1.0]}\n",
      "[2.8, 1.3, 1.3, 2.4, 2.0]\n",
      "[0.8717797887081347, 0.45825756949558394, 0.45825756949558405, 0.9165151389911681, 1.0]\n",
      "motion\n",
      "{'How mentally demanding was the test?': [2.0, 1.0540925533894598], 'How physically demanding was the test?': [1.4444444444444444, 0.6849348892187752], 'How hurried or rushed was the pace of the task?': [1.2222222222222223, 0.628539361054709], 'How successful were you in accomplishing what you were asked to do?': [3.888888888888889, 0.7370277311900889], 'How insecure, discouraged, irritated, stresses, and annoyed were you?': [1.0, 0.0]}\n",
      "[2.0, 1.4444444444444444, 1.2222222222222223, 3.888888888888889, 1.0]\n",
      "[1.0540925533894598, 0.6849348892187752, 0.628539361054709, 0.7370277311900889, 0.0]\n"
     ]
    },
    {
     "data": {
      "image/png": "[encoded data removed]",
      "text/plain": [
       "<Figure size 1152x288 with 2 Axes>"
      ]
     },
     "metadata": {
      "needs_background": "light"
     },
     "output_type": "display_data"
    }
   ],
   "source": [
    "plt.figure(figsize=(16,4))\n",
    "\n",
    "vals = []\n",
    "errors = []\n",
    "\n",
    "for idx, s in enumerate(stats):\n",
    "    print(s)\n",
    "    print(stats[s])\n",
    "    \n",
    "    means = [stats[s][q][0] for q in questions]\n",
    "    stds = [stats[s][q][1] for q in questions]\n",
    "    \n",
    "    print(means)\n",
    "    print(stds)\n",
    "    \n",
    "    ax = plt.subplot(141+idx)\n",
    "    \n",
    "    ax.bar([0, 1, 2, 3, 4],\n",
    "       means,\n",
    "       yerr=stds)\n",
    "    plt.title(s)\n",
    "    plt.ylim(0, 5)\n",
    "    vals.append(means[3:5])\n",
    "    errors.append(stds[3:5])"
   ]
  },
  {
   "cell_type": "code",
   "execution_count": 11,
   "metadata": {},
   "outputs": [
    {
     "name": "stdout",
     "output_type": "stream",
     "text": [
      "br\n"
     ]
    },
    {
     "name": "stderr",
     "output_type": "stream",
     "text": [
      "/Users/lis/Documents/github/Bidirectional_Interface/data_analysis/Surveys/../my_plots.py:58: MatplotlibDeprecationWarning: Adding an axes using the same arguments as a previous axes currently reuses the earlier instance.  In a future version, a new instance will always be created and returned.  Meanwhile, this warning can be suppressed, and the future behavior ensured, by passing a unique label to each axes instance.\n",
      "  ax = plt.subplot(111)\n"
     ]
    },
    {
     "data": {
      "text/plain": [
       "<matplotlib.axes._subplots.AxesSubplot at 0x1a23993150>"
      ]
     },
     "execution_count": 11,
     "metadata": {},
     "output_type": "execute_result"
    },
    {
     "data": {
      "image/png": "[encoded data removed]",
      "text/plain": [
       "<Figure size 288x288 with 1 Axes>"
      ]
     },
     "metadata": {
      "needs_background": "light"
     },
     "output_type": "display_data"
    }
   ],
   "source": [
    "plt.figure(figsize=(4,4))\n",
    "ax = plt.subplot(111)\n",
    "my_plots.bar_multi(vals, errors, legend = ['R','M'], xlabels = ['Q 4', 'Q 5'], xlim = [0.5,2.5], yticks = [1,2,3,4,5], w =0.15, save = True, where = 'hapt_NASA.pdf', colors = 'br')"
   ]
  },
  {
   "cell_type": "markdown",
   "metadata": {},
   "source": [
    "## <span style=\"color:red\">Interesting statistics (see below)</span>\n",
    "### remote motion How successful were you in accomplishing what you were asked to do?\n",
    "### p = 0.003955851600090126 !!!!!!!!!!\n",
    "### remote motion How insecure, discouraged, irritated, stresses, and annoyed were you?\n",
    "### p = 0.007347491016318628 !!!!!!!!!!\n"
   ]
  },
  {
   "cell_type": "code",
   "execution_count": 12,
   "metadata": {},
   "outputs": [
    {
     "name": "stdout",
     "output_type": "stream",
     "text": [
      "\n",
      "\n",
      "remote motion How mentally demanding was the test?\n",
      "p = 0.17221800761539136\n",
      "remote motion How physically demanding was the test?\n",
      "p = 0.39180485461850845\n",
      "remote motion How hurried or rushed was the pace of the task?\n",
      "p = 0.39180485461850845\n",
      "remote motion How successful were you in accomplishing what you were asked to do?\n",
      "\u001b[33mp = 0.027030076547772428 !!!!!!\u001b[0m\n",
      "remote motion How insecure, discouraged, irritated, stresses, and annoyed were you?\n",
      "p = 0.16457177681334884\n",
      "\n"
     ]
    }
   ],
   "source": [
    "for idx,i in enumerate(types):\n",
    "    print()\n",
    "    for j in types[idx+1:]:\n",
    "        print()\n",
    "        for q in questions:\n",
    "            if i != j:\n",
    "                # also, compare only first-last for same interface or first-first, last-last for different ones\n",
    "\n",
    "                t, p = t_test_kruskal(data[i][q],data_hw[j][q])\n",
    "                print(i,j,q)\n",
    "                print_p(p)"
   ]
  },
  {
   "cell_type": "code",
   "execution_count": 13,
   "metadata": {},
   "outputs": [
    {
     "name": "stdout",
     "output_type": "stream",
     "text": [
      "remote\n",
      "{'How mentally demanding was the test?': [4.0, 0.0], 'How physically demanding was the test?': [1.3333333333333333, 0.4714045207910317], 'How hurried or rushed was the pace of the task?': [2.0, 0.0], 'How successful were you in accomplishing what you were asked to do?': [3.3333333333333335, 0.9428090415820634], 'How insecure, discouraged, irritated, stresses, and annoyed were you?': [2.3333333333333335, 1.247219128924647]}\n",
      "[4.0, 1.3333333333333333, 2.0, 3.3333333333333335, 2.3333333333333335]\n",
      "[0.0, 0.4714045207910317, 0.0, 0.9428090415820634, 1.247219128924647]\n",
      "motion\n",
      "{'How mentally demanding was the test?': [2.0, 0.0], 'How physically demanding was the test?': [1.0, 0.0], 'How hurried or rushed was the pace of the task?': [1.0, 0.0], 'How successful were you in accomplishing what you were asked to do?': [5.0, 0.0], 'How insecure, discouraged, irritated, stresses, and annoyed were you?': [1.0, 0.0]}\n",
      "[2.0, 1.0, 1.0, 5.0, 1.0]\n",
      "[0.0, 0.0, 0.0, 0.0, 0.0]\n"
     ]
    },
    {
     "data": {
      "image/png": "[encoded data removed]",
      "text/plain": [
       "<Figure size 1152x288 with 2 Axes>"
      ]
     },
     "metadata": {
      "needs_background": "light"
     },
     "output_type": "display_data"
    }
   ],
   "source": [
    "plt.figure(figsize=(16,4))\n",
    "\n",
    "vals = []\n",
    "errors = []\n",
    "\n",
    "stats = stats_hw\n",
    "\n",
    "for idx, s in enumerate(stats):\n",
    "    print(s)\n",
    "    print(stats[s])\n",
    "    \n",
    "    means = [stats[s][q][0] for q in questions]\n",
    "    stds = [stats[s][q][1] for q in questions]\n",
    "    \n",
    "    print(means)\n",
    "    print(stds)\n",
    "    \n",
    "    ax = plt.subplot(141+idx)\n",
    "    \n",
    "    ax.bar([0, 1, 2, 3, 4],\n",
    "       means,\n",
    "       yerr=stds)\n",
    "    plt.title(s)\n",
    "    plt.ylim(0, 5)\n",
    "    vals.append(means)\n",
    "    errors.append(stds)"
   ]
  },
  {
   "cell_type": "code",
   "execution_count": 14,
   "metadata": {},
   "outputs": [
    {
     "name": "stdout",
     "output_type": "stream",
     "text": [
      "br\n"
     ]
    },
    {
     "name": "stderr",
     "output_type": "stream",
     "text": [
      "/Users/lis/Documents/github/Bidirectional_Interface/data_analysis/Surveys/../my_plots.py:58: MatplotlibDeprecationWarning: Adding an axes using the same arguments as a previous axes currently reuses the earlier instance.  In a future version, a new instance will always be created and returned.  Meanwhile, this warning can be suppressed, and the future behavior ensured, by passing a unique label to each axes instance.\n",
      "  ax = plt.subplot(111)\n"
     ]
    },
    {
     "data": {
      "text/plain": [
       "<matplotlib.axes._subplots.AxesSubplot at 0x1a24fb3050>"
      ]
     },
     "execution_count": 14,
     "metadata": {},
     "output_type": "execute_result"
    },
    {
     "data": {
      "image/png": "[encoded data removed]",
      "text/plain": [
       "<Figure size 720x288 with 1 Axes>"
      ]
     },
     "metadata": {
      "needs_background": "light"
     },
     "output_type": "display_data"
    }
   ],
   "source": [
    "plt.figure(figsize=(10,4))\n",
    "ax = plt.subplot(111)\n",
    "my_plots.bar_multi(vals, errors, legend = ['R','M'], xlabels = ['Q 4', 'Q 5'], xlim = [0.5,5.5], yticks = [1,2,3,4,5], w =0.15, save = True, where = 'hapt_NASA.pdf', colors = 'br')"
   ]
  },
  {
   "cell_type": "code",
   "execution_count": null,
   "metadata": {},
   "outputs": [],
   "source": []
  },
  {
   "cell_type": "code",
   "execution_count": null,
   "metadata": {},
   "outputs": [],
   "source": []
  }
 ],
 "metadata": {
  "kernelspec": {
   "display_name": "Python 3",
   "language": "python",
   "name": "python3"
  },
  "language_info": {
   "codemirror_mode": {
    "name": "ipython",
    "version": 3
   },
   "file_extension": ".py",
   "mimetype": "text/x-python",
   "name": "python",
   "nbconvert_exporter": "python",
   "pygments_lexer": "ipython3",
   "version": "3.7.4"
  }
 },
 "nbformat": 4,
 "nbformat_minor": 4
}
