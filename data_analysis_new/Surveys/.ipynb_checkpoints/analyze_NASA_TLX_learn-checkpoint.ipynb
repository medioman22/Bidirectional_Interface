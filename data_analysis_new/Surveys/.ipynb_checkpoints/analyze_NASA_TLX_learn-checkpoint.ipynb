{
 "cells": [
  {
   "cell_type": "markdown",
   "metadata": {},
   "source": [
    "# Analyse survey"
   ]
  },
  {
   "cell_type": "markdown",
   "metadata": {},
   "source": [
    "## Imports"
   ]
  },
  {
   "cell_type": "code",
   "execution_count": 1,
   "metadata": {},
   "outputs": [],
   "source": [
    "# -*- coding: utf-8 -*-\n",
    "\"\"\"\n",
    "Created on Fri Nov 16 13:02:17 2018\n",
    "\n",
    "@author: macchini\n",
    "\"\"\"\n",
    "%load_ext autoreload\n",
    "%autoreload 2\n",
    "\n",
    "import os,sys\n",
    "sys.path.insert(1, os.path.join(sys.path[0], '..'))\n",
    "\n",
    "import my_plots\n",
    "import numpy as np\n",
    "import pandas as pd\n",
    "import matplotlib.pyplot as plt\n",
    "import matplotlib as mpl\n",
    "import utils\n",
    "\n",
    "from numpy.random import seed\n",
    "from numpy.random import randn\n",
    "from scipy.stats import kruskal\n",
    "\n",
    "from statistics import print_p"
   ]
  },
  {
   "cell_type": "markdown",
   "metadata": {},
   "source": [
    "## Load file and create dataframe"
   ]
  },
  {
   "cell_type": "code",
   "execution_count": 2,
   "metadata": {},
   "outputs": [],
   "source": [
    "folder = './Data'\n",
    "\n",
    "files = os.listdir(folder)\n",
    "\n",
    "csv = 'NASA_TLX_learn.csv'"
   ]
  },
  {
   "cell_type": "code",
   "execution_count": 17,
   "metadata": {
    "scrolled": true
   },
   "outputs": [],
   "source": [
    "answers_df = pd.read_csv(os.path.join(folder, csv))\n",
    "\n",
    "# Separate hardware and simulation experiments\n",
    "answers_df_hw = answers_df[answers_df['subject number'] >= 100]\n",
    "answers_df_hw = answers_df_hw[answers_df_hw['subject number'] != 103]\n",
    "answers_df = answers_df[answers_df['subject number'] < 100]"
   ]
  },
  {
   "cell_type": "markdown",
   "metadata": {},
   "source": [
    "## Separate dataframe depending on interface/run"
   ]
  },
  {
   "cell_type": "code",
   "execution_count": 18,
   "metadata": {},
   "outputs": [],
   "source": [
    "types = ['remote-first', 'remote-last', 'motion-first', 'motion-last']\n",
    "\n",
    "# Separate answers depending on interface and run\n",
    "answers = {}\n",
    "answers[types[0]] = answers_df[answers_df['Interface'] == 'Remote']\n",
    "answers[types[0]] = answers[types[0]][answers[types[0]]['Run'] == 'First']\n",
    "answers[types[1]] = answers_df[answers_df['Interface'] == 'Remote']\n",
    "answers[types[1]] = answers[types[1]][answers[types[1]]['Run'] == 'Last']\n",
    "answers[types[2]] = answers_df[answers_df['Interface'] == 'Motion']\n",
    "answers[types[2]] = answers[types[2]][answers[types[2]]['Run'] == 'First']\n",
    "answers[types[3]] = answers_df[answers_df['Interface'] == 'Motion']\n",
    "answers[types[3]] = answers[types[3]][answers[types[3]]['Run'] == 'Last']\n",
    "\n",
    "answers_hw = {}\n",
    "answers_hw[types[0]] = answers_df_hw[answers_df_hw['Interface'] == 'Remote']\n",
    "answers_hw[types[0]] = answers_hw[types[0]][answers_hw[types[0]]['Run'] == 'First']\n",
    "answers_hw[types[1]] = answers_df_hw[answers_df_hw['Interface'] == 'Remote']\n",
    "answers_hw[types[1]] = answers_hw[types[1]][answers_hw[types[1]]['Run'] == 'Last']\n",
    "answers_hw[types[2]] = answers_df_hw[answers_df_hw['Interface'] == 'Motion']\n",
    "answers_hw[types[2]] = answers_hw[types[2]][answers_hw[types[2]]['Run'] == 'First']\n",
    "answers_hw[types[3]] = answers_df_hw[answers_df_hw['Interface'] == 'Motion']\n",
    "answers_hw[types[3]] = answers_hw[types[3]][answers_hw[types[3]]['Run'] == 'Last']"
   ]
  },
  {
   "cell_type": "markdown",
   "metadata": {},
   "source": [
    "## Separate questions"
   ]
  },
  {
   "cell_type": "code",
   "execution_count": 19,
   "metadata": {},
   "outputs": [],
   "source": [
    "data = {}\n",
    "data_hw = {}\n",
    "\n",
    "mentally_demanding = 'How mentally demanding was the test?'\n",
    "physically_demanding = 'How physically demanding was the test?'\n",
    "pace = 'How hurried or rushed was the pace of the task?'\n",
    "successful = 'How successful were you in accomplishing what you were asked to do?'\n",
    "insecure = 'How insecure, discouraged, irritated, stresses, and annoyed were you?'\n",
    "\n",
    "questions = [mentally_demanding, physically_demanding, pace, successful, insecure]\n",
    "\n",
    "for i in types:\n",
    "    data[i] = {}\n",
    "    data_hw[i] = {}\n",
    "    for q in questions:\n",
    "        data[i][q] = answers[i][q].values\n",
    "        data_hw[i][q] = answers_hw[i][q].values"
   ]
  },
  {
   "cell_type": "markdown",
   "metadata": {},
   "source": [
    "## Compute mean and average"
   ]
  },
  {
   "cell_type": "code",
   "execution_count": 20,
   "metadata": {},
   "outputs": [
    {
     "name": "stdout",
     "output_type": "stream",
     "text": [
      "{'remote-first': {'How mentally demanding was the test?': [3.0, 1.0954451150103321], 'How physically demanding was the test?': [1.1, 0.3], 'How hurried or rushed was the pace of the task?': [2.2, 1.2489995996796797], 'How successful were you in accomplishing what you were asked to do?': [3.3, 1.2688577540449522], 'How insecure, discouraged, irritated, stresses, and annoyed were you?': [2.1, 1.044030650891055]}, 'remote-last': {'How mentally demanding was the test?': [2.7, 0.9], 'How physically demanding was the test?': [1.1, 0.3], 'How hurried or rushed was the pace of the task?': [2.4, 1.42828568570857], 'How successful were you in accomplishing what you were asked to do?': [3.5, 0.806225774829855], 'How insecure, discouraged, irritated, stresses, and annoyed were you?': [1.7, 1.004987562112089]}, 'motion-first': {'How mentally demanding was the test?': [2.1, 0.5385164807134505], 'How physically demanding was the test?': [1.7, 0.7810249675906655], 'How hurried or rushed was the pace of the task?': [1.7, 0.9], 'How successful were you in accomplishing what you were asked to do?': [3.4, 0.8], 'How insecure, discouraged, irritated, stresses, and annoyed were you?': [1.6, 0.66332495807108]}, 'motion-last': {'How mentally demanding was the test?': [1.7, 0.6403124237432849], 'How physically demanding was the test?': [1.6, 1.0198039027185568], 'How hurried or rushed was the pace of the task?': [1.8, 1.2489995996796797], 'How successful were you in accomplishing what you were asked to do?': [3.8, 0.7483314773547882], 'How insecure, discouraged, irritated, stresses, and annoyed were you?': [1.2, 0.4]}}\n"
     ]
    }
   ],
   "source": [
    "stats = {}\n",
    "stats_hw = {}\n",
    "\n",
    "mean_index = 0\n",
    "std_index = 1\n",
    "\n",
    "for i in types:\n",
    "    stats[i] = {}\n",
    "    stats_hw[i] = {}\n",
    "    for q in questions:\n",
    "        stats[i][q] = [0, 0]\n",
    "        stats[i][q][mean_index] = np.mean(data[i][q])\n",
    "        stats[i][q][std_index] = np.std(data[i][q])\n",
    "        \n",
    "        stats_hw[i][q] = [0, 0]\n",
    "        stats_hw[i][q][mean_index] = np.mean(data_hw[i][q])\n",
    "        stats_hw[i][q][std_index] = np.std(data_hw[i][q])\n",
    "        \n",
    "print(stats)"
   ]
  },
  {
   "cell_type": "markdown",
   "metadata": {},
   "source": [
    "## Results"
   ]
  },
  {
   "cell_type": "markdown",
   "metadata": {},
   "source": [
    "Stats (similarly for stats_hw for the hardware experiments) is a nested dictionnary containing the mean and std for each question of the survey, separated depending on the interface (remote or motion) and run (first or last)\n",
    "\n",
    "data (similarly data_hw) can be used to create boxplot for the distribution of answers."
   ]
  },
  {
   "cell_type": "code",
   "execution_count": 21,
   "metadata": {},
   "outputs": [],
   "source": [
    "def t_test_kruskal(X, Y):\n",
    "    \n",
    "    # Kruskal-Wallis H-test\n",
    "    \n",
    "    # seed the random number generator\n",
    "    seed(1)\n",
    "    \n",
    "    # compare samples\n",
    "    stat, p = kruskal(X, Y)\n",
    "    \n",
    "    return [stat, p]"
   ]
  },
  {
   "cell_type": "code",
   "execution_count": 22,
   "metadata": {},
   "outputs": [
    {
     "name": "stdout",
     "output_type": "stream",
     "text": [
      "\n",
      "remote-first remote-last How mentally demanding was the test?\n",
      "p = 0.3819481156357243\n",
      "remote-first remote-last How physically demanding was the test?\n",
      "p = 1.0\n",
      "remote-first remote-last How hurried or rushed was the pace of the task?\n",
      "p = 0.8131265746121165\n",
      "remote-first remote-last How successful were you in accomplishing what you were asked to do?\n",
      "p = 0.6095403306113734\n",
      "remote-first remote-last How insecure, discouraged, irritated, stresses, and annoyed were you?\n",
      "p = 0.29059351739551387\n",
      "\n",
      "remote-first motion-first How mentally demanding was the test?\n",
      "\u001b[33mp = 0.03344653009997241 !!!!!!\u001b[0m\n",
      "remote-first motion-first How physically demanding was the test?\n",
      "\u001b[33mp = 0.0488888176268915 !!!!!!\u001b[0m\n",
      "remote-first motion-first How hurried or rushed was the pace of the task?\n",
      "p = 0.38833837171788765\n",
      "remote-first motion-first How successful were you in accomplishing what you were asked to do?\n",
      "p = 0.7760053230332041\n",
      "remote-first motion-first How insecure, discouraged, irritated, stresses, and annoyed were you?\n",
      "p = 0.30423105299989817\n",
      "\n",
      "\n",
      "\n",
      "remote-last motion-last How mentally demanding was the test?\n",
      "\u001b[33mp = 0.01913961955875495 !!!!!!\u001b[0m\n",
      "remote-last motion-last How physically demanding was the test?\n",
      "p = 0.23390621098854886\n",
      "remote-last motion-last How hurried or rushed was the pace of the task?\n",
      "p = 0.3297192973126754\n",
      "remote-last motion-last How successful were you in accomplishing what you were asked to do?\n",
      "p = 0.6160414893647401\n",
      "remote-last motion-last How insecure, discouraged, irritated, stresses, and annoyed were you?\n",
      "p = 0.2606686561673763\n",
      "\n",
      "motion-first motion-last How mentally demanding was the test?\n",
      "p = 0.15436991516197082\n",
      "motion-first motion-last How physically demanding was the test?\n",
      "p = 0.5476447812030009\n",
      "motion-first motion-last How hurried or rushed was the pace of the task?\n",
      "p = 0.9657417838594877\n",
      "motion-first motion-last How successful were you in accomplishing what you were asked to do?\n",
      "p = 0.29059351739551387\n",
      "motion-first motion-last How insecure, discouraged, irritated, stresses, and annoyed were you?\n",
      "p = 0.1482858780554419\n"
     ]
    }
   ],
   "source": [
    "for idx,i in enumerate(types):\n",
    "    for j in types[idx+1:]:\n",
    "        print()\n",
    "        for q in questions:\n",
    "            if i != j:\n",
    "                # also, compare only first-last for same interface or first-first, last-last for different ones\n",
    "                if ('first' in i and 'first' in j) or ('last' in i and 'last' in j) or ('remote' in i and 'remote' in j) or ('motion' in i and 'motion' in j):\n",
    "\n",
    "                    t, p = t_test_kruskal(data[i][q],data[j][q])\n",
    "                    print(i,j,q)\n",
    "                    print_p(p)"
   ]
  },
  {
   "cell_type": "code",
   "execution_count": 23,
   "metadata": {},
   "outputs": [
    {
     "name": "stdout",
     "output_type": "stream",
     "text": [
      "[[0, 0, 1], [0.4, 0.4, 1], [1, 0, 0], [1, 0.4, 0.4]]\n"
     ]
    },
    {
     "name": "stderr",
     "output_type": "stream",
     "text": [
      "/Users/lis/Documents/github/Bidirectional_Interface/data_analysis/Surveys/../my_plots.py:58: MatplotlibDeprecationWarning: Adding an axes using the same arguments as a previous axes currently reuses the earlier instance.  In a future version, a new instance will always be created and returned.  Meanwhile, this warning can be suppressed, and the future behavior ensured, by passing a unique label to each axes instance.\n",
      "  ax = plt.subplot(111)\n"
     ]
    },
    {
     "data": {
      "text/plain": [
       "(0.5, 2.5)"
      ]
     },
     "execution_count": 23,
     "metadata": {},
     "output_type": "execute_result"
    },
    {
     "data": {
      "image/png": "[encoded data removed]",
      "text/plain": [
       "<Figure size 1152x288 with 4 Axes>"
      ]
     },
     "metadata": {
      "needs_background": "light"
     },
     "output_type": "display_data"
    },
    {
     "data": {
      "image/png": "[encoded data removed]",
      "text/plain": [
       "<Figure size 288x288 with 1 Axes>"
      ]
     },
     "metadata": {
      "needs_background": "light"
     },
     "output_type": "display_data"
    }
   ],
   "source": [
    "plt.figure(figsize=(16,4))\n",
    "\n",
    "vals = []\n",
    "errors = []\n",
    "\n",
    "for idx, s in enumerate(stats):\n",
    "#     print(stats[s])\n",
    "    \n",
    "    means = [stats[s][q][0] for q in questions]\n",
    "    stds = [stats[s][q][1] for q in questions]\n",
    "    \n",
    "#     print(means)\n",
    "#     print(stds)\n",
    "    \n",
    "    ax = plt.subplot(141+idx)\n",
    "    \n",
    "    ax.bar([0, 1, 2, 3, 4],\n",
    "       means,\n",
    "       yerr=stds)\n",
    "    plt.title(s)\n",
    "    \n",
    "    vals.append(means[0:2])\n",
    "    errors.append(stds[0:2])\n",
    "    \n",
    "lighter = 0.4\n",
    "c1 = [0,0,1] \n",
    "c2 = [lighter,lighter,1] \n",
    "c3 = [1,0,0] \n",
    "c4 = [1,lighter,lighter]    \n",
    "\n",
    "col = [c1, c2, c3, c4]\n",
    "\n",
    "plt.figure(figsize=(4,4))\n",
    "ax = plt.subplot(111)\n",
    "ax = my_plots.bar_multi(vals, errors, legend = ['R-1','R-5','M-1','M-5'], xlabels = ['Q 1', 'Q 2'], w =0.15, xlim = [0.5,2.5], yticks = [1,2,3,4,5], save = True, where = 'learn_NASA.pdf', colors = col)\n",
    "plt.yticks([1,2,3,4,5])\n",
    "plt.xlim(0.5,2.5)"
   ]
  },
  {
   "cell_type": "markdown",
   "metadata": {},
   "source": [
    "## <span style=\"color:red\">Interesting statistics (see below)</span>\n",
    "### remote-first motion-first How physically demanding was the test? p =  0.0488888176268915\n",
    "### remote-last motion-last How physically demanding was the test? p =  0.23390621098854886\n",
    "### remote-last motion-last How mentally demanding was the test? p =  0.01913961955875495\n",
    "### motion-first remote-first How mentally demanding was the test? p =  0.03344653009997241"
   ]
  },
  {
   "cell_type": "code",
   "execution_count": 24,
   "metadata": {},
   "outputs": [
    {
     "name": "stdout",
     "output_type": "stream",
     "text": [
      "\n",
      "remote-first remote-last How mentally demanding was the test?\n",
      "\u001b[31mp = 0.07985518564889507 !\u001b[0m\n",
      "remote-first remote-last How physically demanding was the test?\n",
      "p = 0.5838824207703579\n",
      "remote-first remote-last How hurried or rushed was the pace of the task?\n",
      "\u001b[31mp = 0.09543636808993747 !\u001b[0m\n",
      "remote-first remote-last How successful were you in accomplishing what you were asked to do?\n",
      "p = 0.3666322916596926\n",
      "remote-first remote-last How insecure, discouraged, irritated, stresses, and annoyed were you?\n",
      "\u001b[31mp = 0.05367662972988007 !\u001b[0m\n",
      "\n",
      "remote-first motion-first How mentally demanding was the test?\n",
      "p = 0.370356162348094\n",
      "remote-first motion-first How physically demanding was the test?\n",
      "p = 0.345231071771834\n",
      "remote-first motion-first How hurried or rushed was the pace of the task?\n",
      "p = 0.2801514286982697\n",
      "remote-first motion-first How successful were you in accomplishing what you were asked to do?\n",
      "p = 0.23307342971278017\n",
      "remote-first motion-first How insecure, discouraged, irritated, stresses, and annoyed were you?\n",
      "p = 0.4729092069096167\n",
      "\n",
      "\n",
      "\n",
      "remote-last motion-last How mentally demanding was the test?\n",
      "p = 0.15866898712240446\n",
      "remote-last motion-last How physically demanding was the test?\n",
      "\u001b[33mp = 0.04964722965745585 !!!!!!\u001b[0m\n",
      "remote-last motion-last How hurried or rushed was the pace of the task?\n",
      "p = 0.282389189798678\n",
      "remote-last motion-last How successful were you in accomplishing what you were asked to do?\n",
      "\u001b[31mp = 0.09792022963241329 !\u001b[0m\n",
      "remote-last motion-last How insecure, discouraged, irritated, stresses, and annoyed were you?\n",
      "p = 0.6978438282505495\n",
      "\n",
      "motion-first motion-last How mentally demanding was the test?\n",
      "p = 0.3518797721063325\n",
      "motion-first motion-last How physically demanding was the test?\n",
      "p = 0.9267950074759399\n",
      "motion-first motion-last How hurried or rushed was the pace of the task?\n",
      "p = 0.6268449135173157\n",
      "motion-first motion-last How successful were you in accomplishing what you were asked to do?\n",
      "\u001b[31mp = 0.08825694343072724 !\u001b[0m\n",
      "motion-first motion-last How insecure, discouraged, irritated, stresses, and annoyed were you?\n",
      "p = 0.5686182086635924\n"
     ]
    }
   ],
   "source": [
    "for idx,i in enumerate(types):\n",
    "    for j in types[idx+1:]:\n",
    "        print()\n",
    "        for q in questions:\n",
    "            if i != j:\n",
    "                # also, compare only first-last for same interface or first-first, last-last for different ones\n",
    "                if ('first' in i and 'first' in j) or ('last' in i and 'last' in j) or ('remote' in i and 'remote' in j) or ('motion' in i and 'motion' in j):\n",
    "\n",
    "                    t, p = t_test_kruskal(data[i][q],data_hw[j][q])\n",
    "                    print(i,j,q)\n",
    "                    print_p(p)"
   ]
  },
  {
   "cell_type": "code",
   "execution_count": 25,
   "metadata": {},
   "outputs": [
    {
     "name": "stdout",
     "output_type": "stream",
     "text": [
      "[[0, 0, 1], [0.4, 0.4, 1], [1, 0, 0], [1, 0.4, 0.4]]\n"
     ]
    },
    {
     "name": "stderr",
     "output_type": "stream",
     "text": [
      "/Users/lis/Documents/github/Bidirectional_Interface/data_analysis/Surveys/../my_plots.py:58: MatplotlibDeprecationWarning: Adding an axes using the same arguments as a previous axes currently reuses the earlier instance.  In a future version, a new instance will always be created and returned.  Meanwhile, this warning can be suppressed, and the future behavior ensured, by passing a unique label to each axes instance.\n",
      "  ax = plt.subplot(111)\n"
     ]
    },
    {
     "data": {
      "text/plain": [
       "(0.5, 5.5)"
      ]
     },
     "execution_count": 25,
     "metadata": {},
     "output_type": "execute_result"
    },
    {
     "data": {
      "image/png": "[encoded data removed]",
      "text/plain": [
       "<Figure size 1152x288 with 4 Axes>"
      ]
     },
     "metadata": {
      "needs_background": "light"
     },
     "output_type": "display_data"
    },
    {
     "data": {
      "image/png": "[encoded data removed]",
      "text/plain": [
       "<Figure size 288x288 with 1 Axes>"
      ]
     },
     "metadata": {
      "needs_background": "light"
     },
     "output_type": "display_data"
    }
   ],
   "source": [
    "plt.figure(figsize=(16,4))\n",
    "\n",
    "vals = []\n",
    "errors = []\n",
    "\n",
    "stats = stats_hw\n",
    "\n",
    "for idx, s in enumerate(stats):\n",
    "#     print(stats[s])\n",
    "    \n",
    "    means = [stats[s][q][0] for q in questions]\n",
    "    stds = [stats[s][q][1] for q in questions]\n",
    "    \n",
    "#     print(means)\n",
    "#     print(stds)\n",
    "    \n",
    "    ax = plt.subplot(141+idx)\n",
    "    \n",
    "    ax.bar([0, 1, 2, 3, 4],\n",
    "       means,\n",
    "       yerr=stds)\n",
    "    plt.title(s)\n",
    "    \n",
    "    vals.append(means)\n",
    "    errors.append(stds)\n",
    "    \n",
    "lighter = 0.4\n",
    "c1 = [0,0,1] \n",
    "c2 = [lighter,lighter,1] \n",
    "c3 = [1,0,0] \n",
    "c4 = [1,lighter,lighter]    \n",
    "\n",
    "col = [c1, c2, c3, c4]\n",
    "\n",
    "plt.figure(figsize=(4,4))\n",
    "ax = plt.subplot(111)\n",
    "ax = my_plots.bar_multi(vals, errors, legend = ['R-1','R-5','M-1','M-5'], xlabels = ['Q 1', 'Q 2'], w =0.15, xlim = [0.5,2.5], yticks = [1,2,3,4,5], save = True, where = 'learn_NASA.pdf', colors = col)\n",
    "plt.yticks([1,2,3,4,5])\n",
    "plt.xlim(0.5,5.5)"
   ]
  },
  {
   "cell_type": "code",
   "execution_count": null,
   "metadata": {},
   "outputs": [],
   "source": []
  }
 ],
 "metadata": {
  "kernelspec": {
   "display_name": "Python 3",
   "language": "python",
   "name": "python3"
  },
  "language_info": {
   "codemirror_mode": {
    "name": "ipython",
    "version": 3
   },
   "file_extension": ".py",
   "mimetype": "text/x-python",
   "name": "python",
   "nbconvert_exporter": "python",
   "pygments_lexer": "ipython3",
   "version": "3.7.4"
  }
 },
 "nbformat": 4,
 "nbformat_minor": 4
}
