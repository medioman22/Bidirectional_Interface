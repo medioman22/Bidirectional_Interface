{
 "cells": [
  {
   "cell_type": "markdown",
   "metadata": {},
   "source": [
    "# Analyse survey"
   ]
  },
  {
   "cell_type": "markdown",
   "metadata": {},
   "source": [
    "## Imports"
   ]
  },
  {
   "cell_type": "code",
   "execution_count": 1,
   "metadata": {},
   "outputs": [],
   "source": [
    "# -*- coding: utf-8 -*-\n",
    "\"\"\"\n",
    "Created on Fri Nov 16 13:02:17 2018\n",
    "\n",
    "@author: macchini\n",
    "\"\"\"\n",
    "\n",
    "import os,sys\n",
    "sys.path.insert(1, os.path.join(sys.path[0], '..'))\n",
    "\n",
    "import my_plots\n",
    "import numpy as np\n",
    "import pandas as pd\n",
    "import matplotlib.pyplot as plt\n",
    "import matplotlib as mpl\n",
    "import utils\n",
    "\n",
    "from numpy.random import seed\n",
    "from numpy.random import randn\n",
    "from scipy.stats import kruskal\n",
    "\n",
    "from collections import Counter"
   ]
  },
  {
   "cell_type": "markdown",
   "metadata": {},
   "source": [
    "## Load file and create dataframe"
   ]
  },
  {
   "cell_type": "code",
   "execution_count": 3,
   "metadata": {},
   "outputs": [
    {
     "name": "stdout",
     "output_type": "stream",
     "text": [
      "['Bidirectional Interface - haptics.csv', 'Bidirectional Interface - learning.csv', 'NASA_TLX_haptics_1.csv', 'NASA_TLX_haptics_2.csv', 'NASA_TLX_haptics_3.csv', 'NASA_TLX_learn.csv']\n"
     ]
    }
   ],
   "source": [
    "folder = './Data'\n",
    "\n",
    "files = os.listdir(folder)\n",
    "\n",
    "surveys = [x for x in files if '.csv' in x]\n",
    "print(surveys)\n",
    "\n",
    "csv = surveys[0]"
   ]
  },
  {
   "cell_type": "code",
   "execution_count": 4,
   "metadata": {
    "scrolled": true
   },
   "outputs": [
    {
     "data": {
      "text/html": [
       "<div>\n",
       "<style scoped>\n",
       "    .dataframe tbody tr th:only-of-type {\n",
       "        vertical-align: middle;\n",
       "    }\n",
       "\n",
       "    .dataframe tbody tr th {\n",
       "        vertical-align: top;\n",
       "    }\n",
       "\n",
       "    .dataframe thead th {\n",
       "        text-align: right;\n",
       "    }\n",
       "</style>\n",
       "<table border=\"1\" class=\"dataframe\">\n",
       "  <thead>\n",
       "    <tr style=\"text-align: right;\">\n",
       "      <th></th>\n",
       "      <th>Horodateur</th>\n",
       "      <th>Age</th>\n",
       "      <th>Gender</th>\n",
       "      <th>How experienced are you with the use of remote controllers?</th>\n",
       "      <th>How experienced are you with the use of remote controllers for controlling drones?</th>\n",
       "      <th>Which interface was easier to use for the task?</th>\n",
       "      <th>How useful was the haptic inteface?</th>\n",
       "      <th>Which interface did you prefer?</th>\n",
       "      <th>Why?</th>\n",
       "      <th>Please give your personal feedback/impressions</th>\n",
       "    </tr>\n",
       "  </thead>\n",
       "  <tbody>\n",
       "    <tr>\n",
       "      <th>0</th>\n",
       "      <td>2019/08/13 10:13:17 AM UTC+2</td>\n",
       "      <td>24</td>\n",
       "      <td>Male</td>\n",
       "      <td>9</td>\n",
       "      <td>9</td>\n",
       "      <td>Wearable</td>\n",
       "      <td>10</td>\n",
       "      <td>Werable</td>\n",
       "      <td>Gives a sense of depth</td>\n",
       "      <td>The vibrating gloves are comfortable to use an...</td>\n",
       "    </tr>\n",
       "    <tr>\n",
       "      <th>1</th>\n",
       "      <td>2019/08/13 10:54:21 AM UTC+2</td>\n",
       "      <td>27</td>\n",
       "      <td>Male</td>\n",
       "      <td>5</td>\n",
       "      <td>2</td>\n",
       "      <td>Wearable</td>\n",
       "      <td>9</td>\n",
       "      <td>Werable</td>\n",
       "      <td>It was nice to have the physical motion associ...</td>\n",
       "      <td>It would be nice to not have the vibration by ...</td>\n",
       "    </tr>\n",
       "    <tr>\n",
       "      <th>2</th>\n",
       "      <td>2019/08/13 12:00:14 PM UTC+2</td>\n",
       "      <td>32</td>\n",
       "      <td>Female</td>\n",
       "      <td>3</td>\n",
       "      <td>3</td>\n",
       "      <td>Wearable</td>\n",
       "      <td>9</td>\n",
       "      <td>Werable</td>\n",
       "      <td>it was easier to control and it felt more simi...</td>\n",
       "      <td>the vibration was very useful, if the behind w...</td>\n",
       "    </tr>\n",
       "    <tr>\n",
       "      <th>3</th>\n",
       "      <td>2019/08/13 3:50:38 PM UTC+2</td>\n",
       "      <td>27</td>\n",
       "      <td>Female</td>\n",
       "      <td>10</td>\n",
       "      <td>1</td>\n",
       "      <td>Wearable</td>\n",
       "      <td>10</td>\n",
       "      <td>Werable</td>\n",
       "      <td>due to vibrations it's possible to align not o...</td>\n",
       "      <td>Tasks were interesting and getting more challe...</td>\n",
       "    </tr>\n",
       "    <tr>\n",
       "      <th>4</th>\n",
       "      <td>2019/08/13 5:22:01 PM UTC+2</td>\n",
       "      <td>25</td>\n",
       "      <td>Female</td>\n",
       "      <td>3</td>\n",
       "      <td>1</td>\n",
       "      <td>Wearable</td>\n",
       "      <td>9</td>\n",
       "      <td>Werable</td>\n",
       "      <td>Because the vibrations help in knowing how clo...</td>\n",
       "      <td>I believe it is hard to measure the depth most...</td>\n",
       "    </tr>\n",
       "    <tr>\n",
       "      <th>5</th>\n",
       "      <td>2019/08/13 6:37:02 PM UTC+2</td>\n",
       "      <td>29</td>\n",
       "      <td>Male</td>\n",
       "      <td>10</td>\n",
       "      <td>8</td>\n",
       "      <td>Wearable</td>\n",
       "      <td>10</td>\n",
       "      <td>Werable</td>\n",
       "      <td>The wearable interface feels more natural and ...</td>\n",
       "      <td>It was hard to accomplish the tasks with the r...</td>\n",
       "    </tr>\n",
       "    <tr>\n",
       "      <th>6</th>\n",
       "      <td>2019/08/13 6:39:57 PM UTC+2</td>\n",
       "      <td>21</td>\n",
       "      <td>Male</td>\n",
       "      <td>10</td>\n",
       "      <td>1</td>\n",
       "      <td>Wearable</td>\n",
       "      <td>10</td>\n",
       "      <td>Werable</td>\n",
       "      <td>Physical feedback compensated the lack of visi...</td>\n",
       "      <td>The haptic interface was really good. It could...</td>\n",
       "    </tr>\n",
       "    <tr>\n",
       "      <th>7</th>\n",
       "      <td>2019/08/22 5:06:02 PM UTC+2</td>\n",
       "      <td>28</td>\n",
       "      <td>Male</td>\n",
       "      <td>7</td>\n",
       "      <td>1</td>\n",
       "      <td>Remote controller</td>\n",
       "      <td>9</td>\n",
       "      <td>Remote controller</td>\n",
       "      <td>Spatial control felt easier with the remote co...</td>\n",
       "      <td>For the obstacles used in this experiment, I t...</td>\n",
       "    </tr>\n",
       "    <tr>\n",
       "      <th>8</th>\n",
       "      <td>2019/08/22 6:04:56 PM UTC+2</td>\n",
       "      <td>28</td>\n",
       "      <td>Male</td>\n",
       "      <td>9</td>\n",
       "      <td>8</td>\n",
       "      <td>Wearable</td>\n",
       "      <td>10</td>\n",
       "      <td>Werable</td>\n",
       "      <td>I preferred the haptic feedback, as the depth ...</td>\n",
       "      <td>This system would be especially useful when yo...</td>\n",
       "    </tr>\n",
       "    <tr>\n",
       "      <th>9</th>\n",
       "      <td>2019/08/22 6:43:03 PM UTC+2</td>\n",
       "      <td>23</td>\n",
       "      <td>Male</td>\n",
       "      <td>7</td>\n",
       "      <td>6</td>\n",
       "      <td>Wearable</td>\n",
       "      <td>10</td>\n",
       "      <td>Werable</td>\n",
       "      <td>The haptics feedback helps a lot during the ta...</td>\n",
       "      <td>The haptic feedback + control with the hand ma...</td>\n",
       "    </tr>\n",
       "    <tr>\n",
       "      <th>10</th>\n",
       "      <td>2019/08/24 12:11:45 AM UTC+2</td>\n",
       "      <td>23</td>\n",
       "      <td>Male</td>\n",
       "      <td>7</td>\n",
       "      <td>6</td>\n",
       "      <td>Wearable</td>\n",
       "      <td>10</td>\n",
       "      <td>Werable</td>\n",
       "      <td>The haptics feedback helps a lot during the ta...</td>\n",
       "      <td>The haptic feedback + control with the hand ma...</td>\n",
       "    </tr>\n",
       "    <tr>\n",
       "      <th>11</th>\n",
       "      <td>2019/08/28 1:38:23 PM UTC+2</td>\n",
       "      <td>31</td>\n",
       "      <td>Male</td>\n",
       "      <td>5</td>\n",
       "      <td>1</td>\n",
       "      <td>Wearable</td>\n",
       "      <td>6</td>\n",
       "      <td>Werable</td>\n",
       "      <td>having a feedback</td>\n",
       "      <td>The place of vibrator for forward direction wa...</td>\n",
       "    </tr>\n",
       "    <tr>\n",
       "      <th>12</th>\n",
       "      <td>2019/08/28 3:48:56 PM UTC+2</td>\n",
       "      <td>24</td>\n",
       "      <td>Male</td>\n",
       "      <td>10</td>\n",
       "      <td>3</td>\n",
       "      <td>Wearable</td>\n",
       "      <td>9</td>\n",
       "      <td>Werable</td>\n",
       "      <td>Wearable control is more fun and haptic interf...</td>\n",
       "      <td>Even if haptic interface helps a lot to feel d...</td>\n",
       "    </tr>\n",
       "  </tbody>\n",
       "</table>\n",
       "</div>"
      ],
      "text/plain": [
       "                      Horodateur  Age  Gender  \\\n",
       "0   2019/08/13 10:13:17 AM UTC+2   24    Male   \n",
       "1   2019/08/13 10:54:21 AM UTC+2   27    Male   \n",
       "2   2019/08/13 12:00:14 PM UTC+2   32  Female   \n",
       "3    2019/08/13 3:50:38 PM UTC+2   27  Female   \n",
       "4    2019/08/13 5:22:01 PM UTC+2   25  Female   \n",
       "5    2019/08/13 6:37:02 PM UTC+2   29    Male   \n",
       "6    2019/08/13 6:39:57 PM UTC+2   21    Male   \n",
       "7    2019/08/22 5:06:02 PM UTC+2   28    Male   \n",
       "8    2019/08/22 6:04:56 PM UTC+2   28    Male   \n",
       "9    2019/08/22 6:43:03 PM UTC+2   23    Male   \n",
       "10  2019/08/24 12:11:45 AM UTC+2   23    Male   \n",
       "11   2019/08/28 1:38:23 PM UTC+2   31    Male   \n",
       "12   2019/08/28 3:48:56 PM UTC+2   24    Male   \n",
       "\n",
       "    How experienced are you with the use of remote controllers?  \\\n",
       "0                                                   9             \n",
       "1                                                   5             \n",
       "2                                                   3             \n",
       "3                                                  10             \n",
       "4                                                   3             \n",
       "5                                                  10             \n",
       "6                                                  10             \n",
       "7                                                   7             \n",
       "8                                                   9             \n",
       "9                                                   7             \n",
       "10                                                  7             \n",
       "11                                                  5             \n",
       "12                                                 10             \n",
       "\n",
       "    How experienced are you with the use of remote controllers for controlling drones?  \\\n",
       "0                                                   9                                    \n",
       "1                                                   2                                    \n",
       "2                                                   3                                    \n",
       "3                                                   1                                    \n",
       "4                                                   1                                    \n",
       "5                                                   8                                    \n",
       "6                                                   1                                    \n",
       "7                                                   1                                    \n",
       "8                                                   8                                    \n",
       "9                                                   6                                    \n",
       "10                                                  6                                    \n",
       "11                                                  1                                    \n",
       "12                                                  3                                    \n",
       "\n",
       "   Which interface was easier to use for the task?  \\\n",
       "0                                         Wearable   \n",
       "1                                         Wearable   \n",
       "2                                         Wearable   \n",
       "3                                         Wearable   \n",
       "4                                         Wearable   \n",
       "5                                         Wearable   \n",
       "6                                         Wearable   \n",
       "7                                Remote controller   \n",
       "8                                         Wearable   \n",
       "9                                         Wearable   \n",
       "10                                        Wearable   \n",
       "11                                        Wearable   \n",
       "12                                        Wearable   \n",
       "\n",
       "    How useful was the haptic inteface? Which interface did you prefer?  \\\n",
       "0                                    10                         Werable   \n",
       "1                                     9                         Werable   \n",
       "2                                     9                         Werable   \n",
       "3                                    10                         Werable   \n",
       "4                                     9                         Werable   \n",
       "5                                    10                         Werable   \n",
       "6                                    10                         Werable   \n",
       "7                                     9               Remote controller   \n",
       "8                                    10                         Werable   \n",
       "9                                    10                         Werable   \n",
       "10                                   10                         Werable   \n",
       "11                                    6                         Werable   \n",
       "12                                    9                         Werable   \n",
       "\n",
       "                                                 Why?  \\\n",
       "0                              Gives a sense of depth   \n",
       "1   It was nice to have the physical motion associ...   \n",
       "2   it was easier to control and it felt more simi...   \n",
       "3   due to vibrations it's possible to align not o...   \n",
       "4   Because the vibrations help in knowing how clo...   \n",
       "5   The wearable interface feels more natural and ...   \n",
       "6   Physical feedback compensated the lack of visi...   \n",
       "7   Spatial control felt easier with the remote co...   \n",
       "8   I preferred the haptic feedback, as the depth ...   \n",
       "9   The haptics feedback helps a lot during the ta...   \n",
       "10  The haptics feedback helps a lot during the ta...   \n",
       "11                                  having a feedback   \n",
       "12  Wearable control is more fun and haptic interf...   \n",
       "\n",
       "       Please give your personal feedback/impressions  \n",
       "0   The vibrating gloves are comfortable to use an...  \n",
       "1   It would be nice to not have the vibration by ...  \n",
       "2   the vibration was very useful, if the behind w...  \n",
       "3   Tasks were interesting and getting more challe...  \n",
       "4   I believe it is hard to measure the depth most...  \n",
       "5   It was hard to accomplish the tasks with the r...  \n",
       "6   The haptic interface was really good. It could...  \n",
       "7   For the obstacles used in this experiment, I t...  \n",
       "8   This system would be especially useful when yo...  \n",
       "9   The haptic feedback + control with the hand ma...  \n",
       "10  The haptic feedback + control with the hand ma...  \n",
       "11  The place of vibrator for forward direction wa...  \n",
       "12  Even if haptic interface helps a lot to feel d...  "
      ]
     },
     "execution_count": 4,
     "metadata": {},
     "output_type": "execute_result"
    }
   ],
   "source": [
    "answers_df = pd.read_csv(os.path.join(folder, csv))\n",
    "answers_df"
   ]
  },
  {
   "cell_type": "markdown",
   "metadata": {},
   "source": [
    "## Separate questions"
   ]
  },
  {
   "cell_type": "code",
   "execution_count": 6,
   "metadata": {},
   "outputs": [],
   "source": [
    "data = {}\n",
    "\n",
    "age = 'Age'\n",
    "gender = 'Gender'\n",
    "experience_controller = 'How experienced are you with the use of remote controllers?'\n",
    "experience_controller_drone = 'How experienced are you with the use of remote controllers for controlling drones?'\n",
    "easier_for_task = 'Which interface was easier to use for the task?'\n",
    "useful = 'How useful was the haptic inteface?'\n",
    "prefered = 'Which interface did you prefer?'\n",
    "\n",
    "questions = [age, gender, experience_controller, experience_controller_drone, easier_for_task, useful, prefered]\n",
    "\n",
    "for q in questions:\n",
    "    data[q] = answers_df[q].values"
   ]
  },
  {
   "cell_type": "markdown",
   "metadata": {},
   "source": [
    "## Compute mean and average"
   ]
  },
  {
   "cell_type": "code",
   "execution_count": 7,
   "metadata": {},
   "outputs": [
    {
     "name": "stdout",
     "output_type": "stream",
     "text": [
      "{'Age': [26.307692307692307, 3.1716197120135856], 'How experienced are you with the use of remote controllers?': [7.3076923076923075, 2.5232645333625734], 'How experienced are you with the use of remote controllers for controlling drones?': [3.8461538461538463, 2.9831876045638945], 'How useful was the haptic inteface?': [9.307692307692308, 1.065877420042386]}\n"
     ]
    }
   ],
   "source": [
    "stats = {}\n",
    "\n",
    "mean_index = 0\n",
    "std_index = 1\n",
    "\n",
    "for q in [age, experience_controller, experience_controller_drone, useful]:\n",
    "    stats[q] = [0, 0]\n",
    "    stats[q][mean_index] = np.mean(data[q])\n",
    "    stats[q][std_index] = np.std(data[q])\n",
    "        \n",
    "print(stats)"
   ]
  },
  {
   "cell_type": "markdown",
   "metadata": {},
   "source": [
    "## Results"
   ]
  },
  {
   "cell_type": "markdown",
   "metadata": {},
   "source": [
    "Stats (similarly for stats_hw for the hardware experiments) is a nested dictionnary containing the mean and std for each question of the survey, separated depending on the interface (remote or motion) and run (first or last)\n",
    "\n",
    "data (similarly data_hw) can be used to create boxplot for the distribution of answers."
   ]
  },
  {
   "cell_type": "code",
   "execution_count": 8,
   "metadata": {},
   "outputs": [
    {
     "data": {
      "text/plain": [
       "{'whiskers': [<matplotlib.lines.Line2D at 0x27bc5a52b38>,\n",
       "  <matplotlib.lines.Line2D at 0x27bc5a52e80>],\n",
       " 'caps': [<matplotlib.lines.Line2D at 0x27bc5a52f60>,\n",
       "  <matplotlib.lines.Line2D at 0x27bc5a68550>],\n",
       " 'boxes': [<matplotlib.lines.Line2D at 0x27bc5a52710>],\n",
       " 'medians': [<matplotlib.lines.Line2D at 0x27bc5a68898>],\n",
       " 'fliers': [<matplotlib.lines.Line2D at 0x27bc5a68be0>],\n",
       " 'means': []}"
      ]
     },
     "execution_count": 8,
     "metadata": {},
     "output_type": "execute_result"
    },
    {
     "data": {
      "image/png": "[encoded data removed]",
      "text/plain": [
       "<Figure size 432x288 with 1 Axes>"
      ]
     },
     "metadata": {
      "needs_background": "light"
     },
     "output_type": "display_data"
    }
   ],
   "source": [
    "plt.boxplot(data[age])"
   ]
  },
  {
   "cell_type": "code",
   "execution_count": 11,
   "metadata": {},
   "outputs": [
    {
     "data": {
      "image/png": "[encoded data removed]",
      "text/plain": [
       "<Figure size 432x288 with 1 Axes>"
      ]
     },
     "metadata": {},
     "output_type": "display_data"
    },
    {
     "data": {
      "image/png": "[encoded data removed]",
      "text/plain": [
       "<Figure size 432x288 with 1 Axes>"
      ]
     },
     "metadata": {},
     "output_type": "display_data"
    },
    {
     "data": {
      "image/png": "[encoded data removed]",
      "text/plain": [
       "<Figure size 432x288 with 1 Axes>"
      ]
     },
     "metadata": {},
     "output_type": "display_data"
    }
   ],
   "source": [
    "gender_pie_data = Counter(data[gender])\n",
    "easier_for_task_pie_data = Counter(data[easier_for_task])\n",
    "prefered_pie_data = Counter(data[prefered])\n",
    "\n",
    "fig1, ax1 = plt.subplots()\n",
    "ax1.pie(gender_pie_data.values(), labels=gender_pie_data.keys(), autopct='%1.1f%%', startangle=90)\n",
    "ax1.axis('equal')  # Equal aspect ratio ensures that pie is drawn as a circle.\n",
    "ax1.set_title(gender)\n",
    "\n",
    "fig1, ax1 = plt.subplots()\n",
    "ax1.pie(easier_for_task_pie_data.values(), labels=easier_for_task_pie_data.keys(), autopct='%1.1f%%', startangle=90)\n",
    "ax1.axis('equal')  # Equal aspect ratio ensures that pie is drawn as a circle.\n",
    "ax1.set_title(easier_for_task)\n",
    "\n",
    "fig1, ax1 = plt.subplots()\n",
    "ax1.pie(prefered_pie_data.values(), labels=prefered_pie_data.keys(), autopct='%1.1f%%', startangle=90)\n",
    "ax1.axis('equal')  # Equal aspect ratio ensures that pie is drawn as a circle.\n",
    "ax1.set_title(prefered)\n",
    "\n",
    "plt.show()"
   ]
  },
  {
   "cell_type": "code",
   "execution_count": null,
   "metadata": {},
   "outputs": [],
   "source": []
  }
 ],
 "metadata": {
  "kernelspec": {
   "display_name": "Python 3",
   "language": "python",
   "name": "python3"
  },
  "language_info": {
   "codemirror_mode": {
    "name": "ipython",
    "version": 3
   },
   "file_extension": ".py",
   "mimetype": "text/x-python",
   "name": "python",
   "nbconvert_exporter": "python",
   "pygments_lexer": "ipython3",
   "version": "3.7.1"
  }
 },
 "nbformat": 4,
 "nbformat_minor": 2
}
