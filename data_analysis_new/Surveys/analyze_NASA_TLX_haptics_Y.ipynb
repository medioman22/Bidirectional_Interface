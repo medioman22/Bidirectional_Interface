{
 "cells": [
  {
   "cell_type": "markdown",
   "metadata": {},
   "source": [
    "# Analyse survey"
   ]
  },
  {
   "cell_type": "markdown",
   "metadata": {},
   "source": [
    "## Imports"
   ]
  },
  {
   "cell_type": "code",
   "execution_count": 1,
   "metadata": {},
   "outputs": [],
   "source": [
    "# -*- coding: utf-8 -*-\n",
    "\"\"\"\n",
    "Created on Fri Nov 16 13:02:17 2018\n",
    "\n",
    "@author: macchini\n",
    "\"\"\"\n",
    "\n",
    "import os,sys\n",
    "sys.path.insert(1, os.path.join(sys.path[0], '..'))\n",
    "\n",
    "import my_plots\n",
    "import numpy as np\n",
    "import pandas as pd\n",
    "import matplotlib.pyplot as plt\n",
    "import matplotlib as mpl\n",
    "import utils\n",
    "\n",
    "from numpy.random import seed\n",
    "from numpy.random import randn\n",
    "from scipy.stats import kruskal\n",
    "\n",
    "from statistics import print_p"
   ]
  },
  {
   "cell_type": "markdown",
   "metadata": {},
   "source": [
    "## Load file and create dataframe"
   ]
  },
  {
   "cell_type": "code",
   "execution_count": 2,
   "metadata": {},
   "outputs": [],
   "source": [
    "folder = './Data'\n",
    "\n",
    "files = os.listdir(folder)\n",
    "\n",
    "csv = 'NASA_TLX_haptics_2.csv'"
   ]
  },
  {
   "cell_type": "code",
   "execution_count": 3,
   "metadata": {
    "scrolled": true
   },
   "outputs": [],
   "source": [
    "answers_df = pd.read_csv(os.path.join(folder, csv))\n",
    "\n",
    "# Separate hardware and simulation experiments\n",
    "answers_df_hw = answers_df[answers_df['subject number'] >= 100]\n",
    "answers_df = answers_df[answers_df['subject number'] < 100]"
   ]
  },
  {
   "cell_type": "markdown",
   "metadata": {},
   "source": [
    "## Separate dataframe depending on interface/run"
   ]
  },
  {
   "cell_type": "code",
   "execution_count": 4,
   "metadata": {},
   "outputs": [],
   "source": [
    "types = ['remote', 'motion']\n",
    "\n",
    "# Separate answers depending on interface and run\n",
    "answers = {}\n",
    "answers[types[0]] = answers_df[answers_df['Interface'] == 'Remote']\n",
    "answers[types[1]] = answers_df[answers_df['Interface'] == 'Motion']\n",
    "\n",
    "answers_hw = {}\n",
    "answers_hw[types[0]] = answers_df_hw[answers_df_hw['Interface'] == 'Remote']\n",
    "answers_hw[types[1]] = answers_df_hw[answers_df_hw['Interface'] == 'Motion']"
   ]
  },
  {
   "cell_type": "markdown",
   "metadata": {},
   "source": [
    "## Separate questions"
   ]
  },
  {
   "cell_type": "code",
   "execution_count": 5,
   "metadata": {},
   "outputs": [],
   "source": [
    "data = {}\n",
    "data_hw = {}\n",
    "\n",
    "mentally_demanding = 'How mentally demanding was the test?'\n",
    "physically_demanding = 'How physically demanding was the test?'\n",
    "pace = 'How hurried or rushed was the pace of the task?'\n",
    "successful = 'How successful were you in accomplishing what you were asked to do?'\n",
    "insecure = 'How insecure, discouraged, irritated, stresses, and annoyed were you?'\n",
    "\n",
    "questions = [mentally_demanding, physically_demanding, pace, successful, insecure]\n",
    "\n",
    "for i in types:\n",
    "    data[i] = {}\n",
    "    data_hw[i] = {}\n",
    "    for q in questions:\n",
    "        data[i][q] = answers[i][q].values\n",
    "        data_hw[i][q] = answers_hw[i][q].values"
   ]
  },
  {
   "cell_type": "markdown",
   "metadata": {},
   "source": [
    "## Compute mean and average"
   ]
  },
  {
   "cell_type": "code",
   "execution_count": 6,
   "metadata": {},
   "outputs": [
    {
     "name": "stdout",
     "output_type": "stream",
     "text": [
      "{'remote': {'How mentally demanding was the test?': [2.8, 0.8717797887081347], 'How physically demanding was the test?': [1.3, 0.45825756949558394], 'How hurried or rushed was the pace of the task?': [1.3, 0.45825756949558405], 'How successful were you in accomplishing what you were asked to do?': [2.4, 0.9165151389911681], 'How insecure, discouraged, irritated, stresses, and annoyed were you?': [2.0, 1.0]}, 'motion': {'How mentally demanding was the test?': [2.0, 1.0540925533894598], 'How physically demanding was the test?': [1.4444444444444444, 0.6849348892187752], 'How hurried or rushed was the pace of the task?': [1.2222222222222223, 0.628539361054709], 'How successful were you in accomplishing what you were asked to do?': [3.888888888888889, 0.7370277311900889], 'How insecure, discouraged, irritated, stresses, and annoyed were you?': [1.0, 0.0]}}\n"
     ]
    }
   ],
   "source": [
    "stats = {}\n",
    "stats_hw = {}\n",
    "\n",
    "mean_index = 0\n",
    "std_index = 1\n",
    "\n",
    "for i in types:\n",
    "    stats[i] = {}\n",
    "    stats_hw[i] = {}\n",
    "    for q in questions:\n",
    "        stats[i][q] = [0, 0]\n",
    "        stats[i][q][mean_index] = np.mean(data[i][q])\n",
    "        stats[i][q][std_index] = np.std(data[i][q])\n",
    "        \n",
    "        stats_hw[i][q] = [0, 0]\n",
    "        stats_hw[i][q][mean_index] = np.mean(data_hw[i][q])\n",
    "        stats_hw[i][q][std_index] = np.std(data_hw[i][q])\n",
    "        \n",
    "print(stats)"
   ]
  },
  {
   "cell_type": "markdown",
   "metadata": {},
   "source": [
    "## Results"
   ]
  },
  {
   "cell_type": "markdown",
   "metadata": {},
   "source": [
    "Stats (similarly for stats_hw for the hardware experiments) is a nested dictionnary containing the mean and std for each question of the survey, separated depending on the interface (remote or motion) and run (first or last)\n",
    "\n",
    "data (similarly data_hw) can be used to create boxplot for the distribution of answers."
   ]
  },
  {
   "cell_type": "code",
   "execution_count": 7,
   "metadata": {},
   "outputs": [],
   "source": [
    "def t_test_kruskal(X, Y):\n",
    "    \n",
    "    # Kruskal-Wallis H-test\n",
    "    \n",
    "    # seed the random number generator\n",
    "    seed(1)\n",
    "    \n",
    "    # compare samples\n",
    "    stat, p = kruskal(X, Y)\n",
    "    \n",
    "    return [stat, p]"
   ]
  },
  {
   "cell_type": "code",
   "execution_count": 8,
   "metadata": {},
   "outputs": [
    {
     "name": "stdout",
     "output_type": "stream",
     "text": [
      "\n",
      "\n",
      "remote motion How mentally demanding was the test?\n",
      "p = 0.10599426350123946\n",
      "remote motion How physically demanding was the test?\n",
      "p = 0.7635726487259695\n",
      "remote motion How hurried or rushed was the pace of the task?\n",
      "p = 0.42135683188931183\n",
      "remote motion How successful were you in accomplishing what you were asked to do?\n",
      "\u001b[32mp = 0.003955851600090126 !!!!!!!!!!\u001b[0m\n",
      "remote motion How insecure, discouraged, irritated, stresses, and annoyed were you?\n",
      "\u001b[32mp = 0.007347491016318628 !!!!!!!!!!\u001b[0m\n",
      "\n"
     ]
    }
   ],
   "source": [
    "for idx,i in enumerate(types):\n",
    "    print()\n",
    "    for j in types[idx+1:]:\n",
    "        print()\n",
    "        for q in questions:\n",
    "            if i != j:\n",
    "                # also, compare only first-last for same interface or first-first, last-last for different ones\n",
    "\n",
    "                t, p = t_test_kruskal(data[i][q],data[j][q])\n",
    "                print(i,j,q)\n",
    "                print_p(p)"
   ]
  },
  {
   "cell_type": "markdown",
   "metadata": {},
   "source": [
    "### remote-first motion-first How physically demanding was the test? p =  0.0488888176268915\n",
    "### remote-last motion-last How physically demanding was the test? p =  0.23390621098854886\n",
    "### remote-last motion-last How mentally demanding was the test? p =  0.01913961955875495\n",
    "### motion-first remote-first How mentally demanding was the test? p =  0.03344653009997241"
   ]
  },
  {
   "cell_type": "code",
   "execution_count": 9,
   "metadata": {},
   "outputs": [
    {
     "name": "stdout",
     "output_type": "stream",
     "text": [
      "remote\n",
      "{'How mentally demanding was the test?': [2.8, 0.8717797887081347], 'How physically demanding was the test?': [1.3, 0.45825756949558394], 'How hurried or rushed was the pace of the task?': [1.3, 0.45825756949558405], 'How successful were you in accomplishing what you were asked to do?': [2.4, 0.9165151389911681], 'How insecure, discouraged, irritated, stresses, and annoyed were you?': [2.0, 1.0]}\n",
      "[2.8, 1.3, 1.3, 2.4, 2.0]\n",
      "[0.8717797887081347, 0.45825756949558394, 0.45825756949558405, 0.9165151389911681, 1.0]\n"
     ]
    },
    {
     "ename": "NameError",
     "evalue": "name 'vals' is not defined",
     "output_type": "error",
     "traceback": [
      "\u001b[0;31m---------------------------------------------------------------------------\u001b[0m",
      "\u001b[0;31mNameError\u001b[0m                                 Traceback (most recent call last)",
      "\u001b[0;32m<ipython-input-9-8723fab8ede0>\u001b[0m in \u001b[0;36m<module>\u001b[0;34m\u001b[0m\n\u001b[1;32m     18\u001b[0m     \u001b[0mplt\u001b[0m\u001b[0;34m.\u001b[0m\u001b[0mtitle\u001b[0m\u001b[0;34m(\u001b[0m\u001b[0ms\u001b[0m\u001b[0;34m)\u001b[0m\u001b[0;34m\u001b[0m\u001b[0;34m\u001b[0m\u001b[0m\n\u001b[1;32m     19\u001b[0m     \u001b[0mplt\u001b[0m\u001b[0;34m.\u001b[0m\u001b[0mylim\u001b[0m\u001b[0;34m(\u001b[0m\u001b[0;36m0\u001b[0m\u001b[0;34m,\u001b[0m \u001b[0;36m5\u001b[0m\u001b[0;34m)\u001b[0m\u001b[0;34m\u001b[0m\u001b[0;34m\u001b[0m\u001b[0m\n\u001b[0;32m---> 20\u001b[0;31m     \u001b[0mvals\u001b[0m\u001b[0;34m.\u001b[0m\u001b[0mappend\u001b[0m\u001b[0;34m(\u001b[0m\u001b[0mmeans\u001b[0m\u001b[0;34m[\u001b[0m\u001b[0;36m2\u001b[0m\u001b[0;34m,\u001b[0m\u001b[0;36m3\u001b[0m\u001b[0;34m:\u001b[0m\u001b[0;36m5\u001b[0m\u001b[0;34m]\u001b[0m\u001b[0;34m)\u001b[0m\u001b[0;34m\u001b[0m\u001b[0;34m\u001b[0m\u001b[0m\n\u001b[0m\u001b[1;32m     21\u001b[0m     \u001b[0merrors\u001b[0m\u001b[0;34m.\u001b[0m\u001b[0mappend\u001b[0m\u001b[0;34m(\u001b[0m\u001b[0mstds\u001b[0m\u001b[0;34m[\u001b[0m\u001b[0;36m2\u001b[0m\u001b[0;34m,\u001b[0m\u001b[0;36m3\u001b[0m\u001b[0;34m:\u001b[0m\u001b[0;36m5\u001b[0m\u001b[0;34m]\u001b[0m\u001b[0;34m)\u001b[0m\u001b[0;34m\u001b[0m\u001b[0;34m\u001b[0m\u001b[0m\n",
      "\u001b[0;31mNameError\u001b[0m: name 'vals' is not defined"
     ]
    },
    {
     "data": {
      "image/png": "[encoded data removed]",
      "text/plain": [
       "<Figure size 1152x288 with 1 Axes>"
      ]
     },
     "metadata": {
      "needs_background": "light"
     },
     "output_type": "display_data"
    }
   ],
   "source": [
    "plt.figure(figsize=(16,4))\n",
    "\n",
    "for idx, s in enumerate(stats):\n",
    "    print(s)\n",
    "    print(stats[s])\n",
    "    \n",
    "    means = [stats[s][q][0] for q in questions]\n",
    "    stds = [stats[s][q][1] for q in questions]\n",
    "    \n",
    "    print(means)\n",
    "    print(stds)\n",
    "    \n",
    "    ax = plt.subplot(141+idx)\n",
    "    \n",
    "    ax.bar([0, 1, 2, 3, 4],\n",
    "       means,\n",
    "       yerr=stds)\n",
    "    plt.title(s)\n",
    "    plt.ylim(0, 5)"
   ]
  },
  {
   "cell_type": "code",
   "execution_count": null,
   "metadata": {},
   "outputs": [],
   "source": [
    "plt.figure(figsize=(4,4))\n",
    "ax = plt.subplot(111)\n",
    "my_plots.bar_multi(vals, errors, legend = ['R','M'], xlabels = ['Q 4', 'Q 5'], xlim = [0.5,2.5], yticks = [1,2,3,4,5], w =0.15, save = True, where = 'hapt_NASA.pdf', colors = 'br')"
   ]
  },
  {
   "cell_type": "code",
   "execution_count": null,
   "metadata": {},
   "outputs": [],
   "source": []
  }
 ],
 "metadata": {
  "kernelspec": {
   "display_name": "Python 3",
   "language": "python",
   "name": "python3"
  },
  "language_info": {
   "codemirror_mode": {
    "name": "ipython",
    "version": 3
   },
   "file_extension": ".py",
   "mimetype": "text/x-python",
   "name": "python",
   "nbconvert_exporter": "python",
   "pygments_lexer": "ipython3",
   "version": "3.7.4"
  }
 },
 "nbformat": 4,
 "nbformat_minor": 4
}
