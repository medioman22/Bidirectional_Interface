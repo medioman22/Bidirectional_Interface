{
 "cells": [
  {
   "cell_type": "markdown",
   "metadata": {},
   "source": [
    "# Analyse survey"
   ]
  },
  {
   "cell_type": "markdown",
   "metadata": {},
   "source": [
    "## Imports"
   ]
  },
  {
   "cell_type": "code",
   "execution_count": 1,
   "metadata": {
    "jupyter": {
     "source_hidden": true
    }
   },
   "outputs": [],
   "source": [
    "# -*- coding: utf-8 -*-\n",
    "\"\"\"\n",
    "Created on Fri Nov 16 13:02:17 2018\n",
    "\n",
    "@author: macchini\n",
    "\"\"\"\n",
    "%load_ext autoreload\n",
    "%autoreload 2\n",
    "\n",
    "import os,sys\n",
    "sys.path.insert(1, os.path.join(sys.path[0], '..'))\n",
    "\n",
    "import my_plots\n",
    "import numpy as np\n",
    "import pandas as pd\n",
    "import matplotlib.pyplot as plt\n",
    "import matplotlib as mpl\n",
    "import utils\n",
    "\n",
    "from numpy.random import seed\n",
    "from numpy.random import randn\n",
    "from scipy.stats import kruskal\n",
    "\n",
    "from collections import Counter\n",
    "from matplotlib.pylab import savefig"
   ]
  },
  {
   "cell_type": "code",
   "execution_count": 2,
   "metadata": {
    "jupyter": {
     "source_hidden": true
    }
   },
   "outputs": [],
   "source": [
    "# plot settings\n",
    "\n",
    "lw = 1.5\n",
    "\n",
    "fs = 13\n",
    "\n",
    "params = {\n",
    "    'axes.labelsize': fs,\n",
    "    'font.size': fs,\n",
    "    'legend.fontsize': fs,\n",
    "    'xtick.labelsize': fs,\n",
    "    'ytick.labelsize': fs,\n",
    "    'text.usetex': False,\n",
    "    'figure.figsize': [4, 4],\n",
    "    'boxplot.boxprops.linewidth' : lw,\n",
    "    'boxplot.whiskerprops.linewidth' : lw,\n",
    "    'boxplot.capprops.linewidth' : lw,\n",
    "    'boxplot.medianprops.linewidth' : lw,\n",
    "    'text.usetex' : True,\n",
    "    'font.family' : 'serif',\n",
    "\n",
    "   }\n",
    "mpl.rcParams.update(params)"
   ]
  },
  {
   "cell_type": "markdown",
   "metadata": {},
   "source": [
    "## Load file and create dataframe"
   ]
  },
  {
   "cell_type": "code",
   "execution_count": 3,
   "metadata": {
    "jupyter": {
     "source_hidden": true
    }
   },
   "outputs": [],
   "source": [
    "folder = './Data'\n",
    "\n",
    "csv = 'Bidirectional Interface - learning.csv'"
   ]
  },
  {
   "cell_type": "code",
   "execution_count": 4,
   "metadata": {
    "jupyter": {
     "source_hidden": true
    },
    "scrolled": true
   },
   "outputs": [],
   "source": [
    "answers_df = pd.read_csv(os.path.join(folder, csv))\n",
    "\n",
    "answers_df_sim = answers_df.iloc[[8,9,11,12,17,18,19,20,21]]\n",
    "answers_df_sim\n",
    "\n",
    "answers_df_hw = answers_df.iloc[[13,14,15,16]]\n",
    "# answers_df_sim"
   ]
  },
  {
   "cell_type": "markdown",
   "metadata": {},
   "source": [
    "## Separate questions"
   ]
  },
  {
   "cell_type": "code",
   "execution_count": 5,
   "metadata": {},
   "outputs": [],
   "source": [
    "data_sim = {}\n",
    "data_hw = {}\n",
    "\n",
    "\n",
    "age = 'Age'\n",
    "gender = 'Gender'\n",
    "experience_controller = 'How experienced are you with the use of remote controllers?'\n",
    "experience_controller_drone = 'How experienced are you with the use of remote controllers for controlling drones?'\n",
    "easier_first = 'Which interface was easier to use in the FIRST run?'\n",
    "easier_last = 'Which interface was easier to use in the LAST run?'\n",
    "prefered = 'Which interface did you prefer?'\n",
    "why = 'Why?'\n",
    "feedback = 'Please give your personal feedback/impressions'\n",
    "\n",
    "questions = [age, gender, experience_controller, experience_controller_drone, easier_first, easier_last, prefered, why, feedback]\n",
    "\n",
    "for q in questions:\n",
    "    data_sim[q] = answers_df_sim[q].values\n",
    "for q in questions:\n",
    "    data_hw[q] = answers_df_hw[q].values"
   ]
  },
  {
   "cell_type": "markdown",
   "metadata": {},
   "source": [
    "## Compute mean and average"
   ]
  },
  {
   "cell_type": "code",
   "execution_count": 6,
   "metadata": {},
   "outputs": [],
   "source": [
    "def compute_stats(data):\n",
    "\n",
    "    stats = {}\n",
    "\n",
    "    mean_index = 0\n",
    "    std_index = 1\n",
    "\n",
    "    for q in [age, experience_controller, experience_controller_drone]:\n",
    "        stats[q] = [0, 0]\n",
    "        stats[q][mean_index] = np.mean(data[q])\n",
    "        stats[q][std_index] = np.std(data[q])\n",
    "\n",
    "    return stats\n",
    "\n",
    "stats_sim = compute_stats(data_sim)\n",
    "stats_hw = compute_stats(data_hw)"
   ]
  },
  {
   "cell_type": "markdown",
   "metadata": {},
   "source": [
    "## Results"
   ]
  },
  {
   "cell_type": "code",
   "execution_count": 7,
   "metadata": {},
   "outputs": [],
   "source": [
    "# Stats (similarly for stats_hw for the hardware experiments) is a nested dictionnary containing the mean and std for each question of the survey, separated depending on the interface (remote or motion) and run (first or last)\n",
    "\n",
    "# data (similarly data_hw) can be used to create boxplot for the distribution of answers."
   ]
  },
  {
   "cell_type": "code",
   "execution_count": 8,
   "metadata": {},
   "outputs": [
    {
     "data": {
      "image/png": "[encoded data removed]",
      "text/plain": [
       "<Figure size 360x144 with 3 Axes>"
      ]
     },
     "metadata": {
      "needs_background": "light"
     },
     "output_type": "display_data"
    }
   ],
   "source": [
    "resp_data = {}\n",
    "\n",
    "resp_data[easier_first] = Counter(data_sim[easier_first])\n",
    "resp_data[easier_last] = Counter(data_sim[easier_last])\n",
    "resp_data[prefered] = Counter(data_sim[prefered])\n",
    "\n",
    "resp_data[prefered]['Equivalent'] = 0\n",
    "\n",
    "fig = plt.figure(figsize = (5,2))\n",
    "\n",
    "qs = ['QL 1', 'QL 2', 'QL 3']\n",
    "\n",
    "c1 = 'gray'\n",
    "c2 = 'b'\n",
    "c3 = 'r'\n",
    "\n",
    "c = [c1, c2, c3]\n",
    "\n",
    "for jdx, j in enumerate(resp_data):\n",
    "    \n",
    "    ax = fig.add_subplot(1, len(resp_data), 1+jdx)\n",
    "\n",
    "    options = []\n",
    "    resp = []\n",
    "\n",
    "    for i in sorted(resp_data[j]):\n",
    "        options.append(i)\n",
    "        resp.append(resp_data[j][i])\n",
    "\n",
    "    for idx, i in enumerate(options):\n",
    "        \n",
    "        lab = i if 'We' not in i else 'Wearable'\n",
    "        if 'Re' in i:\n",
    "            lab = 'Remote' \n",
    "#         lab = i if 'Remote' in i else 'Remote'\n",
    "        \n",
    "        plt.bar(1+idx, resp[idx], label = lab, color = c[idx])\n",
    "    \n",
    "    if jdx==0:\n",
    "        plt.legend(loc = 'upper left')  \n",
    "        plt.yticks([0, 2, 4, 6, 8, 10])\n",
    "    else:\n",
    "        plt.yticks([0, 2, 4, 6, 8, 10], ['','','','','',''])\n",
    "        \n",
    "    if jdx==1:\n",
    "        plt.title('Responses')\n",
    "    \n",
    "    ax.yaxis.grid()\n",
    "    plt.ylim(0,10)\n",
    "    plt.xticks([2],[qs[jdx]], axes=ax)\n",
    "    ax.spines['right'].set_visible(False)\n",
    "    ax.spines['top'].set_visible(False)\n",
    "    \n",
    "\n",
    "savefig('learn_quest.pdf', bbox_inches='tight')"
   ]
  },
  {
   "cell_type": "code",
   "execution_count": 9,
   "metadata": {},
   "outputs": [
    {
     "data": {
      "image/png": "[encoded data removed]",
      "text/plain": [
       "<Figure size 864x288 with 3 Axes>"
      ]
     },
     "metadata": {
      "needs_background": "light"
     },
     "output_type": "display_data"
    }
   ],
   "source": [
    "resp_data = {}\n",
    "\n",
    "resp_data[easier_first] = Counter(data_hw[easier_first])\n",
    "resp_data[easier_last] = Counter(data_hw[easier_last])\n",
    "resp_data[prefered] = Counter(data_hw[prefered])\n",
    "\n",
    "resp_data[prefered]['Equvalent'] = 0\n",
    "\n",
    "fig = plt.figure(figsize = (12,4))\n",
    "\n",
    "qs = ['QL 1', 'QL 2', 'QL 3']\n",
    "\n",
    "c1 = 'gray'\n",
    "c2 = 'b'\n",
    "c3 = 'r'\n",
    "\n",
    "c = [c1, c2, c3]\n",
    "\n",
    "for jdx, j in enumerate(resp_data):\n",
    "    \n",
    "    ax = fig.add_subplot(1, len(resp_data), 1+jdx)\n",
    "\n",
    "    options = []\n",
    "    resp = []\n",
    "\n",
    "    for i in sorted(resp_data[j]):\n",
    "        options.append(i)\n",
    "        resp.append(resp_data[j][i])\n",
    "\n",
    "    for idx, i in enumerate(options):\n",
    "        \n",
    "        lab = i if 'We' not in i else 'Motion-based'\n",
    "        \n",
    "        plt.bar(1+idx, resp[idx], label = lab, color = c[idx])\n",
    "    \n",
    "    if jdx==0:\n",
    "        plt.legend(loc = 'upper left')  \n",
    "    plt.grid()    \n",
    "    plt.ylim(0,10)\n",
    "    plt.xticks([2],[qs[jdx]], axes=ax)\n",
    "    ax.spines['right'].set_visible(False)\n",
    "    ax.spines['top'].set_visible(False)\n",
    "    plt.ylabel('Responses')\n",
    "    \n",
    "\n",
    "savefig('learn_quest.pdf', bbox_inches='tight')"
   ]
  },
  {
   "cell_type": "markdown",
   "metadata": {},
   "source": [
    "## <span style=\"color:red\">Interesting subjective feedback</span>"
   ]
  },
  {
   "cell_type": "markdown",
   "metadata": {},
   "source": [
    "# Questionnaires"
   ]
  },
  {
   "cell_type": "code",
   "execution_count": 10,
   "metadata": {
    "jupyter": {
     "source_hidden": true
    }
   },
   "outputs": [
    {
     "name": "stdout",
     "output_type": "stream",
     "text": [
      "SIMULATION\n",
      "-----------\n",
      "Why?\n",
      "-----------\n",
      "\n",
      "more fun, more intuitive (I did not have to think to the right handle to move as from the beginning)\n",
      "\n",
      "The joystick had a mapping of the inputs/outputs which is not what I am used to with drones. Therefore, I needed to get used to it and then the task got easier. Instead, with the wearable, I expected immediately that if I moved my hand up the drone would go up etc.\n",
      "\n",
      "I have much more experience with the remote control through video games and it was the first time I used motion control.\n",
      "\n",
      "I had an easier time understanding the controls of the wearable than I did of the video game controller\n",
      "\n",
      "Because with the wearable you could make much more smooth and precise movement than the remote controller which it felt like drone kept overshooting the position I wanted it to be in. \n",
      "\n",
      "It seemed to be more natural after a while \n",
      "\n",
      "It's easier to use it and to learn. The movements are smoother\n",
      "\n",
      "Wearable is much more fun to use\n",
      "\n",
      "more intuitive and more fun\n",
      "\n",
      "-----------\n",
      "Please give your personal feedback/impressions\n",
      "-----------\n",
      "\n",
      "I think that the gain of the wearable can be tuned better, but it seems very promosing :)\n",
      "\n",
      "In my opinion, the main problem related to the wearable interface is getting used to the clutch and how its use impacts the task completion. \n",
      "\n",
      "in the experiment, give more feedback about passing the gates. If a gate is successfully crossed, maybe change its colour to green\n",
      "\n",
      "I never got the hang of the controller.\n",
      "\n",
      "I found the task easier with multiple tries and this made using the remote easier as I used it after the wearable. I think the wearable is much more accurate and intuitive but if one wanted to maximize the speed at which you could complete the course, I believe the remote control would be easier with more practice, as you don`t need to keep re-clicking.\n",
      "\n",
      "I prefer the wearable but it needs some effort for training and then it seems better choice\n",
      "\n",
      "The test starts on the right and my impression was that it was more difficut to controle it in the sides\n",
      "\n",
      "Wearable seemed more precise and definitely more fun, but a bit too tiring for me\n",
      "\n",
      "the controller had some inertia that took some mental effort to take into account. The wearable controller is cool but I to move the drone on longer distances I had to do repetitive movements which took some time\n",
      "\n"
     ]
    }
   ],
   "source": [
    "why_answers = data_sim[why]\n",
    "\n",
    "print('SIMULATION')\n",
    "print('-----------')\n",
    "print(why)\n",
    "print('-----------')\n",
    "print()\n",
    "\n",
    "for w in why_answers:\n",
    "    print(w)\n",
    "    print()\n",
    "    \n",
    "print('-----------')\n",
    "print(feedback)\n",
    "print('-----------')\n",
    "print()\n",
    "\n",
    "feed_answers = data_sim[feedback]\n",
    "\n",
    "for f in feed_answers:\n",
    "    print(f)\n",
    "    print()"
   ]
  },
  {
   "cell_type": "markdown",
   "metadata": {},
   "source": [
    "## <span style=\"color:blue\">Need to check out these</span>"
   ]
  },
  {
   "cell_type": "markdown",
   "metadata": {},
   "source": [
    "# Backup - pie charts"
   ]
  },
  {
   "cell_type": "code",
   "execution_count": 11,
   "metadata": {
    "jupyter": {
     "source_hidden": true
    }
   },
   "outputs": [
    {
     "data": {
      "image/png": "[encoded data removed]",
      "text/plain": [
       "<Figure size 864x864 with 3 Axes>"
      ]
     },
     "metadata": {},
     "output_type": "display_data"
    },
    {
     "data": {
      "image/png": "[encoded data removed]",
      "text/plain": [
       "<Figure size 864x864 with 3 Axes>"
      ]
     },
     "metadata": {},
     "output_type": "display_data"
    }
   ],
   "source": [
    "def plot_pies(data):\n",
    "    \n",
    "    plt.figure(figsize = (12,12))\n",
    "\n",
    "    gender_pie_data = Counter(data[gender])\n",
    "    easier_first_pie_data = Counter(data[easier_first])\n",
    "    easier_last_pie_data = Counter(data[easier_last])\n",
    "    prefered_pie_data = Counter(data[prefered])\n",
    "\n",
    "#     ax1 = plt.subplot(221)\n",
    "#     ax1.pie(gender_pie_data.values(), labels=gender_pie_data.keys(), autopct='%1.1f%%', startangle=90)\n",
    "#     ax1.axis('equal')  # Equal aspect ratio ensures that pie is drawn as a circle.\n",
    "#     ax1.set_title(gender)\n",
    "\n",
    "    ax1 = plt.subplot(231)\n",
    "    ax1.pie(easier_first_pie_data.values(), labels=easier_first_pie_data.keys(), autopct='%1.1f%%', startangle=90)\n",
    "    ax1.axis('equal')  # Equal aspect ratio ensures that pie is drawn as a circle.\n",
    "    ax1.set_title(easier_first)\n",
    "\n",
    "    ax1 = plt.subplot(232)\n",
    "    ax1.pie(easier_last_pie_data.values(), labels=easier_last_pie_data.keys(), autopct='%1.1f%%', startangle=90)\n",
    "    ax1.axis('equal')  # Equal aspect ratio ensures that pie is drawn as a circle.\n",
    "    ax1.set_title(easier_last)\n",
    "\n",
    "    ax1 = plt.subplot(233)\n",
    "    ax1.pie(prefered_pie_data.values(), labels=prefered_pie_data.keys(), autopct='%1.1f%%', startangle=90)\n",
    "    ax1.axis('equal')  # Equal aspect ratio ensures that pie is drawn as a circle.\n",
    "    ax1.set_title(prefered)\n",
    "\n",
    "    plt.show()\n",
    "    \n",
    "plot_pies(data_sim)\n",
    "plot_pies(data_hw)"
   ]
  },
  {
   "cell_type": "code",
   "execution_count": null,
   "metadata": {},
   "outputs": [],
   "source": []
  },
  {
   "cell_type": "code",
   "execution_count": 12,
   "metadata": {},
   "outputs": [],
   "source": [
    "# plot settings\n",
    "\n",
    "lw = 1.5\n",
    "\n",
    "fs = 13\n",
    "\n",
    "params = {\n",
    "    'axes.labelsize': fs,\n",
    "    'font.size': fs,\n",
    "    'legend.fontsize': fs,\n",
    "    'xtick.labelsize': fs,\n",
    "    'ytick.labelsize': fs,\n",
    "    'text.usetex': False,\n",
    "    'figure.figsize': [4, 4],\n",
    "    'boxplot.boxprops.linewidth' : lw,\n",
    "    'boxplot.whiskerprops.linewidth' : lw,\n",
    "    'boxplot.capprops.linewidth' : lw,\n",
    "    'boxplot.medianprops.linewidth' : lw,\n",
    "    'text.usetex' : True,\n",
    "    'font.family' : 'serif',\n",
    "\n",
    "   }\n",
    "mpl.rcParams.update(params)"
   ]
  },
  {
   "cell_type": "code",
   "execution_count": 13,
   "metadata": {},
   "outputs": [
    {
     "data": {
      "text/plain": [
       "'more intuitive and more fun'"
      ]
     },
     "execution_count": 13,
     "metadata": {},
     "output_type": "execute_result"
    }
   ],
   "source": [
    "w"
   ]
  },
  {
   "cell_type": "markdown",
   "metadata": {},
   "source": [
    "# Analyse survey"
   ]
  },
  {
   "cell_type": "markdown",
   "metadata": {},
   "source": [
    "## Imports"
   ]
  },
  {
   "cell_type": "code",
   "execution_count": 14,
   "metadata": {},
   "outputs": [
    {
     "name": "stdout",
     "output_type": "stream",
     "text": [
      "The autoreload extension is already loaded. To reload it, use:\n",
      "  %reload_ext autoreload\n"
     ]
    }
   ],
   "source": [
    "# -*- coding: utf-8 -*-\n",
    "\"\"\"\n",
    "Created on Fri Nov 16 13:02:17 2018\n",
    "\n",
    "@author: macchini\n",
    "\"\"\"\n",
    "%load_ext autoreload\n",
    "%autoreload 2\n",
    "\n",
    "import os,sys\n",
    "sys.path.insert(1, os.path.join(sys.path[0], '..'))\n",
    "\n",
    "import my_plots\n",
    "import numpy as np\n",
    "import pandas as pd\n",
    "import matplotlib.pyplot as plt\n",
    "import matplotlib as mpl\n",
    "import utils\n",
    "\n",
    "from numpy.random import seed\n",
    "from numpy.random import randn\n",
    "from scipy.stats import kruskal\n",
    "\n",
    "from statistics import print_p\n",
    "from matplotlib.pylab import savefig"
   ]
  },
  {
   "cell_type": "markdown",
   "metadata": {},
   "source": [
    "## Load file and create dataframe"
   ]
  },
  {
   "cell_type": "code",
   "execution_count": 15,
   "metadata": {},
   "outputs": [],
   "source": [
    "folder = './Data'\n",
    "\n",
    "files = os.listdir(folder)\n",
    "\n",
    "csv = 'NASA_TLX_learn.csv'"
   ]
  },
  {
   "cell_type": "code",
   "execution_count": 16,
   "metadata": {
    "scrolled": true
   },
   "outputs": [],
   "source": [
    "answers_df = pd.read_csv(os.path.join(folder, csv))\n",
    "\n",
    "# Separate hardware and simulation experiments\n",
    "answers_df_hw = answers_df[answers_df['subject number'] >= 100]\n",
    "answers_df_hw = answers_df_hw[answers_df_hw['subject number'] != 103]\n",
    "answers_df = answers_df[answers_df['subject number'] < 100]"
   ]
  },
  {
   "cell_type": "markdown",
   "metadata": {},
   "source": [
    "## Separate dataframe depending on interface/run"
   ]
  },
  {
   "cell_type": "code",
   "execution_count": 17,
   "metadata": {},
   "outputs": [],
   "source": [
    "types = ['remote-first', 'remote-last', 'motion-first', 'motion-last']\n",
    "\n",
    "# Separate answers depending on interface and run\n",
    "answers = {}\n",
    "answers[types[0]] = answers_df[answers_df['Interface'] == 'Remote']\n",
    "answers[types[0]] = answers[types[0]][answers[types[0]]['Run'] == 'First']\n",
    "answers[types[1]] = answers_df[answers_df['Interface'] == 'Remote']\n",
    "answers[types[1]] = answers[types[1]][answers[types[1]]['Run'] == 'Last']\n",
    "answers[types[2]] = answers_df[answers_df['Interface'] == 'Motion']\n",
    "answers[types[2]] = answers[types[2]][answers[types[2]]['Run'] == 'First']\n",
    "answers[types[3]] = answers_df[answers_df['Interface'] == 'Motion']\n",
    "answers[types[3]] = answers[types[3]][answers[types[3]]['Run'] == 'Last']\n",
    "\n",
    "answers_hw = {}\n",
    "answers_hw[types[0]] = answers_df_hw[answers_df_hw['Interface'] == 'Remote']\n",
    "answers_hw[types[0]] = answers_hw[types[0]][answers_hw[types[0]]['Run'] == 'First']\n",
    "answers_hw[types[1]] = answers_df_hw[answers_df_hw['Interface'] == 'Remote']\n",
    "answers_hw[types[1]] = answers_hw[types[1]][answers_hw[types[1]]['Run'] == 'Last']\n",
    "answers_hw[types[2]] = answers_df_hw[answers_df_hw['Interface'] == 'Motion']\n",
    "answers_hw[types[2]] = answers_hw[types[2]][answers_hw[types[2]]['Run'] == 'First']\n",
    "answers_hw[types[3]] = answers_df_hw[answers_df_hw['Interface'] == 'Motion']\n",
    "answers_hw[types[3]] = answers_hw[types[3]][answers_hw[types[3]]['Run'] == 'Last']"
   ]
  },
  {
   "cell_type": "markdown",
   "metadata": {},
   "source": [
    "## Separate questions"
   ]
  },
  {
   "cell_type": "code",
   "execution_count": 18,
   "metadata": {},
   "outputs": [],
   "source": [
    "data_NASA = {}\n",
    "data_NASA_hw = {}\n",
    "\n",
    "mentally_demanding = 'How mentally demanding was the test?'\n",
    "physically_demanding = 'How physically demanding was the test?'\n",
    "pace = 'How hurried or rushed was the pace of the task?'\n",
    "successful = 'How successful were you in accomplishing what you were asked to do?'\n",
    "insecure = 'How insecure, discouraged, irritated, stresses, and annoyed were you?'\n",
    "\n",
    "questions_NASA = [mentally_demanding, physically_demanding, pace, successful, insecure]\n",
    "\n",
    "for i in types:\n",
    "    data_NASA[i] = {}\n",
    "    data_NASA_hw[i] = {}\n",
    "    for q in questions_NASA:\n",
    "        data_NASA[i][q] = answers[i][q].values\n",
    "        data_NASA_hw[i][q] = answers_hw[i][q].values"
   ]
  },
  {
   "cell_type": "markdown",
   "metadata": {},
   "source": [
    "## Compute mean and average"
   ]
  },
  {
   "cell_type": "code",
   "execution_count": 19,
   "metadata": {},
   "outputs": [
    {
     "name": "stdout",
     "output_type": "stream",
     "text": [
      "{'remote-first': {'How mentally demanding was the test?': [3.0, 1.0954451150103321], 'How physically demanding was the test?': [1.1, 0.3], 'How hurried or rushed was the pace of the task?': [2.2, 1.2489995996796797], 'How successful were you in accomplishing what you were asked to do?': [3.3, 1.2688577540449522], 'How insecure, discouraged, irritated, stresses, and annoyed were you?': [2.1, 1.044030650891055]}, 'remote-last': {'How mentally demanding was the test?': [2.7, 0.9], 'How physically demanding was the test?': [1.1, 0.3], 'How hurried or rushed was the pace of the task?': [2.4, 1.42828568570857], 'How successful were you in accomplishing what you were asked to do?': [3.5, 0.806225774829855], 'How insecure, discouraged, irritated, stresses, and annoyed were you?': [1.7, 1.004987562112089]}, 'motion-first': {'How mentally demanding was the test?': [2.1, 0.5385164807134505], 'How physically demanding was the test?': [1.7, 0.7810249675906655], 'How hurried or rushed was the pace of the task?': [1.7, 0.9], 'How successful were you in accomplishing what you were asked to do?': [3.4, 0.8], 'How insecure, discouraged, irritated, stresses, and annoyed were you?': [1.6, 0.66332495807108]}, 'motion-last': {'How mentally demanding was the test?': [1.7, 0.6403124237432849], 'How physically demanding was the test?': [1.6, 1.0198039027185568], 'How hurried or rushed was the pace of the task?': [1.8, 1.2489995996796797], 'How successful were you in accomplishing what you were asked to do?': [3.8, 0.7483314773547882], 'How insecure, discouraged, irritated, stresses, and annoyed were you?': [1.2, 0.4]}}\n"
     ]
    }
   ],
   "source": [
    "stats_NASA = {}\n",
    "stats_NASA_hw = {}\n",
    "\n",
    "mean_index = 0\n",
    "std_index = 1\n",
    "\n",
    "for i in types:\n",
    "    stats_NASA[i] = {}\n",
    "    stats_NASA_hw[i] = {}\n",
    "    for q in questions_NASA:\n",
    "        stats_NASA[i][q] = [0, 0]\n",
    "        stats_NASA[i][q][mean_index] = np.mean(data_NASA[i][q])\n",
    "        stats_NASA[i][q][std_index] = np.std(data_NASA[i][q])\n",
    "        \n",
    "        stats_NASA_hw[i][q] = [0, 0]\n",
    "        stats_NASA_hw[i][q][mean_index] = np.mean(data_NASA_hw[i][q])\n",
    "        stats_NASA_hw[i][q][std_index] = np.std(data_NASA_hw[i][q])\n",
    "        \n",
    "print(stats_NASA)"
   ]
  },
  {
   "cell_type": "markdown",
   "metadata": {},
   "source": [
    "## Results"
   ]
  },
  {
   "cell_type": "markdown",
   "metadata": {},
   "source": [
    "Stats (similarly for stats_hw for the hardware experiments) is a nested dictionnary containing the mean and std for each question of the survey, separated depending on the interface (remote or motion) and run (first or last)\n",
    "\n",
    "data (similarly data_hw) can be used to create boxplot for the distribution of answers."
   ]
  },
  {
   "cell_type": "code",
   "execution_count": 20,
   "metadata": {},
   "outputs": [],
   "source": [
    "def t_test_kruskal(X, Y):\n",
    "    \n",
    "    # Kruskal-Wallis H-test\n",
    "    \n",
    "    # seed the random number generator\n",
    "    seed(1)\n",
    "    \n",
    "    # compare samples\n",
    "    stat, p = kruskal(X, Y)\n",
    "    \n",
    "    return [stat, p]"
   ]
  },
  {
   "cell_type": "code",
   "execution_count": 21,
   "metadata": {},
   "outputs": [
    {
     "name": "stdout",
     "output_type": "stream",
     "text": [
      "\n",
      "remote-first remote-last How mentally demanding was the test?\n",
      "p = 0.3819481156357243\n",
      "remote-first remote-last How physically demanding was the test?\n",
      "p = 1.0\n",
      "remote-first remote-last How hurried or rushed was the pace of the task?\n",
      "p = 0.8131265746121165\n",
      "remote-first remote-last How successful were you in accomplishing what you were asked to do?\n",
      "p = 0.6095403306113734\n",
      "remote-first remote-last How insecure, discouraged, irritated, stresses, and annoyed were you?\n",
      "p = 0.29059351739551387\n",
      "\n",
      "remote-first motion-first How mentally demanding was the test?\n",
      "\u001b[33mp = 0.03344653009997241 !!!!!!\u001b[0m\n",
      "remote-first motion-first How physically demanding was the test?\n",
      "\u001b[33mp = 0.0488888176268915 !!!!!!\u001b[0m\n",
      "remote-first motion-first How hurried or rushed was the pace of the task?\n",
      "p = 0.38833837171788765\n",
      "remote-first motion-first How successful were you in accomplishing what you were asked to do?\n",
      "p = 0.7760053230332041\n",
      "remote-first motion-first How insecure, discouraged, irritated, stresses, and annoyed were you?\n",
      "p = 0.30423105299989817\n",
      "\n",
      "\n",
      "\n",
      "remote-last motion-last How mentally demanding was the test?\n",
      "\u001b[33mp = 0.01913961955875495 !!!!!!\u001b[0m\n",
      "remote-last motion-last How physically demanding was the test?\n",
      "p = 0.23390621098854886\n",
      "remote-last motion-last How hurried or rushed was the pace of the task?\n",
      "p = 0.3297192973126754\n",
      "remote-last motion-last How successful were you in accomplishing what you were asked to do?\n",
      "p = 0.6160414893647401\n",
      "remote-last motion-last How insecure, discouraged, irritated, stresses, and annoyed were you?\n",
      "p = 0.2606686561673763\n",
      "\n",
      "motion-first motion-last How mentally demanding was the test?\n",
      "p = 0.15436991516197082\n",
      "motion-first motion-last How physically demanding was the test?\n",
      "p = 0.5476447812030009\n",
      "motion-first motion-last How hurried or rushed was the pace of the task?\n",
      "p = 0.9657417838594877\n",
      "motion-first motion-last How successful were you in accomplishing what you were asked to do?\n",
      "p = 0.29059351739551387\n",
      "motion-first motion-last How insecure, discouraged, irritated, stresses, and annoyed were you?\n",
      "p = 0.1482858780554419\n"
     ]
    }
   ],
   "source": [
    "for idx,i in enumerate(types):\n",
    "    for j in types[idx+1:]:\n",
    "        print()\n",
    "        for q in questions_NASA:\n",
    "            if i != j:\n",
    "                # also, compare only first-last for same interface or first-first, last-last for different ones\n",
    "                if ('first' in i and 'first' in j) or ('last' in i and 'last' in j) or ('remote' in i and 'remote' in j) or ('motion' in i and 'motion' in j):\n",
    "\n",
    "                    t, p = t_test_kruskal(data_NASA[i][q],data_NASA[j][q])\n",
    "                    print(i,j,q)\n",
    "                    print_p(p)"
   ]
  },
  {
   "cell_type": "code",
   "execution_count": 22,
   "metadata": {},
   "outputs": [
    {
     "name": "stdout",
     "output_type": "stream",
     "text": [
      "[[0, 0, 1], [0.4, 0.4, 1], [1, 0, 0], [1, 0.4, 0.4]]\n"
     ]
    },
    {
     "name": "stderr",
     "output_type": "stream",
     "text": [
      "/Users/lis/Documents/github/Bidirectional_Interface/data_analysis/Surveys/../my_plots.py:58: MatplotlibDeprecationWarning: Adding an axes using the same arguments as a previous axes currently reuses the earlier instance.  In a future version, a new instance will always be created and returned.  Meanwhile, this warning can be suppressed, and the future behavior ensured, by passing a unique label to each axes instance.\n",
      "  ax = plt.subplot(111)\n"
     ]
    },
    {
     "data": {
      "image/png": "[encoded data removed]",
      "text/plain": [
       "<Figure size 1152x288 with 4 Axes>"
      ]
     },
     "metadata": {
      "needs_background": "light"
     },
     "output_type": "display_data"
    },
    {
     "data": {
      "image/png": "[encoded data removed]",
      "text/plain": [
       "<Figure size 144x144 with 1 Axes>"
      ]
     },
     "metadata": {
      "needs_background": "light"
     },
     "output_type": "display_data"
    }
   ],
   "source": [
    "plt.figure(figsize=(16,4))\n",
    "\n",
    "vals = []\n",
    "errors = []\n",
    "\n",
    "for idx, s in enumerate(stats_NASA):\n",
    "#     print(stats[s])\n",
    "    \n",
    "    means = [stats_NASA[s][q][0] for q in questions_NASA]\n",
    "    stds = [stats_NASA[s][q][1] for q in questions_NASA]\n",
    "    \n",
    "#     print(means)\n",
    "#     print(stds)\n",
    "    \n",
    "    ax = plt.subplot(141+idx)\n",
    "    \n",
    "    ax.bar([0, 1, 2, 3, 4],\n",
    "       means,\n",
    "       yerr=stds)\n",
    "    plt.title(s)\n",
    "    \n",
    "    vals.append(means[0:2])\n",
    "    errors.append(stds[0:2])\n",
    "    \n",
    "lighter = 0.4\n",
    "c1 = [0,0,1] \n",
    "c2 = [lighter,lighter,1] \n",
    "c3 = [1,0,0] \n",
    "c4 = [1,lighter,lighter]    \n",
    "\n",
    "col = [c1, c2, c3, c4]\n",
    "\n",
    "plt.figure(figsize=(2,2))\n",
    "ax = plt.subplot(111)\n",
    "ax = my_plots.bar_multi(vals, errors, legend = ['R-1','R-5','M-1','M-5'], xlabels = ['Q 1', 'Q 2'], w =0.15, xlim = [0.5,2.5], yticks = [1,2,3,4,5], save = True, where = 'learn_NASA.pdf', colors = col)\n",
    "plt.yticks([1,2,3,4,5])\n",
    "plt.xlim(0.5,2.5)\n",
    "ax.xaxis.grid()\n",
    "\n",
    "savefig('learn_NASA.pdf', bbox_inches='tight')"
   ]
  },
  {
   "cell_type": "markdown",
   "metadata": {},
   "source": [
    "## <span style=\"color:red\">Interesting statistics (see below)</span>\n",
    "### remote-first motion-first How physically demanding was the test? p =  0.0488888176268915\n",
    "### remote-last motion-last How physically demanding was the test? p =  0.23390621098854886\n",
    "### remote-last motion-last How mentally demanding was the test? p =  0.01913961955875495\n",
    "### motion-first remote-first How mentally demanding was the test? p =  0.03344653009997241"
   ]
  },
  {
   "cell_type": "code",
   "execution_count": 23,
   "metadata": {},
   "outputs": [
    {
     "name": "stdout",
     "output_type": "stream",
     "text": [
      "\n",
      "remote-first remote-last How mentally demanding was the test?\n",
      "\u001b[31mp = 0.07985518564889507 !\u001b[0m\n",
      "remote-first remote-last How physically demanding was the test?\n",
      "p = 0.5838824207703579\n",
      "remote-first remote-last How hurried or rushed was the pace of the task?\n",
      "\u001b[31mp = 0.09543636808993747 !\u001b[0m\n",
      "remote-first remote-last How successful were you in accomplishing what you were asked to do?\n",
      "p = 0.3666322916596926\n",
      "remote-first remote-last How insecure, discouraged, irritated, stresses, and annoyed were you?\n",
      "\u001b[31mp = 0.05367662972988007 !\u001b[0m\n",
      "\n",
      "remote-first motion-first How mentally demanding was the test?\n",
      "p = 0.370356162348094\n",
      "remote-first motion-first How physically demanding was the test?\n",
      "p = 0.345231071771834\n",
      "remote-first motion-first How hurried or rushed was the pace of the task?\n",
      "p = 0.2801514286982697\n",
      "remote-first motion-first How successful were you in accomplishing what you were asked to do?\n",
      "p = 0.23307342971278017\n",
      "remote-first motion-first How insecure, discouraged, irritated, stresses, and annoyed were you?\n",
      "p = 0.4729092069096167\n",
      "\n",
      "\n",
      "\n",
      "remote-last motion-last How mentally demanding was the test?\n",
      "p = 0.15866898712240446\n",
      "remote-last motion-last How physically demanding was the test?\n",
      "\u001b[33mp = 0.04964722965745585 !!!!!!\u001b[0m\n",
      "remote-last motion-last How hurried or rushed was the pace of the task?\n",
      "p = 0.282389189798678\n",
      "remote-last motion-last How successful were you in accomplishing what you were asked to do?\n",
      "\u001b[31mp = 0.09792022963241329 !\u001b[0m\n",
      "remote-last motion-last How insecure, discouraged, irritated, stresses, and annoyed were you?\n",
      "p = 0.6978438282505495\n",
      "\n",
      "motion-first motion-last How mentally demanding was the test?\n",
      "p = 0.3518797721063325\n",
      "motion-first motion-last How physically demanding was the test?\n",
      "p = 0.9267950074759399\n",
      "motion-first motion-last How hurried or rushed was the pace of the task?\n",
      "p = 0.6268449135173157\n",
      "motion-first motion-last How successful were you in accomplishing what you were asked to do?\n",
      "\u001b[31mp = 0.08825694343072724 !\u001b[0m\n",
      "motion-first motion-last How insecure, discouraged, irritated, stresses, and annoyed were you?\n",
      "p = 0.5686182086635924\n"
     ]
    }
   ],
   "source": [
    "for idx,i in enumerate(types):\n",
    "    for j in types[idx+1:]:\n",
    "        print()\n",
    "        for q in questions_NASA:\n",
    "            if i != j:\n",
    "                # also, compare only first-last for same interface or first-first, last-last for different ones\n",
    "                if ('first' in i and 'first' in j) or ('last' in i and 'last' in j) or ('remote' in i and 'remote' in j) or ('motion' in i and 'motion' in j):\n",
    "\n",
    "                    t, p = t_test_kruskal(data_NASA[i][q],data_NASA_hw[j][q])\n",
    "                    print(i,j,q)\n",
    "                    print_p(p)"
   ]
  },
  {
   "cell_type": "code",
   "execution_count": 24,
   "metadata": {},
   "outputs": [
    {
     "name": "stdout",
     "output_type": "stream",
     "text": [
      "[[0, 0, 1], [0.4, 0.4, 1], [1, 0, 0], [1, 0.4, 0.4]]\n"
     ]
    },
    {
     "data": {
      "image/png": "[encoded data removed]",
      "text/plain": [
       "<Figure size 1152x288 with 4 Axes>"
      ]
     },
     "metadata": {
      "needs_background": "light"
     },
     "output_type": "display_data"
    },
    {
     "data": {
      "image/png": "[encoded data removed]",
      "text/plain": [
       "<Figure size 144x216 with 1 Axes>"
      ]
     },
     "metadata": {
      "needs_background": "light"
     },
     "output_type": "display_data"
    }
   ],
   "source": [
    "plt.figure(figsize=(16,4))\n",
    "\n",
    "vals = []\n",
    "errors = []\n",
    "\n",
    "for idx, s in enumerate(stats_NASA_hw):\n",
    "#     print(stats[s])\n",
    "    \n",
    "    means = [stats_NASA_hw[s][q][0] for q in questions_NASA]\n",
    "    stds = [stats_NASA_hw[s][q][1] for q in questions_NASA]\n",
    "    \n",
    "#     print(means)\n",
    "#     print(stds)\n",
    "    \n",
    "    ax = plt.subplot(141+idx)\n",
    "    \n",
    "    ax.bar([0, 1, 2, 3, 4],\n",
    "       means,\n",
    "       yerr=stds)\n",
    "    plt.title(s)\n",
    "    \n",
    "    vals.append(means)\n",
    "    errors.append(stds)\n",
    "    \n",
    "lighter = 0.4\n",
    "c1 = [0,0,1] \n",
    "c2 = [lighter,lighter,1] \n",
    "c3 = [1,0,0] \n",
    "c4 = [1,lighter,lighter]    \n",
    "\n",
    "col = [c1, c2, c3, c4]\n",
    "\n",
    "plt.figure(figsize=(2,3))\n",
    "ax = plt.subplot(111)\n",
    "ax = my_plots.bar_multi(vals, errors, legend = ['R-1','R-5','M-1','M-5'], xlabels = ['Q 1', 'Q 2'], w =0.15, xlim = [0.5,2.5], yticks = [1,2,3,4,5], save = True, where = 'learn_NASA.pdf', colors = col)\n",
    "plt.yticks([1,2,3,4,5])\n",
    "plt.xlim(0.5,2.5)\n",
    "ax.xaxis.grid()"
   ]
  },
  {
   "cell_type": "markdown",
   "metadata": {},
   "source": [
    "# FINAL PLOTS"
   ]
  },
  {
   "cell_type": "code",
   "execution_count": 25,
   "metadata": {},
   "outputs": [
    {
     "name": "stdout",
     "output_type": "stream",
     "text": [
      "[[0, 0, 1], [0.4, 0.4, 1], [1, 0, 0], [1, 0.4, 0.4]]\n"
     ]
    },
    {
     "data": {
      "image/png": "[encoded data removed]",
      "text/plain": [
       "<Figure size 504x216 with 4 Axes>"
      ]
     },
     "metadata": {
      "needs_background": "light"
     },
     "output_type": "display_data"
    }
   ],
   "source": [
    "resp_data = {}\n",
    "\n",
    "resp_data[easier_first] = Counter(data_sim[easier_first])\n",
    "resp_data[easier_last] = Counter(data_sim[easier_last])\n",
    "resp_data[prefered] = Counter(data_sim[prefered])\n",
    "\n",
    "resp_data[prefered]['Equivalent'] = 0\n",
    "\n",
    "fig = plt.figure(figsize = (7,3))\n",
    "\n",
    "qs = ['QL 1', 'QL 2', 'QL 3']\n",
    "\n",
    "c1 = 'gray'\n",
    "c2 = 'b'\n",
    "c3 = 'r'\n",
    "\n",
    "c = [c1, c2, c3]\n",
    "\n",
    "for jdx, j in enumerate(resp_data):\n",
    "    \n",
    "    ax = fig.add_subplot(1, 4, 1+jdx)\n",
    "\n",
    "    options = []\n",
    "    resp = []\n",
    "\n",
    "    for i in sorted(resp_data[j]):\n",
    "        options.append(i)\n",
    "        resp.append(resp_data[j][i])\n",
    "\n",
    "    for idx, i in enumerate(options):\n",
    "        \n",
    "        lab = i if 'We' not in i else 'Wearable'\n",
    "        if 'Re' in i:\n",
    "            lab = 'Remote' \n",
    "#         lab = i if 'Remote' in i else 'Remote'\n",
    "        \n",
    "        plt.bar(1+idx, resp[idx], label = lab, color = c[idx])\n",
    "    \n",
    "    if jdx==0:\n",
    "        plt.legend(loc = 'upper left')  \n",
    "        plt.yticks([0, 2, 4, 6, 8, 10])\n",
    "    else:\n",
    "        plt.yticks([0, 2, 4, 6, 8, 10], ['','','','','',''])\n",
    "        \n",
    "    if jdx==1:\n",
    "        pass\n",
    "#         plt.title('Responses')\n",
    "    \n",
    "    ax.yaxis.grid()\n",
    "    plt.ylim(0,10)\n",
    "    plt.xticks([2],[qs[jdx]], axes=ax)\n",
    "    ax.spines['right'].set_visible(False)\n",
    "    ax.spines['top'].set_visible(False)\n",
    "    \n",
    "\n",
    "\n",
    "vals = []\n",
    "errors = []\n",
    "\n",
    "for idx, s in enumerate(stats_NASA):\n",
    "#     print(stats[s])\n",
    "    \n",
    "    means = [stats_NASA[s][q][0] for q in questions_NASA]\n",
    "    stds = [stats_NASA[s][q][1] for q in questions_NASA]\n",
    "    \n",
    "#     print(means)\n",
    "#     print(stds)\n",
    "    \n",
    "#     ax = plt.subplot(141+idx)\n",
    "    \n",
    "#     ax.bar([0, 1, 2, 3, 4],\n",
    "#        means,\n",
    "#        yerr=stds)\n",
    "#     plt.title(s)\n",
    "    \n",
    "    vals.append(means[0:2])\n",
    "    errors.append(stds[0:2])\n",
    "    \n",
    "lighter = 0.4\n",
    "c1 = [0,0,1] \n",
    "c2 = [lighter,lighter,1] \n",
    "c3 = [1,0,0] \n",
    "c4 = [1,lighter,lighter]    \n",
    "\n",
    "col = [c1, c2, c3, c4]\n",
    "\n",
    "ax = plt.subplot(1, 4, 4)\n",
    "ax = my_plots.bar_multi(vals, errors, legend = ['R1','R5','W1','W5'], ax = ax, xlabels = ['Q 1', 'Q 2'], w =0.15, xlim = [0.5,2.5], yticks = [1,2,3,4,5], save = True, where = 'learn_NASA.pdf', colors = col)\n",
    "plt.yticks([1,2,3,4,5])\n",
    "plt.xlim(0.5,2.5)\n",
    "ax.xaxis.grid()\n",
    "\n",
    "savefig('learn_quest.pdf', bbox_inches='tight')"
   ]
  },
  {
   "cell_type": "code",
   "execution_count": 34,
   "metadata": {},
   "outputs": [
    {
     "name": "stdout",
     "output_type": "stream",
     "text": [
      "[[0, 0, 1], [0.4, 0.4, 1], [1, 0, 0], [1, 0.4, 0.4]]\n"
     ]
    },
    {
     "data": {
      "image/png": "[encoded data removed]",
      "text/plain": [
       "<Figure size 504x216 with 4 Axes>"
      ]
     },
     "metadata": {
      "needs_background": "light"
     },
     "output_type": "display_data"
    }
   ],
   "source": [
    "resp_data = {}\n",
    "\n",
    "resp_data[easier_first] = Counter(data_hw[easier_first])\n",
    "resp_data[easier_last] = Counter(data_hw[easier_last])\n",
    "resp_data[prefered] = Counter(data_hw[prefered])\n",
    "\n",
    "resp_data[easier_first]['Equivalent'] = 1\n",
    "resp_data[easier_first]['Remote controller'] = 2\n",
    "resp_data[easier_first]['Wearable'] = 1\n",
    "resp_data[easier_last]['Equivalent'] = 1\n",
    "resp_data[easier_last]['Remote controller'] = 1\n",
    "resp_data[easier_last]['Wearable'] = 2\n",
    "resp_data[prefered]['Equivalent'] = 0\n",
    "resp_data[prefered]['Remote controller'] = 1\n",
    "resp_data[prefered]['Werable'] = 3\n",
    "\n",
    "fig = plt.figure(figsize = (7,3))\n",
    "\n",
    "qs = ['QL 1', 'QL 2', 'QL 3']\n",
    "\n",
    "c1 = 'gray'\n",
    "c2 = 'b'\n",
    "c3 = 'r'\n",
    "\n",
    "c = [c1, c2, c3]\n",
    "\n",
    "for jdx, j in enumerate(resp_data):\n",
    "    \n",
    "    ax = fig.add_subplot(1, 4, 1+jdx)\n",
    "\n",
    "    options = []\n",
    "    resp = []\n",
    "\n",
    "    for i in sorted(resp_data[j]):\n",
    "        options.append(i)\n",
    "        resp.append(resp_data[j][i])\n",
    "\n",
    "    for idx, i in enumerate(options):\n",
    "        \n",
    "        lab = i if 'We' not in i else 'Wearable'\n",
    "        if 'Re' in i:\n",
    "            lab = 'Remote' \n",
    "#         lab = i if 'Remote' in i else 'Remote'\n",
    "        \n",
    "        plt.bar(1+idx, resp[idx], label = lab, color = c[idx])\n",
    "    \n",
    "    if jdx==0:\n",
    "        plt.legend(loc = 'upper left')  \n",
    "        plt.yticks([0, 2, 4, 6, 8, 10])\n",
    "    else:\n",
    "        plt.yticks([0, 2, 4, 6, 8, 10], ['','','','','',''])\n",
    "        \n",
    "    if jdx==1:\n",
    "        pass\n",
    "#         plt.title('Responses')\n",
    "    \n",
    "    ax.yaxis.grid()\n",
    "    plt.ylim(0,10)\n",
    "    plt.xticks([2],[qs[jdx]], axes=ax)\n",
    "    ax.spines['right'].set_visible(False)\n",
    "    ax.spines['top'].set_visible(False)\n",
    "    \n",
    "\n",
    "\n",
    "vals = []\n",
    "errors = []\n",
    "\n",
    "for idx, s in enumerate(stats_NASA):\n",
    "#     print(stats[s])\n",
    "    \n",
    "    means = [stats_NASA[s][q][0] for q in questions_NASA]\n",
    "    stds = [stats_NASA[s][q][1] for q in questions_NASA]\n",
    "    \n",
    "#     print(means)\n",
    "#     print(stds)\n",
    "    \n",
    "#     ax = plt.subplot(141+idx)\n",
    "    \n",
    "#     ax.bar([0, 1, 2, 3, 4],\n",
    "#        means,\n",
    "#        yerr=stds)\n",
    "#     plt.title(s)\n",
    "    \n",
    "    vals.append(means[0:2])\n",
    "    errors.append(stds[0:2])\n",
    "    \n",
    "lighter = 0.4\n",
    "c1 = [0,0,1] \n",
    "c2 = [lighter,lighter,1] \n",
    "c3 = [1,0,0] \n",
    "c4 = [1,lighter,lighter]    \n",
    "\n",
    "col = [c1, c2, c3, c4]\n",
    "\n",
    "ax = plt.subplot(1, 4, 4)\n",
    "ax = my_plots.bar_multi(vals, errors, legend = ['R1','R5','W1','W5'], ax = ax, xlabels = ['Q 1', 'Q 2'], w =0.15, xlim = [0.5,2.5], yticks = [1,2,3,4,5], save = True, where = 'learn_NASA.pdf', colors = col)\n",
    "plt.yticks([1,2,3,4,5])\n",
    "plt.xlim(0.5,2.5)\n",
    "ax.xaxis.grid()\n",
    "\n",
    "savefig('learn_quest_HW.pdf', bbox_inches='tight')"
   ]
  },
  {
   "cell_type": "code",
   "execution_count": 30,
   "metadata": {},
   "outputs": [
    {
     "name": "stdout",
     "output_type": "stream",
     "text": [
      "{'Which interface was easier to use in the FIRST run?': Counter({'Remote controller': 2, 'Equivalent': 1, 'Wearable': 1}), 'Which interface was easier to use in the LAST run?': Counter({'Werable': 2, 'Equivalent': 1, 'Wearable': 1, 'Remote controller': 1}), 'Which interface did you prefer?': Counter({'Werable': 2, 'Remote controller': 2})}\n"
     ]
    }
   ],
   "source": [
    "print(resp_data)"
   ]
  },
  {
   "cell_type": "code",
   "execution_count": null,
   "metadata": {},
   "outputs": [],
   "source": []
  }
 ],
 "metadata": {
  "kernelspec": {
   "display_name": "Python 3",
   "language": "python",
   "name": "python3"
  },
  "language_info": {
   "codemirror_mode": {
    "name": "ipython",
    "version": 3
   },
   "file_extension": ".py",
   "mimetype": "text/x-python",
   "name": "python",
   "nbconvert_exporter": "python",
   "pygments_lexer": "ipython3",
   "version": "3.7.4"
  }
 },
 "nbformat": 4,
 "nbformat_minor": 4
}
