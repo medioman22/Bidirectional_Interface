{
 "cells": [
  {
   "cell_type": "code",
   "execution_count": 1,
   "metadata": {},
   "outputs": [],
   "source": [
    "%load_ext autoreload\n",
    "%autoreload 2\n",
    "\n",
    "import os,sys\n",
    "sys.path.insert(1, os.path.join(sys.path[0], '..'))\n",
    "\n",
    "import numpy as np\n",
    "import pandas as pd\n",
    "import seaborn as sn\n",
    "import json\n",
    "import glob, os\n",
    "import matplotlib.pyplot as plt\n",
    "import matplotlib as mpl\n",
    "from matplotlib.patches import Ellipse\n",
    "import matplotlib.transforms as transforms\n",
    "from mpl_toolkits.mplot3d import Axes3D\n",
    "from scipy import stats\n",
    "from numpy.random import seed\n",
    "from scipy.stats import kruskal\n",
    "from scipy.stats import levene\n",
    "\n",
    "from termcolor import colored\n",
    "import my_plots\n",
    "from matplotlib.pylab import savefig"
   ]
  },
  {
   "cell_type": "code",
   "execution_count": 2,
   "metadata": {
    "jupyter": {
     "source_hidden": true
    }
   },
   "outputs": [],
   "source": [
    "# plot settings\n",
    "\n",
    "lw = 1.5\n",
    "\n",
    "fs = 13\n",
    "\n",
    "params = {\n",
    "    'axes.labelsize': fs,\n",
    "    'font.size': fs,\n",
    "    'legend.fontsize': fs,\n",
    "    'xtick.labelsize': fs,\n",
    "    'ytick.labelsize': fs,\n",
    "    'text.usetex': False,\n",
    "    'figure.figsize': [6, 6],\n",
    "    'boxplot.boxprops.linewidth' : lw,\n",
    "    'boxplot.whiskerprops.linewidth' : lw,\n",
    "    'boxplot.capprops.linewidth' : lw,\n",
    "    'boxplot.medianprops.linewidth' : lw,\n",
    "    'text.usetex' : True,\n",
    "    'font.family' : 'serif',\n",
    "\n",
    "   }\n",
    "mpl.rcParams.update(params)"
   ]
  },
  {
   "cell_type": "code",
   "execution_count": 3,
   "metadata": {
    "jupyter": {
     "source_hidden": true
    }
   },
   "outputs": [],
   "source": [
    "def dfFromJSON(file):\n",
    "    with open(file) as f:\n",
    "        temp = []\n",
    "        for line in f:\n",
    "            temp.append(json.loads(line))\n",
    "            \n",
    "    df = pd.io.json.json_normalize(temp[0]['allLogs'])\n",
    "    df.columns = df.columns.map(lambda x: x.split(\"*.\")[-1])\n",
    "    return df"
   ]
  },
  {
   "cell_type": "code",
   "execution_count": 4,
   "metadata": {
    "jupyter": {
     "source_hidden": true
    }
   },
   "outputs": [],
   "source": [
    "def appendToLogs(file, log, _type):\n",
    "    df = dfFromJSON(file)\n",
    "    log[_type].append(df)"
   ]
  },
  {
   "cell_type": "code",
   "execution_count": 5,
   "metadata": {},
   "outputs": [],
   "source": [
    "path_to_folder = \"/Volumes/GoogleDrive/My Drive/Matteo/EPFL/LIS/PhD/Bidirectional_wearable_interface/DATA/Haptics/Haptics_Z/\"\n",
    "subjects = glob.glob(path_to_folder + \"*/\")\n",
    "\n",
    "logs = {}\n",
    "for curr in subjects:\n",
    "    logs[curr] = []\n",
    "    \n",
    "subjects.sort()"
   ]
  },
  {
   "cell_type": "markdown",
   "metadata": {},
   "source": [
    "## Remove outliers"
   ]
  },
  {
   "cell_type": "code",
   "execution_count": 6,
   "metadata": {},
   "outputs": [],
   "source": [
    "# # used to remove outliers\n",
    "\n",
    "# subjects.remove(subjects[5])\n",
    "# subjects.remove(subjects[4])\n",
    "\n",
    "# logs = {}\n",
    "# for curr in subjects:\n",
    "#     logs[curr] = []\n",
    "    \n",
    "# subjects"
   ]
  },
  {
   "cell_type": "markdown",
   "metadata": {},
   "source": [
    "# Import data"
   ]
  },
  {
   "cell_type": "code",
   "execution_count": 7,
   "metadata": {},
   "outputs": [
    {
     "name": "stdout",
     "output_type": "stream",
     "text": [
      ".\n",
      ".\n",
      ".\n",
      ".\n",
      ".\n",
      ".\n",
      ".\n",
      ".\n",
      ".\n",
      ".\n",
      ".\n",
      ".\n",
      ".\n",
      ".\n",
      ".\n",
      ".\n",
      ".\n",
      ".\n",
      ".\n",
      ".\n",
      ".\n",
      ".\n",
      ".\n",
      ".\n",
      ".\n",
      ".\n",
      ".\n",
      ".\n",
      ".\n",
      ".\n",
      ".\n",
      ".\n",
      ".\n",
      ".\n",
      ".\n",
      ".\n",
      ".\n",
      ".\n",
      ".\n",
      ".\n",
      ".\n",
      ".\n",
      ".\n",
      ".\n",
      ".\n",
      ".\n",
      ".\n",
      ".\n",
      ".\n",
      ".\n",
      ".\n",
      ".\n",
      ".\n",
      ".\n",
      ".\n",
      ".\n",
      ".\n",
      ".\n",
      ".\n",
      ".\n",
      ".\n",
      ".\n",
      ".\n",
      ".\n",
      ".\n",
      ".\n",
      ".\n",
      ".\n",
      ".\n",
      ".\n",
      ".\n",
      ".\n",
      ".\n",
      ".\n",
      ".\n",
      ".\n",
      ".\n",
      ".\n",
      ".\n",
      ".\n",
      ".\n",
      ".\n",
      ".\n",
      ".\n",
      ".\n",
      ".\n",
      ".\n",
      ".\n",
      ".\n",
      ".\n"
     ]
    }
   ],
   "source": [
    "EXP_N_THOMAS = 4\n",
    "EXP_N = 5\n",
    "\n",
    "for subject in subjects:\n",
    "#     print(subject)\n",
    "    files = glob.glob(subject+\"*.json\")\n",
    "    files.sort()\n",
    "    \n",
    "    if len(files) != EXP_N and len(files) != EXP_N_THOMAS:\n",
    "        print(subject)\n",
    "        print('wrong number of experiments!')\n",
    "        break\n",
    "    for file in files:\n",
    "        print('.')\n",
    "        logs[subject].append(dfFromJSON(file))"
   ]
  },
  {
   "cell_type": "code",
   "execution_count": 8,
   "metadata": {
    "jupyter": {
     "source_hidden": true
    }
   },
   "outputs": [],
   "source": [
    "fields = ['first motion', 'last motion', 'first remote', 'last remote']\n",
    "interfaces = ['motion', 'remote']\n",
    "\n",
    "sub_remote = [x for x in subjects if 'Controller' in x]\n",
    "sub_motion = [x for x in subjects if 'Motion' in x]\n",
    "\n",
    "t = [logs[x] for x in sub_motion]\n",
    "logs['motion'] = []\n",
    "for i in t:\n",
    "    for j in i:\n",
    "        logs['motion'].append(j)\n",
    "\n",
    "t = [logs[x] for x in sub_remote]\n",
    "logs['remote'] = []\n",
    "for i in t:\n",
    "    for j in i:\n",
    "        logs['remote'].append(j)\n",
    "\n",
    "logs['first motion'] = [logs[x][0] for x in sub_motion]\n",
    "logs['last motion'] = [logs[x][-1] for x in sub_motion]\n",
    "logs['first remote'] = [logs[x][0] for x in sub_remote]\n",
    "logs['last remote'] = [logs[x][-1] for x in sub_remote]"
   ]
  },
  {
   "cell_type": "markdown",
   "metadata": {},
   "source": [
    "# Analysis scripts"
   ]
  },
  {
   "cell_type": "code",
   "execution_count": 9,
   "metadata": {
    "jupyter": {
     "source_hidden": true
    },
    "scrolled": true
   },
   "outputs": [],
   "source": [
    "def t_test_kruskal(X, Y):\n",
    "    \n",
    "    # Kruskal-Wallis H-test\n",
    "    \n",
    "    # seed the random number generator\n",
    "    seed(1)\n",
    "    \n",
    "    # compare samples\n",
    "    stat, p = kruskal(X, Y)\n",
    "    \n",
    "    return [stat, p]\n",
    "\n",
    "def t_test_levene(X, Y):\n",
    "    \n",
    "    # Kruskal-Wallis H-test\n",
    "    \n",
    "    # seed the random number generator\n",
    "    seed(1)\n",
    "    \n",
    "    # compare samples\n",
    "    stat, p = levene(X, Y)\n",
    "    \n",
    "    return [stat, p]\n",
    "\n",
    "def str_from_p(p):\n",
    "    \n",
    "    if p<0.01:\n",
    "        add_str = ' !!!!!!!!!!'\n",
    "    elif p<0.05:\n",
    "        add_str = ' !!!!!!'\n",
    "    elif p<0.1:\n",
    "        add_str = ' !'\n",
    "    else:\n",
    "        add_str = ''\n",
    "        \n",
    "    return add_str\n",
    "\n",
    "def print_p(p):\n",
    "    \n",
    "    col = None\n",
    "    \n",
    "    if p<0.01:\n",
    "        col = 'green'\n",
    "    elif p<0.05:\n",
    "        col = 'yellow'\n",
    "    elif p<0.1:\n",
    "        col = 'red'\n",
    "        \n",
    "    if col is not None:\n",
    "        print(colored('p = '+ str(p) + str_from_p(p), col))\n",
    "    else:\n",
    "        print('p = '+ str(p) + str_from_p(p))\n",
    "\n",
    "def runBasicAnalysis(f):\n",
    "    \n",
    "    var = {}\n",
    "\n",
    "    var['means'] = []\n",
    "    var['stds'] = []\n",
    "\n",
    "    for i in fields:\n",
    "        var[i] = []\n",
    "        for j in logs[i]:\n",
    "            var[i].append(f(j))\n",
    "        print(i)\n",
    "        print(var[i])\n",
    "\n",
    "        var['means'].append(np.mean(var[i]))\n",
    "        var['stds'].append(np.std(var[i]))\n",
    "\n",
    "        print('mean = ', var['means'][-1])\n",
    "        print('std = ', var['stds'][-1])\n",
    "\n",
    "        print()\n",
    "        \n",
    "            \n",
    "    for idx,i in enumerate(fields):\n",
    "        for j in fields[idx+1:]:\n",
    "            if i != j:\n",
    "                \n",
    "                t, p = t_test_kruskal(var[i],var[j])\n",
    "                \n",
    "                print (i,j)\n",
    "                print_p(p)\n",
    "            \n",
    "    var['diff mot'] = 1-np.array(var['last motion'])/np.array(var['first motion'])\n",
    "    var['diff rem'] = 1-np.array(var['last remote'])/np.array(var['first remote'])\n",
    "\n",
    "    print()\n",
    "    print('motion ratio')\n",
    "    print(var['diff mot'])\n",
    "    print(np.mean(var['diff mot']))\n",
    "    print(np.std(var['diff mot']))\n",
    "    print()\n",
    "    print('remote ratio')\n",
    "    print(var['diff rem'])\n",
    "    print(np.mean(var['diff rem']))\n",
    "    print(np.std(var['diff rem']))\n",
    "\n",
    "    t, p = t_test_kruskal(var['diff mot'], var['diff rem'])\n",
    "\n",
    "    print()\n",
    "    print('p = ', p, str_from_p(p))\n",
    "            \n",
    "    var['diff first'] = 1-np.array(var['first motion'])/np.array(var['first remote'])\n",
    "    var['diff last'] = 1-np.array(var['last motion'])/np.array(var['last remote'])\n",
    "\n",
    "    print()\n",
    "    print('firts ratio')\n",
    "    print(var['diff first'])\n",
    "    print(np.mean(var['diff first']))\n",
    "    print(np.std(var['diff first']))\n",
    "    print()\n",
    "    print('last ratio')\n",
    "    print(var['diff last'])\n",
    "    print(np.mean(var['diff last']))\n",
    "    print(np.std(var['diff last']))\n",
    "\n",
    "    t, p = t_test_kruskal(var['diff first'], var['diff last'])\n",
    "\n",
    "    print()\n",
    "    print('p = ', p, str_from_p(p))\n",
    "            \n",
    "    return var\n",
    "\n",
    "def runHapticsXAnalysis(f):\n",
    "    \n",
    "    var = {}\n",
    "\n",
    "    var['means'] = []\n",
    "    var['stds'] = []\n",
    "\n",
    "    for i in interfaces:\n",
    "        var[i] = []\n",
    "        for j in logs[i]:\n",
    "            var[i].append(f(j))\n",
    "        print(i)\n",
    "        print(var[i])\n",
    "\n",
    "        var['means'].append(np.mean(var[i]))\n",
    "        var['stds'].append(np.std(var[i]))\n",
    "\n",
    "        print('mean = ', var['means'][-1])\n",
    "        print('std = ', var['stds'][-1])\n",
    "\n",
    "        print()\n",
    "        \n",
    "            \n",
    "    for idx,i in enumerate(interfaces):\n",
    "        for j in interfaces[idx+1:]:\n",
    "            if i != j:\n",
    "                \n",
    "                t, p = t_test_kruskal(var[i],var[j])\n",
    "                print_p(p)\n",
    "                \n",
    "    return var\n",
    "\n",
    "def runHapticsZAnalysis(f):\n",
    "    \n",
    "    varX = {}\n",
    "    varY = {}\n",
    "\n",
    "    varX['means'] = []\n",
    "    varX['stds'] = []\n",
    "    varY['means'] = []\n",
    "    varY['stds'] = []\n",
    "\n",
    "    for i in interfaces:\n",
    "        varX[i] = []\n",
    "        varY[i] = []\n",
    "        for j in logs[i]:\n",
    "            varX[i].append(f(j)[0])\n",
    "            varY[i].append(f(j)[1])\n",
    "        print(i)\n",
    "        print(varX[i])\n",
    "        print(varY[i])\n",
    "\n",
    "        varX['means'].append(np.mean(varX[i]))\n",
    "        varX['stds'].append(np.std(varX[i]))\n",
    "        varY['means'].append(np.mean(varY[i]))\n",
    "        varY['stds'].append(np.std(varY[i]))\n",
    "\n",
    "        print('mean = ', varX['means'][-1])\n",
    "        print('std = ', varX['stds'][-1])\n",
    "        print('mean = ', varY['means'][-1])\n",
    "        print('std = ', varY['stds'][-1])\n",
    "\n",
    "        print()\n",
    "        \n",
    "            \n",
    "    for idx,i in enumerate(interfaces):\n",
    "        for j in interfaces[idx+1:]:\n",
    "            if i != j:\n",
    "                \n",
    "                tX, pX = t_test_kruskal(varX[i],varX[j])\n",
    "                tY, pY = t_test_kruskal(varY[i],varY[j])\n",
    "                \n",
    "                print('')\n",
    "                print(i,j, ' X')\n",
    "                print_p(pX)\n",
    "                print('')\n",
    "                print(i,j, ' Y')\n",
    "                print_p(pY)\n",
    "                \n",
    "    return [varX, varY]\n",
    "\n",
    "def basic_plot(var):\n",
    "    \n",
    "    fig = plt.figure(figsize=(12, 4))\n",
    "    ax = fig.add_subplot(131)\n",
    "    ax.bar([0, 1, 2, 3],\n",
    "       var['means'],\n",
    "       yerr=var['stds'])\n",
    "\n",
    "    plt.xticks(range(4), fields, rotation = 10)\n",
    "\n",
    "    ax = fig.add_subplot(132)\n",
    "    ax.bar([0, 1],\n",
    "       [np.mean(var['diff mot']), np.mean(var['diff rem'])],\n",
    "       yerr=[np.std(var['diff mot']), np.std(var['diff rem'])])\n",
    "    \n",
    "    plt.xticks(range(2), ['motion', 'remote'], rotation = 10)\n",
    "\n",
    "    ax = fig.add_subplot(133)\n",
    "    ax.bar([0, 1],\n",
    "       [np.mean(var['diff first']), np.mean(var['diff last'])],\n",
    "       yerr=[np.std(var['diff first']), np.std(var['diff last'])])\n",
    "    \n",
    "    plt.xticks(range(2), ['first', 'last'], rotation = 10)"
   ]
  },
  {
   "cell_type": "code",
   "execution_count": 10,
   "metadata": {
    "jupyter": {
     "source_hidden": true
    }
   },
   "outputs": [],
   "source": [
    "def moving_average(data_set, periods=3, fill_with_zeros = True):\n",
    "    \n",
    "    if data_set.size < periods:\n",
    "        return data_set\n",
    "    \n",
    "    if isinstance(data_set, pd.DataFrame):\n",
    "        print('a')\n",
    "        data_set.index = range(len(data_set))\n",
    "\n",
    "    weights = np.ones(periods) / periods\n",
    "    \n",
    "    ma = np.convolve(data_set, weights, mode='valid')\n",
    "\n",
    "    if fill_with_zeros:\n",
    "        fill_before = np.ones(int(np.ceil((len(data_set) - len(ma))/2))) * data_set[0]\n",
    "        fill_after = np.ones(int(np.floor((len(data_set) - len(ma))/2))) * data_set[-1]\n",
    "        ma = np.hstack([fill_before, ma, fill_after])\n",
    "    \n",
    "    return ma\n",
    "\n",
    "def filter_position(df, steps):\n",
    "    \n",
    "    l = moving_average(df['dronePosition.x'], periods=steps, fill_with_zeros = False)\n",
    "    df['dronePositionFiltered.x'] = np.append([l[0]]*(steps-1), l)\n",
    "    l = moving_average(df['dronePosition.y'], periods=steps, fill_with_zeros = False)\n",
    "    df['dronePositionFiltered.y'] = np.append([l[0]]*(steps-1), l)\n",
    "    l = moving_average(df['dronePosition.x'], periods=steps, fill_with_zeros = False)\n",
    "    df['dronePositionFiltered.x'] = np.append([l[0]]*(steps-1), l)\n",
    "    return df\n",
    "\n",
    "def running_average(signal, steps):\n",
    "    \n",
    "    l = moving_average(signal, periods=steps, fill_with_zeros = False)\n",
    "    out = np.append([l[0]]*(steps-1), l)\n",
    "    return out"
   ]
  },
  {
   "cell_type": "markdown",
   "metadata": {},
   "source": [
    "# Collision Analysis"
   ]
  },
  {
   "cell_type": "code",
   "execution_count": 19,
   "metadata": {},
   "outputs": [],
   "source": [
    "coll_df = pd.read_csv('/Volumes/GoogleDrive/My Drive/Matteo/EPFL/LIS/PhD/Bidirectional_wearable_interface/DATA/Haptics/Bidir - haptics ZY collisions - Sheet1.csv')"
   ]
  },
  {
   "cell_type": "code",
   "execution_count": 20,
   "metadata": {
    "jupyter": {
     "source_hidden": true
    }
   },
   "outputs": [],
   "source": [
    "coll = {}\n",
    "\n",
    "coll['motion'] = coll_df[coll_df['Interface']=='Motion']\n",
    "coll['remote'] = coll_df[coll_df['Interface']=='Remote']\n",
    "\n",
    "\n",
    "coll['first motion'] = coll['motion'][coll['motion']['Run']==1]\n",
    "coll['last motion'] = coll['motion'][coll['motion']['Run']==5]\n",
    "coll['first remote'] = coll['remote'][coll['remote']['Run']==1]\n",
    "coll['last remote'] = coll['remote'][coll['remote']['Run']==5]\n"
   ]
  },
  {
   "cell_type": "code",
   "execution_count": 21,
   "metadata": {},
   "outputs": [
    {
     "name": "stdout",
     "output_type": "stream",
     "text": [
      "\n",
      "consider all runs\n",
      "\n",
      "mean motion =  1.0\n",
      "std motion =  0.9428090415820634\n",
      "mean remote =  3.4444444444444446\n",
      "std remote =  1.0657403385139377\n",
      "\n",
      "total motion =  9.0\n",
      "total remote =  31.0\n",
      "\n",
      "\u001b[32mp = 0.0012411134893360086 !!!!!!!!!!\u001b[0m\n",
      "\n",
      "consider first runs\n",
      "\n",
      "mean motion =  0.2222222222222222\n",
      "std motion =  0.41573970964154905\n",
      "mean remote =  0.7777777777777778\n",
      "std remote =  0.41573970964154905\n",
      "\n",
      "total motion =  2.0\n",
      "total remote =  7.0\n",
      "\n",
      "\u001b[33mp = 0.021985734811330877 !!!!!!\u001b[0m\n",
      "\n",
      "consider last runs\n",
      "\n",
      "mean motion =  0.0\n",
      "std motion =  0.0\n",
      "mean remote =  0.5555555555555556\n",
      "std remote =  0.4969039949999533\n",
      "\n",
      "total motion =  0.0\n",
      "total remote =  5.0\n",
      "\n",
      "\u001b[33mp = 0.010556660425736162 !!!!!!\u001b[0m\n"
     ]
    },
    {
     "data": {
      "text/plain": [
       "Text(0.5, 1.0, 'Collisions - last run')"
      ]
     },
     "execution_count": 21,
     "metadata": {},
     "output_type": "execute_result"
    },
    {
     "data": {
      "image/png": "[encoded data removed]",
      "text/plain": [
       "<Figure size 864x288 with 3 Axes>"
      ]
     },
     "metadata": {
      "needs_background": "light"
     },
     "output_type": "display_data"
    }
   ],
   "source": [
    "def compute_mean_std_collisions(data_m, data_r):\n",
    "    \n",
    "    coll_per_sub_m = []\n",
    "    \n",
    "    for sub in np.unique(data_m['Subject']):\n",
    "        sub_coll = data_m[data_m['Subject']==sub]\n",
    "        \n",
    "        coll_per_sub_m.append(sub_coll['Collided Z'].sum())\n",
    "        \n",
    "    coll_per_sub_r = []\n",
    "    \n",
    "    for sub in np.unique(data_r['Subject']):\n",
    "        sub_coll = data_r[data_r['Subject']==sub]\n",
    "        \n",
    "        coll_per_sub_r.append(sub_coll['Collided Z'].sum())\n",
    "    \n",
    "    mean_m = np.mean(coll_per_sub_m)\n",
    "    std_m = np.std(coll_per_sub_m)\n",
    "    mean_r = np.mean(coll_per_sub_r)\n",
    "    std_r = np.std(coll_per_sub_r)\n",
    "\n",
    "    print('mean motion = ', mean_m)\n",
    "    print('std motion = ', std_m)\n",
    "    print('mean remote = ', mean_r)\n",
    "    print('std remote = ', std_r)\n",
    "    print('')\n",
    "    print('total motion = ', np.sum(coll_per_sub_m))\n",
    "    print('total remote = ', np.sum(coll_per_sub_r))\n",
    "    print('')\n",
    "\n",
    "    t, p = t_test_kruskal(coll_per_sub_m, coll_per_sub_r)\n",
    "\n",
    "    print_p(p)\n",
    "    \n",
    "    return [coll_per_sub_m, coll_per_sub_r]\n",
    "\n",
    "print('')\n",
    "print('consider all runs')\n",
    "print('')\n",
    "all_m, all_r = compute_mean_std_collisions(coll['motion'], coll['remote'])\n",
    "    \n",
    "print('')\n",
    "print('consider first runs')\n",
    "print('')\n",
    "first_m, first_r = compute_mean_std_collisions(coll['first motion'], coll['first remote'])\n",
    "    \n",
    "print('')\n",
    "print('consider last runs')\n",
    "print('')\n",
    "last_m, last_r = compute_mean_std_collisions(coll['last motion'], coll['last remote'])\n",
    "\n",
    "\n",
    "    \n",
    "fig = plt.figure(figsize=(12, 4))\n",
    "ax = fig.add_subplot(131)\n",
    "ax.bar([0, 1],\n",
    "   [np.mean(all_m), np.mean(all_r)],\n",
    "      yerr = [np.std(all_m), np.std(all_r)])\n",
    "\n",
    "plt.xticks(range(2), ['motion', 'remote'])\n",
    "plt.ylim([0, 5])\n",
    "plt.title('Total collisions')\n",
    "\n",
    "ax = fig.add_subplot(132)\n",
    "ax.bar([0, 1],\n",
    "   [np.mean(first_m), np.mean(first_r)],\n",
    "      yerr = [np.std(first_m), np.std(first_r)])\n",
    "\n",
    "plt.xticks(range(2), ['motion', 'remote'])\n",
    "plt.ylim([0, 5])\n",
    "plt.title('Collisions - first run')\n",
    "\n",
    "ax = fig.add_subplot(133)\n",
    "ax.bar([0, 1],\n",
    "   [np.mean(last_m), np.mean(last_r)],\n",
    "      yerr = [np.std(last_m), np.std(last_r)])\n",
    "\n",
    "plt.xticks(range(2), ['motion', 'remote'])\n",
    "plt.ylim([0, 5])\n",
    "plt.title('Total collisions')\n",
    "plt.title('Collisions - last run')"
   ]
  },
  {
   "cell_type": "code",
   "execution_count": 22,
   "metadata": {},
   "outputs": [
    {
     "data": {
      "image/png": "[encoded data removed]",
      "text/plain": [
       "<Figure size 288x288 with 1 Axes>"
      ]
     },
     "metadata": {
      "needs_background": "light"
     },
     "output_type": "display_data"
    }
   ],
   "source": [
    "\n",
    "c1 = 'b'\n",
    "c2 = 'r'\n",
    "\n",
    "fig = plt.figure(figsize=(4, 4))\n",
    "ax = fig.add_subplot(111)\n",
    "ax.bar([1],\n",
    "   [np.mean(all_r),],\n",
    "      yerr = [np.std(all_r)], color =c1, ecolor = c1, width=0.5 )\n",
    "ax.bar([2],\n",
    "   [np.mean(all_m)],\n",
    "      yerr = [np.std(all_m)], color =c2, ecolor = c2, width=0.5 )\n",
    "\n",
    "plt.xticks([1,2], ['remote', 'motion'])\n",
    "plt.ylim([0, 5])\n",
    "plt.xlim([0.5, 2.5])\n",
    "plt.ylabel('Total collisions')\n",
    "plt.grid()\n",
    "\n",
    "        \n",
    "ax.spines['right'].set_visible(False)\n",
    "ax.spines['top'].set_visible(False)\n",
    "\n",
    "savefig('collisions_Z.pdf', bbox_inches='tight')"
   ]
  },
  {
   "cell_type": "markdown",
   "metadata": {},
   "source": [
    "# Go-through passing Analysis"
   ]
  },
  {
   "cell_type": "code",
   "execution_count": 23,
   "metadata": {
    "jupyter": {
     "source_hidden": true
    }
   },
   "outputs": [
    {
     "name": "stdout",
     "output_type": "stream",
     "text": [
      "motion\n",
      "[2.20554518699646, 2.0448811054229736, 2.1115200519561768, 1.6321910619735718, 1.9299910068511963, 2.025785207748413, 2.1492810249328613, 1.4885929822921753, 1.9889394044876099, 1.8935139179229736, 1.8988595008850098, 2.0341591835021973, 1.9541471004486084, 2.024033546447754, 2.016711950302124, 2.088818311691284, 2.280486822128296, 1.9913796186447144, 2.2584779262542725, 1.9066413640975952, 1.9657769203186035, 1.892768144607544, 1.8573359251022339, 1.8663878440856934, 1.9408904314041138, 1.9328663349151611, 2.1458730697631836, 2.08294939994812, 1.904898762702942, 1.9648393392562866, 1.9086508750915527, 2.1009740829467773, 2.0287551879882812, 2.1453092098236084, 1.965834379196167, 1.9557901620864868, 1.9807027578353882, 1.9023194313049316, 2.051631450653076, 1.9435522556304932, 2.0466153621673584, 2.0209507942199707, 1.985171914100647, 2.136683464050293, 2.091541290283203]\n",
      "[0.9548597931861877, 1.0137970447540283, 0.9962010979652405, 0.9877849221229553, 0.9852827787399292, 0.955375075340271, 0.9932395815849304, 1.0419068336486816, 0.850117564201355, 1.0748631954193115, 0.9975733757019043, 0.9863284230232239, 0.9715844392776489, 1.0269814729690552, 1.0216739177703857, 0.8873080611228943, 0.8976450562477112, 0.8964225649833679, 0.8248390555381775, 0.8354503512382507, 0.9981056451797485, 1.0050487518310547, 0.9688694477081299, 0.9650492668151855, 0.9465457797050476, 0.9596664309501648, 0.9635390639305115, 1.020243525505066, 0.9854389429092407, 0.9728365540504456, 1.0089378356933594, 0.9651609659194946, 1.0750658512115479, 0.9555668830871582, 1.0006954669952393, 0.9734300971031189, 0.9320803880691528, 0.9977058172225952, 1.0801045894622803, 0.9928771257400513, 0.937933623790741, 0.9512925744056702, 1.038145661354065, 0.9489377737045288, 0.9839979410171509]\n",
      "mean =  1.9942894458770752\n",
      "std =  0.1377972457505892\n",
      "mean =  0.9739224579599168\n",
      "std =  0.05544977345280566\n",
      "\n",
      "remote\n",
      "[1.6907027959823608, 2.083824396133423, 2.2007315158843994, 1.644349455833435, 2.1552329063415527, 2.1498916149139404, 2.3137857913970947, 2.167523145675659, 2.3802273273468018, 2.580489158630371, 2.4180705547332764, 1.83429753780365, 2.1202855110168457, 1.923173427581787, 1.9226711988449097, 0.816980242729187, 2.714768171310425, 1.7551231384277344, 0.294643372297287, 0.09469853341579437, 1.8480567932128906, 2.5141701698303223, 1.7636574506759644, 2.241486072540283, 1.9366958141326904, 1.9111617803573608, 2.1013994216918945, 1.737235426902771, 1.5749051570892334, 2.1510846614837646, 2.465881586074829, 1.8529874086380005, 2.184248447418213, 2.131556510925293, 1.5250052213668823, 2.014373302459717, 0.3799505829811096, 1.9022212028503418, 2.095400810241699, 1.7416988611221313, 1.8767696619033813, 2.2239279747009277, 2.182072401046753, 2.0229969024658203, 2.0383572578430176]\n",
      "[1.0808162689208984, 0.9945013523101807, 0.961742639541626, 0.7994346022605896, 1.1385990381240845, 1.0566023588180542, 0.9619696140289307, 0.9911737442016602, 0.9825846552848816, 0.8351321816444397, 0.8889061212539673, 1.090404748916626, 0.9261869788169861, 0.9759588837623596, 1.010772466659546, 1.0311729907989502, 0.8357774615287781, 0.8496226668357849, 0.969559371471405, 0.9975501298904419, 1.0370830297470093, 0.9918482303619385, 1.023408055305481, 0.945124089717865, 0.9250271320343018, 1.050106167793274, 0.9782788753509521, 1.0381004810333252, 1.0611088275909424, 1.0166722536087036, 0.9692082405090332, 1.0050194263458252, 1.0968683958053589, 0.9151508808135986, 0.9823946356773376, 1.0031009912490845, 0.5034449696540833, 0.903414249420166, 1.001861572265625, 0.9568411707878113, 1.0114223957061768, 0.8832482695579529, 0.9188253879547119, 0.909447431564331, 0.9865745902061462]\n",
      "mean =  1.9039726816945606\n",
      "std =  0.5430182594159135\n",
      "mean =  0.9664899561140272\n",
      "std =  0.1000803082686253\n",
      "\n",
      "\n",
      "motion remote  X\n",
      "p = 0.8559215597688267\n",
      "\n",
      "motion remote  Y\n",
      "p = 0.8181022892105594\n"
     ]
    }
   ],
   "source": [
    "def comp_max_dist(df):\n",
    "    \n",
    "    dist_obstacle = -1\n",
    "    collider = 0.12\n",
    "\n",
    "    z_cross = dist_obstacle + collider\n",
    "    \n",
    "    z = df['dronePosition.z']\n",
    "    \n",
    "    \n",
    "#     print()\n",
    "    for idx,i in enumerate(z):\n",
    "        if idx>0:\n",
    "            if z[idx-1]>z_cross and z[idx]<z_cross:\n",
    "#                 print(idx)\n",
    "                break\n",
    "                \n",
    "    \n",
    "    return [df['dronePosition.x'][idx], df['dronePosition.y'][idx]]\n",
    "\n",
    "cross_ret = runHapticsZAnalysis(comp_max_dist)"
   ]
  },
  {
   "cell_type": "code",
   "execution_count": 24,
   "metadata": {
    "jupyter": {
     "source_hidden": true
    }
   },
   "outputs": [],
   "source": [
    "coord = ['X', 'Y']\n",
    "cross = {}\n",
    "x_center = 2\n",
    "y_center = 1\n",
    "\n",
    "cross_dic = {'X':cross_ret[0], 'Y':cross_ret[1]}\n",
    "center = {'X':2, 'Y':1}\n",
    "\n",
    "for c in coord:\n",
    "    cross[c] = {}\n",
    "    for i in interfaces:\n",
    "        cross[c][i] = np.array(cross_dic[c][i]) - center[c]"
   ]
  },
  {
   "cell_type": "code",
   "execution_count": 25,
   "metadata": {
    "jupyter": {
     "source_hidden": true
    }
   },
   "outputs": [
    {
     "data": {
      "image/png": "[encoded data removed]",
      "text/plain": [
       "<Figure size 432x432 with 1 Axes>"
      ]
     },
     "metadata": {},
     "output_type": "display_data"
    }
   ],
   "source": [
    "fig = plt.figure()\n",
    "ax = fig.add_subplot(111)\n",
    "\n",
    "ax.scatter(cross['X']['remote'], cross['Y']['remote'], color = 'b', label = 'remote')\n",
    "ax.scatter(cross['X']['motion'], cross['Y']['motion'], color = 'r', label = 'motion')\n",
    "\n",
    "l = 0.2\n",
    "ax.plot([-l, -l], [-l, l] ,'k')\n",
    "ax.plot([l, l], [-l, l] ,'k')\n",
    "ax.plot([-l, l], [-l, -l] ,'k')\n",
    "ax.plot([-l, l], [l, l] ,'k')\n",
    "l = 0.5\n",
    "ax.plot([-l, -l], [-l, l] ,'k')\n",
    "ax.plot([l, l], [-l, l] ,'k')\n",
    "ax.plot([-l, l], [-l, -l] ,'k')\n",
    "ax.plot([-l, l], [l, l] ,'k')\n",
    "\n",
    "plt.xlim([-0.6, 0.6])\n",
    "plt.ylim([-0.6, 0.6])\n",
    "\n",
    "plt.xlabel('')\n",
    "plt.ylabel('')\n",
    "plt.xticks([])\n",
    "plt.yticks([])\n",
    "\n",
    "plt.legend(loc = 'upper right')\n",
    "\n",
    "\n",
    "ellipse = Ellipse((np.mean(cross['X']['remote']), np.mean(cross['Y']['remote'])), width=np.std(cross['X']['remote'])*2,\n",
    "        height=np.std(cross['Y']['remote'])*2,\n",
    "        alpha=0.2,\n",
    "        facecolor='blue', zorder=-2)\n",
    "ax.add_patch(ellipse)\n",
    "\n",
    "\n",
    "ellipse = Ellipse((np.mean(cross['X']['motion']), np.mean(cross['Y']['motion'])), width=np.std(cross['X']['motion'])*2,\n",
    "        height=np.std(cross['Y']['motion'])*2,\n",
    "        alpha=0.5,\n",
    "        facecolor='orange', zorder=-1)\n",
    "ax.add_patch(ellipse)\n",
    "        \n",
    "ax.spines['right'].set_visible(False)\n",
    "ax.spines['top'].set_visible(False)\n",
    "ax.spines['left'].set_visible(False)\n",
    "ax.spines['bottom'].set_visible(False)\n",
    "\n",
    "savefig('cross_Z.pdf', bbox_inches='tight')"
   ]
  },
  {
   "cell_type": "code",
   "execution_count": 18,
   "metadata": {
    "jupyter": {
     "source_hidden": true
    }
   },
   "outputs": [
    {
     "name": "stdout",
     "output_type": "stream",
     "text": [
      "-0.09602731830543942\n",
      "0.5430182594159135\n",
      "-0.0057105541229248045\n",
      "0.1377972457505892\n",
      "\u001b[32mp = 0.0003861121183385026 !!!!!!!!!!\u001b[0m\n",
      "-0.033510043885972764\n",
      "0.1000803082686253\n",
      "-0.026077542040083144\n",
      "0.05544977345280566\n",
      "\u001b[31mp = 0.06494240250006876 !\u001b[0m\n"
     ]
    },
    {
     "data": {
      "image/png": "[encoded data removed]",
      "text/plain": [
       "<Figure size 216x216 with 1 Axes>"
      ]
     },
     "metadata": {
      "needs_background": "light"
     },
     "output_type": "display_data"
    },
    {
     "data": {
      "image/png": "[encoded data removed]",
      "text/plain": [
       "<Figure size 216x216 with 1 Axes>"
      ]
     },
     "metadata": {
      "needs_background": "light"
     },
     "output_type": "display_data"
    }
   ],
   "source": [
    "for c in coord:\n",
    "\n",
    "    print(np.mean(cross[c]['remote']))\n",
    "    print(np.std(cross[c]['remote']))\n",
    "    print(np.mean(cross[c]['motion']))\n",
    "    print(np.std(cross[c]['motion']))\n",
    "\n",
    "    fig = plt.figure(figsize=[3,3])\n",
    "    ax = fig.add_subplot(111)\n",
    "\n",
    "    ax.bar([0,1], \n",
    "            [np.mean(cross[c]['remote']), np.mean(cross[c]['motion'])],\n",
    "          yerr = [np.std(cross[c]['remote']), np.std(cross[c]['motion'])])\n",
    "\n",
    "    print_p(t_test_levene(cross[c]['remote'], cross[c]['motion'])[1])"
   ]
  },
  {
   "cell_type": "code",
   "execution_count": null,
   "metadata": {
    "collapsed": true,
    "jupyter": {
     "outputs_hidden": true,
     "source_hidden": true
    }
   },
   "outputs": [],
   "source": []
  },
  {
   "cell_type": "markdown",
   "metadata": {},
   "source": [
    "# TEST"
   ]
  }
 ],
 "metadata": {
  "kernelspec": {
   "display_name": "Python 3",
   "language": "python",
   "name": "python3"
  },
  "language_info": {
   "codemirror_mode": {
    "name": "ipython",
    "version": 3
   },
   "file_extension": ".py",
   "mimetype": "text/x-python",
   "name": "python",
   "nbconvert_exporter": "python",
   "pygments_lexer": "ipython3",
   "version": "3.7.3"
  },
  "varInspector": {
   "cols": {
    "lenName": 16,
    "lenType": 16,
    "lenVar": 40
   },
   "kernels_config": {
    "python": {
     "delete_cmd_postfix": "",
     "delete_cmd_prefix": "del ",
     "library": "var_list.py",
     "varRefreshCmd": "print(var_dic_list())"
    },
    "r": {
     "delete_cmd_postfix": ") ",
     "delete_cmd_prefix": "rm(",
     "library": "var_list.r",
     "varRefreshCmd": "cat(var_dic_list()) "
    }
   },
   "position": {
    "height": "472.85px",
    "left": "1048.6px",
    "right": "20px",
    "top": "22px",
    "width": "462.8px"
   },
   "types_to_exclude": [
    "module",
    "function",
    "builtin_function_or_method",
    "instance",
    "_Feature"
   ],
   "window_display": false
  }
 },
 "nbformat": 4,
 "nbformat_minor": 4
}
