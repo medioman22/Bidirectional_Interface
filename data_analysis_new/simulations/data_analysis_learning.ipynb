{
 "cells": [
  {
   "cell_type": "code",
   "execution_count": 1,
   "metadata": {},
   "outputs": [],
   "source": [
    "%load_ext autoreload\n",
    "%autoreload 2\n",
    "\n",
    "import os,sys\n",
    "sys.path.insert(1, os.path.join(sys.path[0], '..'))\n",
    "\n",
    "import numpy as np\n",
    "import pandas as pd\n",
    "import seaborn as sn\n",
    "import json\n",
    "import glob, os\n",
    "import matplotlib.pyplot as plt\n",
    "import matplotlib as mpl\n",
    "from matplotlib.pylab import savefig\n",
    "from mpl_toolkits.mplot3d import Axes3D\n",
    "\n",
    "from termcolor import colored\n",
    "from statistics import print_p\n",
    "from statistics import t_test_kruskal\n",
    "from statistics import t_test_levene\n",
    "from statistics import print_p\n",
    "\n",
    "import my_plots\n",
    "\n",
    "import matplotlib.gridspec as gridspec"
   ]
  },
  {
   "cell_type": "code",
   "execution_count": 2,
   "metadata": {
    "jupyter": {
     "source_hidden": true
    }
   },
   "outputs": [],
   "source": [
    "# plot settings\n",
    "\n",
    "lw = 1.5\n",
    "\n",
    "fs = 13\n",
    "\n",
    "params = {\n",
    "    'axes.labelsize': fs,\n",
    "    'font.size': fs,\n",
    "    'legend.fontsize': fs,\n",
    "    'xtick.labelsize': fs,\n",
    "    'ytick.labelsize': fs,\n",
    "    'text.usetex': False,\n",
    "    'figure.figsize': [2, 2],\n",
    "    'boxplot.boxprops.linewidth' : lw,\n",
    "    'boxplot.whiskerprops.linewidth' : lw,\n",
    "    'boxplot.capprops.linewidth' : lw,\n",
    "    'boxplot.medianprops.linewidth' : lw,\n",
    "    'text.usetex' : True,\n",
    "    'font.family' : 'serif',\n",
    "\n",
    "   }\n",
    "mpl.rcParams.update(params)"
   ]
  },
  {
   "cell_type": "code",
   "execution_count": 3,
   "metadata": {
    "jupyter": {
     "source_hidden": true
    }
   },
   "outputs": [],
   "source": [
    "def dfFromJSON(file):\n",
    "    with open(file) as f:\n",
    "        temp = []\n",
    "        for line in f:\n",
    "            temp.append(json.loads(line))\n",
    "            \n",
    "    df = pd.io.json.json_normalize(temp[0]['allLogs'])\n",
    "    df.columns = df.columns.map(lambda x: x.split(\"*.\")[-1])\n",
    "    return df"
   ]
  },
  {
   "cell_type": "code",
   "execution_count": 4,
   "metadata": {
    "jupyter": {
     "source_hidden": true
    }
   },
   "outputs": [],
   "source": [
    "def appendToLogs(file, log, _type):\n",
    "    df = dfFromJSON(file)\n",
    "    log[_type].append(df)"
   ]
  },
  {
   "cell_type": "markdown",
   "metadata": {},
   "source": [
    "# Import data"
   ]
  },
  {
   "cell_type": "code",
   "execution_count": 5,
   "metadata": {
    "jupyter": {
     "source_hidden": true
    }
   },
   "outputs": [],
   "source": [
    "path_to_folder = \"/Volumes/GoogleDrive/My Drive/Matteo/EPFL/LIS/PhD/Bidirectional_wearable_interface/DATA/Learning_Curve/\"\n",
    "subjects = glob.glob(path_to_folder + \"*/\")\n",
    "\n",
    "logs = {}\n",
    "for curr in subjects:\n",
    "    logs[curr] = []\n",
    "    \n",
    "subjects.sort()"
   ]
  },
  {
   "cell_type": "markdown",
   "metadata": {},
   "source": [
    "### used to remove outliers"
   ]
  },
  {
   "cell_type": "code",
   "execution_count": 6,
   "metadata": {
    "jupyter": {
     "source_hidden": true
    }
   },
   "outputs": [],
   "source": [
    "subjects.remove(subjects[5])\n",
    "subjects.remove(subjects[4])\n",
    "\n",
    "logs = {}\n",
    "for curr in subjects:\n",
    "    logs[curr] = []"
   ]
  },
  {
   "cell_type": "code",
   "execution_count": 7,
   "metadata": {
    "jupyter": {
     "source_hidden": true
    }
   },
   "outputs": [
    {
     "name": "stdout",
     "output_type": "stream",
     "text": [
      "new subject\n",
      ".\n",
      ".\n",
      ".\n",
      ".\n",
      ".\n",
      "new subject\n",
      ".\n",
      ".\n",
      ".\n",
      ".\n",
      ".\n",
      "new subject\n",
      ".\n",
      ".\n",
      ".\n",
      ".\n",
      ".\n",
      "new subject\n",
      ".\n",
      ".\n",
      ".\n",
      ".\n",
      ".\n",
      "new subject\n",
      ".\n",
      ".\n",
      ".\n",
      ".\n",
      ".\n",
      "new subject\n",
      ".\n",
      ".\n",
      ".\n",
      ".\n",
      ".\n",
      "new subject\n",
      ".\n",
      ".\n",
      ".\n",
      ".\n",
      ".\n",
      "new subject\n",
      ".\n",
      ".\n",
      ".\n",
      ".\n",
      ".\n",
      "new subject\n",
      ".\n",
      ".\n",
      ".\n",
      ".\n",
      "new subject\n",
      ".\n",
      ".\n",
      ".\n",
      ".\n",
      "new subject\n",
      ".\n",
      ".\n",
      ".\n",
      ".\n",
      "new subject\n",
      ".\n",
      ".\n",
      ".\n",
      ".\n",
      "new subject\n",
      ".\n",
      ".\n",
      ".\n",
      ".\n",
      "new subject\n",
      ".\n",
      ".\n",
      ".\n",
      ".\n",
      "new subject\n",
      ".\n",
      ".\n",
      ".\n",
      ".\n",
      "new subject\n",
      ".\n",
      ".\n",
      ".\n",
      ".\n",
      "new subject\n",
      ".\n",
      ".\n",
      ".\n",
      ".\n",
      "new subject\n",
      ".\n",
      ".\n",
      ".\n",
      ".\n"
     ]
    }
   ],
   "source": [
    "EXP_N_THOMAS = 4\n",
    "EXP_N = 5\n",
    "\n",
    "for subject in subjects:\n",
    "    print('new subject')\n",
    "    files = glob.glob(subject+\"*.json\")\n",
    "    files.sort()\n",
    "    \n",
    "    if len(files) != EXP_N and len(files) != EXP_N_THOMAS:\n",
    "        print(subject)\n",
    "        print('wrong number of experiments!')\n",
    "        break\n",
    "    for file in files:\n",
    "        print('.')\n",
    "        logs[subject].append(dfFromJSON(file))"
   ]
  },
  {
   "cell_type": "code",
   "execution_count": 8,
   "metadata": {
    "jupyter": {
     "source_hidden": true
    }
   },
   "outputs": [],
   "source": [
    "fields = ['first remote', 'last remote', 'first motion', 'last motion']\n",
    "\n",
    "sub_remote = [x for x in subjects if 'Controller' in x]\n",
    "sub_motion = [x for x in subjects if 'Motion' in x]\n",
    "\n",
    "logs['first motion'] = [logs[x][0] for x in sub_motion]\n",
    "logs['last motion'] = [logs[x][-1] for x in sub_motion]\n",
    "logs['first remote'] = [logs[x][0] for x in sub_remote]\n",
    "logs['last remote'] = [logs[x][-1] for x in sub_remote]"
   ]
  },
  {
   "cell_type": "markdown",
   "metadata": {},
   "source": [
    "### bugfix in data"
   ]
  },
  {
   "cell_type": "code",
   "execution_count": 9,
   "metadata": {
    "jupyter": {
     "source_hidden": true
    }
   },
   "outputs": [],
   "source": [
    "logs['first motion'][1] = logs['first motion'][1].iloc[:3800]"
   ]
  },
  {
   "cell_type": "markdown",
   "metadata": {},
   "source": [
    "# Data analysis scripts"
   ]
  },
  {
   "cell_type": "code",
   "execution_count": 10,
   "metadata": {
    "scrolled": true
   },
   "outputs": [],
   "source": [
    "def runBasicAnalysis(f):\n",
    "    \n",
    "    var = {}\n",
    "\n",
    "    var['means'] = []\n",
    "    var['stds'] = []\n",
    "\n",
    "    for i in fields:\n",
    "        var[i] = []\n",
    "        for j in logs[i]:\n",
    "            var[i].append(f(j))\n",
    "        print(i)\n",
    "        print(var[i])\n",
    "\n",
    "        var['means'].append(np.mean(var[i]))\n",
    "        var['stds'].append(np.std(var[i]))\n",
    "\n",
    "        print('mean = ', var['means'][-1])\n",
    "        print('std = ', var['stds'][-1])\n",
    "\n",
    "        print()\n",
    "        \n",
    "    for idx,i in enumerate(fields):\n",
    "        for j in fields[idx+1:]:\n",
    "            if i != j:\n",
    "                \n",
    "                t, p = t_test_kruskal(var[i],var[j])\n",
    "                \n",
    "                print ()\n",
    "                print (i,j)\n",
    "                print ('Kruskal')\n",
    "                print_p(p)\n",
    "                \n",
    "                t, p = t_test_levene(var[i],var[j])\n",
    "                print ('Levene')\n",
    "                print_p(p)\n",
    "            \n",
    "    var['diff mot'] = 1-np.array(var['last motion'])/np.array(var['first motion'])\n",
    "    var['diff rem'] = 1-np.array(var['last remote'])/np.array(var['first remote'])\n",
    "\n",
    "    print()\n",
    "    print('motion ratio')\n",
    "    print(var['diff mot'])\n",
    "    print(np.mean(var['diff mot']))\n",
    "    print(np.std(var['diff mot']))\n",
    "    print()\n",
    "    print('remote ratio')\n",
    "    print(var['diff rem'])\n",
    "    print(np.mean(var['diff rem']))\n",
    "    print(np.std(var['diff rem']))\n",
    "\n",
    "    t, p = t_test_kruskal(var['diff mot'], var['diff rem'])\n",
    "\n",
    "    print()\n",
    "    print_p(p)\n",
    "            \n",
    "    var['diff first'] = 1-np.array(var['first motion'])/np.array(var['first remote'])\n",
    "    var['diff last'] = 1-np.array(var['last motion'])/np.array(var['last remote'])\n",
    "\n",
    "    print()\n",
    "    print('firts ratio')\n",
    "    print(var['diff first'])\n",
    "    print(np.mean(var['diff first']))\n",
    "    print(np.std(var['diff first']))\n",
    "    print()\n",
    "    print('last ratio')\n",
    "    print(var['diff last'])\n",
    "    print(np.mean(var['diff last']))\n",
    "    print(np.std(var['diff last']))\n",
    "\n",
    "    t, p = t_test_kruskal(var['diff first'], var['diff last'])\n",
    "\n",
    "    print()\n",
    "    print_p(p)\n",
    "            \n",
    "    return var\n",
    "\n",
    "def basic_plot(var):\n",
    "    \n",
    "    fig = plt.figure(figsize=(12, 4))\n",
    "    ax = fig.add_subplot(131)\n",
    "    ax.bar([0, 1, 2, 3],\n",
    "       var['means'],\n",
    "       yerr=var['stds'])\n",
    "\n",
    "    plt.xticks(range(4), fields, rotation = 10)\n",
    "\n",
    "    ax = fig.add_subplot(132)\n",
    "    ax.bar([0, 1],\n",
    "       [np.mean(var['diff mot']), np.mean(var['diff rem'])],\n",
    "       yerr=[np.std(var['diff mot']), np.std(var['diff rem'])])\n",
    "    \n",
    "    plt.xticks(range(2), ['motion', 'remote'], rotation = 10)\n",
    "\n",
    "    ax = fig.add_subplot(133)\n",
    "    ax.bar([0, 1],\n",
    "       [np.mean(var['diff first']), np.mean(var['diff last'])],\n",
    "       yerr=[np.std(var['diff first']), np.std(var['diff last'])])\n",
    "    \n",
    "    plt.xticks(range(2), ['first', 'last'], rotation = 10)\n",
    "    \n",
    "def basic_box(data, names, col = 'b', tit = '', leg = False, ax = None, save = False, where = None, y = '', xlim = None, ylim = None, xticks = None, yticks = None, whis = 1.5):\n",
    "\n",
    "    \n",
    "    lighter = 0.4\n",
    "    c0 = [0,0,1] \n",
    "    c1 = [lighter,lighter,1] \n",
    "    c2 = [1,0,0] \n",
    "    c3 = [1,lighter,lighter]    \n",
    "\n",
    "    col = [c0, c1, c2, c3]\n",
    "\n",
    "    if ax is None:\n",
    "        plt.figure()\n",
    "        ax = plt.subplot(1, 1, 1)    \n",
    "    \n",
    "    my_plots.boxplot_elegant(ax, data[names[0]], [1], col[0], whis = whis)\n",
    "    my_plots.boxplot_elegant(ax, data[names[1]], [1.4], col[1], whis = whis)\n",
    "    my_plots.boxplot_elegant(ax, data[names[2]], [1.8], col[2], whis = whis)\n",
    "    my_plots.boxplot_elegant(ax, data[names[3]], [2.2], col[3], whis = whis)\n",
    "    ax.yaxis.grid()\n",
    "    ax.spines['right'].set_visible(False)\n",
    "    ax.spines['top'].set_visible(False)\n",
    "    \n",
    "    if xlim is not None:\n",
    "        plt.xlim(xlim)\n",
    "    if ylim is not None:\n",
    "        plt.ylim(ylim)\n",
    "    if xticks is not None:\n",
    "        plt.xticks(xticks)\n",
    "    if yticks is not None:\n",
    "        plt.yticks(yticks)\n",
    "    \n",
    "    plt.title(tit)\n",
    "    \n",
    "    plt.xticks([1, 1.4, 1.8, 2.2], ['R1', 'R5', 'W1', 'W5'])\n",
    "    \n",
    "    plt.xlim([0.8, 2.4])\n",
    "    \n",
    "    plt.ylabel(y)\n",
    "\n",
    "    if leg:\n",
    "        for idx,i in enumerate(labels):\n",
    "            ax.scatter(0,0, color = c[idx], label = i)\n",
    "        \n",
    "        plt.legend()\n",
    "\n",
    "    if save:\n",
    "        savefig(where, bbox_inches='tight')\n",
    "        \n",
    "    return ax"
   ]
  },
  {
   "cell_type": "code",
   "execution_count": 11,
   "metadata": {
    "jupyter": {
     "source_hidden": true
    }
   },
   "outputs": [],
   "source": [
    "def moving_average(data_set, periods=3, fill_with_zeros = True):\n",
    "    \n",
    "    if data_set.size < periods:\n",
    "        return data_set\n",
    "    \n",
    "    if isinstance(data_set, pd.DataFrame):\n",
    "        print('a')\n",
    "        data_set.index = range(len(data_set))\n",
    "\n",
    "    weights = np.ones(periods) / periods\n",
    "    \n",
    "    ma = np.convolve(data_set, weights, mode='valid')\n",
    "\n",
    "    if fill_with_zeros:\n",
    "        fill_before = np.ones(int(np.ceil((len(data_set) - len(ma))/2))) * data_set[0]\n",
    "        fill_after = np.ones(int(np.floor((len(data_set) - len(ma))/2))) * data_set[-1]\n",
    "        ma = np.hstack([fill_before, ma, fill_after])\n",
    "    \n",
    "    return ma\n",
    "\n",
    "def filter_position(df, steps):\n",
    "    \n",
    "    l = moving_average(df['dronePosition.x'], periods=steps, fill_with_zeros = False)\n",
    "    df['dronePositionFiltered.x'] = np.append([l[0]]*(steps-1), l)\n",
    "    l = moving_average(df['dronePosition.y'], periods=steps, fill_with_zeros = False)\n",
    "    df['dronePositionFiltered.y'] = np.append([l[0]]*(steps-1), l)\n",
    "    l = moving_average(df['dronePosition.x'], periods=steps, fill_with_zeros = False)\n",
    "    df['dronePositionFiltered.x'] = np.append([l[0]]*(steps-1), l)\n",
    "    return df\n",
    "\n",
    "def running_average(signal, steps):\n",
    "    \n",
    "    l = moving_average(signal, periods=steps, fill_with_zeros = False)\n",
    "    out = np.append([l[0]]*(steps-1), l)\n",
    "    return out"
   ]
  },
  {
   "cell_type": "markdown",
   "metadata": {},
   "source": [
    "# Plot Trajectories"
   ]
  },
  {
   "cell_type": "code",
   "execution_count": 12,
   "metadata": {
    "jupyter": {
     "source_hidden": true
    }
   },
   "outputs": [
    {
     "data": {
      "image/png": "[encoded data removed]",
      "text/plain": [
       "<Figure size 144x144 with 4 Axes>"
      ]
     },
     "metadata": {
      "needs_background": "light"
     },
     "output_type": "display_data"
    }
   ],
   "source": [
    "mpl.rcParams.update(params)\n",
    "\n",
    "plt.figure()\n",
    "\n",
    "for idx,i in enumerate(fields):\n",
    "    ax = plt.subplot(2, 2, 1+idx, projection='3d')\n",
    "    for idx1,log in enumerate(logs[i]):\n",
    "        ax.plot(log['dronePosition.x'],log['dronePosition.z'],log['dronePosition.y'], label = str(idx1))\n",
    "    plt.legend()\n",
    "    plt.title(fields[idx])"
   ]
  },
  {
   "cell_type": "markdown",
   "metadata": {},
   "source": [
    "# Time analysis"
   ]
  },
  {
   "cell_type": "code",
   "execution_count": 13,
   "metadata": {
    "jupyter": {
     "source_hidden": true
    }
   },
   "outputs": [
    {
     "name": "stdout",
     "output_type": "stream",
     "text": [
      "first remote\n",
      "[36.68891906738281, 73.68862915039062, 39.73820495605469, 39.23795127868652, 94.03952026367188, 74.08895683288574, 57.13888931274414, 49.789329528808594, 77.23839950561523]\n",
      "mean =  60.18319998847114\n",
      "std =  19.26101363267273\n",
      "\n",
      "last remote\n",
      "[25.53936767578125, 29.975521087646484, 25.188079833984375, 48.438262939453125, 50.988128662109375, 63.9388427734375, 38.138580322265625, 32.87721252441406, 59.626495361328125]\n",
      "mean =  41.63449902004666\n",
      "std =  13.78146303850499\n",
      "\n",
      "first motion\n",
      "[26.73883819580078, 47.487369537353516, 52.7387809753418, 37.28846740722656, 54.826730728149414, 61.58778953552246, 51.0882511138916, 51.13821887969971, 58.23855209350586]\n",
      "mean =  49.01477760738797\n",
      "std =  10.196245186281294\n",
      "\n",
      "last motion\n",
      "[18.48773193359375, 42.438934326171875, 55.088836669921875, 34.08905029296875, 39.787872314453125, 53.738616943359375, 56.83905029296875, 36.73876953125, 35.638214111328125]\n",
      "mean =  41.427452935112846\n",
      "std =  11.618992155139125\n",
      "\n",
      "\n",
      "first remote last remote\n",
      "Kruskal\n",
      "\u001b[33mp = 0.04694472697848194 !!!!!!\u001b[0m\n",
      "Levene\n",
      "p = 0.2630880703876915\n",
      "\n",
      "first remote first motion\n",
      "Kruskal\n",
      "p = 0.5637028616507718\n",
      "Levene\n",
      "\u001b[32mp = 0.007802111397241972 !!!!!!!!!!\u001b[0m\n",
      "\n",
      "first remote last motion\n",
      "Kruskal\n",
      "\u001b[31mp = 0.0576307243947688 !\u001b[0m\n",
      "Levene\n",
      "\u001b[31mp = 0.08099866334287345 !\u001b[0m\n",
      "\n",
      "last remote first motion\n",
      "Kruskal\n",
      "p = 0.12365771040283399\n",
      "Levene\n",
      "\u001b[33mp = 0.043857150342069925 !!!!!!\u001b[0m\n",
      "\n",
      "last remote last motion\n",
      "Kruskal\n",
      "p = 0.8252828980151854\n",
      "Levene\n",
      "p = 0.4360057184933185\n",
      "\n",
      "first motion last motion\n",
      "Kruskal\n",
      "p = 0.10187605853790094\n",
      "Levene\n",
      "p = 0.20809912791818694\n",
      "\n",
      "motion ratio\n",
      "[ 0.30858133  0.10631112 -0.0445603   0.08580179  0.27429792  0.1274469\n",
      " -0.11256598  0.28157902  0.3880649 ]\n",
      "0.15721741004631132\n",
      "0.15897257054599206\n",
      "\n",
      "remote ratio\n",
      "[ 0.30389425  0.59321375  0.36614953 -0.23447482  0.45780106  0.13699901\n",
      "  0.3325285   0.33967352  0.22802006]\n",
      "0.2804227612253831\n",
      "0.2190542420926392\n",
      "\n",
      "\u001b[31mp = 0.05020095926358515 !\u001b[0m\n",
      "\n",
      "firts ratio\n",
      "[ 0.27120125  0.3555672  -0.32715559  0.04968363  0.41698202  0.16873186\n",
      "  0.10589352 -0.02709194  0.24598966]\n",
      "0.13997795737966687\n",
      "0.21289948433948624\n",
      "\n",
      "last ratio\n",
      "[ 0.27610847 -0.41578637 -1.18709949  0.29623714  0.219664    0.15953097\n",
      " -0.49032947 -0.11745391  0.40230909]\n",
      "-0.09520217397444675\n",
      "0.48924865166961967\n",
      "\n",
      "p = 0.3359238131517335\n"
     ]
    },
    {
     "data": {
      "text/plain": [
       "<matplotlib.axes._subplots.AxesSubplot at 0x1a1c2552d0>"
      ]
     },
     "execution_count": 13,
     "metadata": {},
     "output_type": "execute_result"
    },
    {
     "data": {
      "image/png": "[encoded data removed]",
      "text/plain": [
       "<Figure size 864x288 with 3 Axes>"
      ]
     },
     "metadata": {
      "needs_background": "light"
     },
     "output_type": "display_data"
    },
    {
     "data": {
      "image/png": "[encoded data removed]",
      "text/plain": [
       "<Figure size 144x144 with 1 Axes>"
      ]
     },
     "metadata": {
      "needs_background": "light"
     },
     "output_type": "display_data"
    }
   ],
   "source": [
    "def compTime(df):\n",
    "    return df['absoluteTime'].iloc[-1] - df['absoluteTime'].iloc[0]\n",
    "time = runBasicAnalysis(compTime)\n",
    "basic_plot(time)\n",
    "\n",
    "basic_box(time, fields, y = 'Time [s]', ylim = [15,105], save = True, where = 'Time.pdf')"
   ]
  },
  {
   "cell_type": "markdown",
   "metadata": {},
   "source": [
    "## <span style=\"color:red\">Time significatively improves from first to last trial with remote</span>."
   ]
  },
  {
   "cell_type": "markdown",
   "metadata": {},
   "source": [
    "# Distance Analysis"
   ]
  },
  {
   "cell_type": "code",
   "execution_count": 14,
   "metadata": {
    "jupyter": {
     "source_hidden": true
    }
   },
   "outputs": [
    {
     "name": "stdout",
     "output_type": "stream",
     "text": [
      "first remote\n",
      "[22.324165494490163, 47.55272516313187, 27.296154193201396, 26.429951555178604, 23.59043715530307, 26.766195403641024, 28.819758429636657, 22.411877011676065, 37.13760414983424]\n",
      "mean =  29.147652061788122\n",
      "std =  7.760241352642701\n",
      "\n",
      "last remote\n",
      "[16.300804799333633, 18.913434669361628, 16.521486751991354, 39.33784439306216, 17.505522909543476, 21.627921471488406, 19.671156363529324, 26.494663735001417, 21.808760102751325]\n",
      "mean =  22.020177244006973\n",
      "std =  6.820067262716887\n",
      "\n",
      "first motion\n",
      "[15.98972282475311, 19.1777130764286, 22.31855332241707, 17.96494570721543, 16.363344621467206, 16.809082127723983, 17.90026799383409, 16.644707575850145, 19.494031178687354]\n",
      "mean =  18.073596492041887\n",
      "std =  1.8916901736698728\n",
      "\n",
      "last motion\n",
      "[13.31047505639871, 18.91328878255961, 25.94867135780242, 22.021034077629242, 15.301398107391059, 16.013081638542097, 18.498482054697696, 20.48739833485118, 15.458738723781288]\n",
      "mean =  18.439174237072592\n",
      "std =  3.720273382565281\n",
      "\n",
      "\n",
      "first remote last remote\n",
      "Kruskal\n",
      "\u001b[32mp = 0.005478553242547367 !!!!!!!!!!\u001b[0m\n",
      "Levene\n",
      "p = 0.651676831818253\n",
      "\n",
      "first remote first motion\n",
      "Kruskal\n",
      "\u001b[32mp = 0.0008551019694724799 !!!!!!!!!!\u001b[0m\n",
      "Levene\n",
      "p = 0.42073442409279016\n",
      "\n",
      "first remote last motion\n",
      "Kruskal\n",
      "\u001b[32mp = 0.002554920858591013 !!!!!!!!!!\u001b[0m\n",
      "Levene\n",
      "p = 0.3737553484713256\n",
      "\n",
      "last remote first motion\n",
      "Kruskal\n",
      "p = 0.3359238131517335\n",
      "Levene\n",
      "p = 0.21820935696683363\n",
      "\n",
      "last remote last motion\n",
      "Kruskal\n",
      "p = 0.289838717607506\n",
      "Levene\n",
      "p = 0.658068139258499\n",
      "\n",
      "first motion last motion\n",
      "Kruskal\n",
      "p = 0.8252828980151854\n",
      "Levene\n",
      "\u001b[31mp = 0.09153397048956693 !\u001b[0m\n",
      "\n",
      "motion ratio\n",
      "[ 0.16756061  0.0137881  -0.16265024 -0.22577794  0.06489789  0.04735538\n",
      " -0.03341928 -0.23086562  0.20700144]\n",
      "-0.01690107262369964\n",
      "0.15160118651201315\n",
      "\n",
      "remote ratio\n",
      "[ 0.26981348  0.60226392  0.39473207 -0.48838125  0.25793987  0.19196878\n",
      "  0.31744201 -0.18217067  0.41275802]\n",
      "0.19737402446438823\n",
      "0.3139270969691343\n",
      "\n",
      "\u001b[32mp = 0.0012445763775868267 !!!!!!!!!!\u001b[0m\n",
      "\n",
      "firts ratio\n",
      "[0.28374824 0.59670633 0.18235539 0.32028079 0.30635687 0.37200331\n",
      " 0.37888903 0.25732648 0.47508646]\n",
      "0.3525281013566357\n",
      "0.11625746426309824\n",
      "\n",
      "last ratio\n",
      "[ 1.83446755e-01  7.71339551e-06 -5.70601469e-01  4.40207403e-01\n",
      "  1.25910252e-01  2.59610700e-01  5.96138980e-02  2.26734918e-01\n",
      "  2.91168381e-01]\n",
      "0.112899839066061\n",
      "0.27106715359099814\n",
      "\n",
      "\u001b[31mp = 0.05870740843120496 !\u001b[0m\n"
     ]
    },
    {
     "name": "stderr",
     "output_type": "stream",
     "text": [
      "/Users/lis/anaconda3/envs/bidir/lib/python3.7/site-packages/ipykernel_launcher.py:5: SettingWithCopyWarning: \n",
      "A value is trying to be set on a copy of a slice from a DataFrame.\n",
      "Try using .loc[row_indexer,col_indexer] = value instead\n",
      "\n",
      "See the caveats in the documentation: http://pandas.pydata.org/pandas-docs/stable/user_guide/indexing.html#returning-a-view-versus-a-copy\n",
      "  \"\"\"\n",
      "/Users/lis/anaconda3/envs/bidir/lib/python3.7/site-packages/ipykernel_launcher.py:6: SettingWithCopyWarning: \n",
      "A value is trying to be set on a copy of a slice from a DataFrame.\n",
      "Try using .loc[row_indexer,col_indexer] = value instead\n",
      "\n",
      "See the caveats in the documentation: http://pandas.pydata.org/pandas-docs/stable/user_guide/indexing.html#returning-a-view-versus-a-copy\n",
      "  \n",
      "/Users/lis/anaconda3/envs/bidir/lib/python3.7/site-packages/ipykernel_launcher.py:7: SettingWithCopyWarning: \n",
      "A value is trying to be set on a copy of a slice from a DataFrame.\n",
      "Try using .loc[row_indexer,col_indexer] = value instead\n",
      "\n",
      "See the caveats in the documentation: http://pandas.pydata.org/pandas-docs/stable/user_guide/indexing.html#returning-a-view-versus-a-copy\n",
      "  import sys\n"
     ]
    },
    {
     "data": {
      "image/png": "[encoded data removed]",
      "text/plain": [
       "<Figure size 864x288 with 3 Axes>"
      ]
     },
     "metadata": {
      "needs_background": "light"
     },
     "output_type": "display_data"
    },
    {
     "data": {
      "image/png": "[encoded data removed]",
      "text/plain": [
       "<Figure size 144x144 with 1 Axes>"
      ]
     },
     "metadata": {
      "needs_background": "light"
     },
     "output_type": "display_data"
    }
   ],
   "source": [
    "def compDist(df):\n",
    "    \n",
    "    steps = 10\n",
    "    \n",
    "    df['dronePositionFiltered.x'] = running_average(df['dronePosition.x'].values, steps)\n",
    "    df['dronePositionFiltered.y'] = running_average(df['dronePosition.y'].values, steps)\n",
    "    df['dronePositionFiltered.z'] = running_average(df['dronePosition.z'].values, steps)\n",
    "    \n",
    "    x = df['dronePositionFiltered.x'].values\n",
    "    y = df['dronePositionFiltered.y'].values\n",
    "    z = df['dronePositionFiltered.z'].values\n",
    "\n",
    "    dx = np.diff(x)\n",
    "    dy = np.diff(y)\n",
    "    dz = np.diff(z)\n",
    "\n",
    "    dd = np.sqrt(dx**2+dy**2+dz**2)\n",
    "    d = np.sum(dd)\n",
    "\n",
    "    return d\n",
    "\n",
    "dist = runBasicAnalysis(compDist)\n",
    "\n",
    "basic_plot(dist)\n",
    "ax = basic_box(dist, fields, y = 'Distance [m]', ylim = [10, 60], save = True, where = 'Distance.pdf', whis = 3)"
   ]
  },
  {
   "cell_type": "markdown",
   "metadata": {},
   "source": [
    "## <span style=\"color:red\">Distance is signficatively lower in the first run for the motion controller, than compensated with time</span>."
   ]
  },
  {
   "cell_type": "markdown",
   "metadata": {},
   "source": [
    "# Velocity Analysis"
   ]
  },
  {
   "cell_type": "code",
   "execution_count": 15,
   "metadata": {
    "jupyter": {
     "source_hidden": true
    }
   },
   "outputs": [
    {
     "name": "stdout",
     "output_type": "stream",
     "text": [
      "first remote\n",
      "[0.6048814400906103, 0.6341347159495576, 0.6837602868147377, 0.6715884255602592, 0.24915828741993426, 0.3564514622938567, 0.5060106263899103, 0.4493126763989051, 0.47349571494404086]\n",
      "mean =  0.5143104039846458\n",
      "std =  0.14031517590863443\n",
      "\n",
      "last remote\n",
      "[0.645198148003594, 0.635482840516, 0.6588149829340826, 0.8013585478356915, 0.33589714666761533, 0.33931569435189307, 0.5085288287248177, 0.7898589029202127, 0.354552401349232]\n",
      "mean =  0.5632230548114598\n",
      "std =  0.1755935978670183\n",
      "\n",
      "first motion\n",
      "[0.5914655502685631, 0.3966098525935303, 0.42224456411118905, 0.4696252298017714, 0.2991898834986133, 0.26814663326859206, 0.342798400128234, 0.3230888208583262, 0.33652588395147487]\n",
      "mean =  0.3832994242755883\n",
      "std =  0.09443820204604729\n",
      "\n",
      "last motion\n",
      "[0.7082632927919577, 0.4466226105355526, 0.47096298796043873, 0.625612682187399, 0.3839282141175893, 0.29544490800563034, 0.3226276545085635, 0.5557734657423912, 0.4253860700249964]\n",
      "mean =  0.4705135428749465\n",
      "std =  0.12930312815332673\n",
      "\n",
      "\n",
      "first remote last remote\n",
      "Kruskal\n",
      "p = 0.5659921481957904\n",
      "Levene\n",
      "p = 0.5170617939519921\n",
      "\n",
      "first remote first motion\n",
      "Kruskal\n",
      "\u001b[33mp = 0.020921335337794 !!!!!!\u001b[0m\n",
      "Levene\n",
      "\u001b[31mp = 0.05104013048291008 !\u001b[0m\n",
      "\n",
      "first remote last motion\n",
      "Kruskal\n",
      "p = 0.4015419876158456\n",
      "Levene\n",
      "p = 0.7114300616081445\n",
      "\n",
      "last remote first motion\n",
      "Kruskal\n",
      "\u001b[33mp = 0.020921335337794 !!!!!!\u001b[0m\n",
      "Levene\n",
      "\u001b[33mp = 0.04502152378114348 !!!!!!\u001b[0m\n",
      "\n",
      "last remote last motion\n",
      "Kruskal\n",
      "p = 0.23323022278218208\n",
      "Levene\n",
      "p = 0.35877552803788354\n",
      "\n",
      "first motion last motion\n",
      "Kruskal\n",
      "\u001b[31mp = 0.08326451666355042 !\u001b[0m\n",
      "Levene\n",
      "p = 0.1362558333462004\n",
      "\n",
      "motion ratio\n",
      "[-0.19747176 -0.12610064 -0.11537964 -0.33215305 -0.28322592 -0.10180353\n",
      "  0.05884142 -0.72018786 -0.26405156]\n",
      "-0.23128139336949216\n",
      "0.2053592519111738\n",
      "\n",
      "remote ratio\n",
      "[-0.06665225 -0.00212593  0.03648253 -0.19322865 -0.34812753  0.04807322\n",
      " -0.00497658 -0.75792704  0.25120251]\n",
      "-0.11525330165287895\n",
      "0.27581195116856294\n",
      "\n",
      "p = 0.11518373151505139\n",
      "\n",
      "firts ratio\n",
      "[ 0.02217937  0.37456531  0.38246697  0.30072465 -0.20080246  0.24773311\n",
      "  0.32254703  0.28092654  0.28927364]\n",
      "0.22440157390583726\n",
      "0.18031813316332024\n",
      "\n",
      "last ratio\n",
      "[-0.09774539  0.29719171  0.28513619  0.2193099  -0.14299338  0.12929195\n",
      "  0.36556664  0.29636361 -0.19978336]\n",
      "0.12803754142984589\n",
      "0.20501525815918661\n",
      "\n",
      "\u001b[31mp = 0.05020095926358515 !\u001b[0m\n"
     ]
    },
    {
     "name": "stderr",
     "output_type": "stream",
     "text": [
      "/Users/lis/anaconda3/envs/bidir/lib/python3.7/site-packages/ipykernel_launcher.py:16: SettingWithCopyWarning: \n",
      "A value is trying to be set on a copy of a slice from a DataFrame.\n",
      "Try using .loc[row_indexer,col_indexer] = value instead\n",
      "\n",
      "See the caveats in the documentation: http://pandas.pydata.org/pandas-docs/stable/user_guide/indexing.html#returning-a-view-versus-a-copy\n",
      "  app.launch_new_instance()\n",
      "/Users/lis/anaconda3/envs/bidir/lib/python3.7/site-packages/ipykernel_launcher.py:17: SettingWithCopyWarning: \n",
      "A value is trying to be set on a copy of a slice from a DataFrame.\n",
      "Try using .loc[row_indexer,col_indexer] = value instead\n",
      "\n",
      "See the caveats in the documentation: http://pandas.pydata.org/pandas-docs/stable/user_guide/indexing.html#returning-a-view-versus-a-copy\n",
      "/Users/lis/anaconda3/envs/bidir/lib/python3.7/site-packages/ipykernel_launcher.py:18: SettingWithCopyWarning: \n",
      "A value is trying to be set on a copy of a slice from a DataFrame.\n",
      "Try using .loc[row_indexer,col_indexer] = value instead\n",
      "\n",
      "See the caveats in the documentation: http://pandas.pydata.org/pandas-docs/stable/user_guide/indexing.html#returning-a-view-versus-a-copy\n",
      "/Users/lis/anaconda3/envs/bidir/lib/python3.7/site-packages/ipykernel_launcher.py:22: SettingWithCopyWarning: \n",
      "A value is trying to be set on a copy of a slice from a DataFrame.\n",
      "Try using .loc[row_indexer,col_indexer] = value instead\n",
      "\n",
      "See the caveats in the documentation: http://pandas.pydata.org/pandas-docs/stable/user_guide/indexing.html#returning-a-view-versus-a-copy\n",
      "/Users/lis/anaconda3/envs/bidir/lib/python3.7/site-packages/ipykernel_launcher.py:23: SettingWithCopyWarning: \n",
      "A value is trying to be set on a copy of a slice from a DataFrame.\n",
      "Try using .loc[row_indexer,col_indexer] = value instead\n",
      "\n",
      "See the caveats in the documentation: http://pandas.pydata.org/pandas-docs/stable/user_guide/indexing.html#returning-a-view-versus-a-copy\n",
      "/Users/lis/anaconda3/envs/bidir/lib/python3.7/site-packages/ipykernel_launcher.py:24: SettingWithCopyWarning: \n",
      "A value is trying to be set on a copy of a slice from a DataFrame.\n",
      "Try using .loc[row_indexer,col_indexer] = value instead\n",
      "\n",
      "See the caveats in the documentation: http://pandas.pydata.org/pandas-docs/stable/user_guide/indexing.html#returning-a-view-versus-a-copy\n"
     ]
    },
    {
     "data": {
      "image/png": "[encoded data removed]",
      "text/plain": [
       "<Figure size 864x288 with 3 Axes>"
      ]
     },
     "metadata": {
      "needs_background": "light"
     },
     "output_type": "display_data"
    }
   ],
   "source": [
    "def compVel(df):\n",
    "    x = df['dronePositionFiltered.x'].values\n",
    "    y = df['dronePositionFiltered.y'].values\n",
    "    z = df['dronePositionFiltered.z'].values\n",
    "    t = df['absoluteTime'].values\n",
    "\n",
    "    dx = np.diff(x)\n",
    "    dy = np.diff(y)\n",
    "    dz = np.diff(z)\n",
    "    dt = np.diff(t)\n",
    "    \n",
    "    vx = np.append([0],dx/dt)\n",
    "    vy = np.append([0],dy/dt)\n",
    "    vz = np.append([0],dz/dt)\n",
    "    \n",
    "    df['droneVelocity.x'] = vx\n",
    "    df['droneVelocity.y'] = vy\n",
    "    df['droneVelocity.z'] = vz\n",
    "    \n",
    "    steps = 20    \n",
    "    \n",
    "    df['droneVelocityFiltered.x'] = running_average(df['droneVelocity.x'], steps)\n",
    "    df['droneVelocityFiltered.y'] = running_average(df['droneVelocity.y'], steps)\n",
    "    df['droneVelocityFiltered.z'] = running_average(df['droneVelocity.z'], steps)\n",
    "\n",
    "    dv = np.sqrt(df['droneVelocityFiltered.x'][100:]**2+df['droneVelocityFiltered.y'][100:]**2+df['droneVelocityFiltered.z'][100:]**2)\n",
    "    \n",
    "    v = np.mean(dv)\n",
    "    \n",
    "    return v\n",
    "\n",
    "vel = runBasicAnalysis(compVel)\n",
    "basic_plot(vel)"
   ]
  },
  {
   "cell_type": "markdown",
   "metadata": {},
   "source": [
    "# Acceleration Analysis"
   ]
  },
  {
   "cell_type": "code",
   "execution_count": 16,
   "metadata": {
    "jupyter": {
     "source_hidden": true
    }
   },
   "outputs": [
    {
     "name": "stdout",
     "output_type": "stream",
     "text": [
      "first remote\n",
      "[0.8179730420974849, 0.6890353640729231, 0.87104228422705, 0.8843567576521152, 0.2712746642485197, 0.4877454520288943, 0.606891666005453, 0.5515010879218111, 0.5596204661505985]\n",
      "mean =  0.6377156427116499\n",
      "std =  0.18904778274406048\n",
      "\n",
      "last remote\n",
      "[0.7457047362862306, 0.7660319311546149, 0.7721134977606467, 0.9817429323651226, 0.36787722388214456, 0.4521359256637946, 0.6252243581723516, 1.0243986643935286, 0.4324860642361804]\n",
      "mean =  0.6853017037682906\n",
      "std =  0.22191488603631718\n",
      "\n",
      "first motion\n",
      "[0.6262592333715965, 0.5009339545325944, 0.8170690847522056, 0.6014993422071747, 0.6339664852885869, 0.4363224994296056, 0.6428538751267902, 0.5634635091197591, 0.34400076110007966]\n",
      "mean =  0.5740409716587103\n",
      "std =  0.12832729437072993\n",
      "\n",
      "last motion\n",
      "[0.6935333493624882, 0.5515874714924929, 0.911646071893495, 1.0202026105814126, 0.7105799614817411, 0.5422221599843919, 0.5412648713853637, 0.9994129873101419, 0.43387623212663523]\n",
      "mean =  0.7115917461797958\n",
      "std =  0.20517070691457476\n",
      "\n",
      "\n",
      "first remote last remote\n",
      "Kruskal\n",
      "p = 0.7572777496236265\n",
      "Levene\n",
      "p = 0.6330321758760862\n",
      "\n",
      "first remote first motion\n",
      "Kruskal\n",
      "p = 0.5078006482752742\n",
      "Levene\n",
      "p = 0.2735333582721269\n",
      "\n",
      "first remote last motion\n",
      "Kruskal\n",
      "p = 0.5659921481957904\n",
      "Levene\n",
      "p = 0.7223428441748971\n",
      "\n",
      "last remote first motion\n",
      "Kruskal\n",
      "p = 0.3538369006847303\n",
      "Levene\n",
      "p = 0.14525100602944277\n",
      "\n",
      "last remote last motion\n",
      "Kruskal\n",
      "p = 0.8946258095467479\n",
      "Levene\n",
      "p = 0.8682168065584642\n",
      "\n",
      "first motion last motion\n",
      "Kruskal\n",
      "p = 0.26968989984502656\n",
      "Levene\n",
      "p = 0.1373513827975651\n",
      "\n",
      "motion ratio\n",
      "[-0.10742215 -0.10111815 -0.11575152 -0.6960993  -0.12084783 -0.2427096\n",
      "  0.15802814 -0.77369603 -0.26126533]\n",
      "-0.25120908546263226\n",
      "0.28227511370237285\n",
      "\n",
      "remote ratio\n",
      "[ 0.08835047 -0.11174545  0.11357518 -0.11012091 -0.35610609  0.07300842\n",
      " -0.03020752 -0.85747352  0.22717969]\n",
      "-0.10705996919180366\n",
      "0.30949564101268\n",
      "\n",
      "\u001b[33mp = 0.03724254459597928 !!!!!!\u001b[0m\n",
      "\n",
      "firts ratio\n",
      "[ 0.23437668  0.27299239  0.06196393  0.31984537 -1.33699113  0.1054299\n",
      " -0.05925639 -0.02169066  0.38529632]\n",
      "-0.004225955371265084\n",
      "0.49289766213892156\n",
      "\n",
      "last ratio\n",
      "[ 0.06996253  0.27994193 -0.18071511 -0.0391749  -0.93156824 -0.19924591\n",
      "  0.13428697  0.02439058 -0.00321436]\n",
      "-0.09392627858734087\n",
      "0.32731433957546935\n",
      "\n",
      "p = 0.141482121482789\n"
     ]
    },
    {
     "name": "stderr",
     "output_type": "stream",
     "text": [
      "/Users/lis/anaconda3/envs/bidir/lib/python3.7/site-packages/ipykernel_launcher.py:16: SettingWithCopyWarning: \n",
      "A value is trying to be set on a copy of a slice from a DataFrame.\n",
      "Try using .loc[row_indexer,col_indexer] = value instead\n",
      "\n",
      "See the caveats in the documentation: http://pandas.pydata.org/pandas-docs/stable/user_guide/indexing.html#returning-a-view-versus-a-copy\n",
      "  app.launch_new_instance()\n",
      "/Users/lis/anaconda3/envs/bidir/lib/python3.7/site-packages/ipykernel_launcher.py:17: SettingWithCopyWarning: \n",
      "A value is trying to be set on a copy of a slice from a DataFrame.\n",
      "Try using .loc[row_indexer,col_indexer] = value instead\n",
      "\n",
      "See the caveats in the documentation: http://pandas.pydata.org/pandas-docs/stable/user_guide/indexing.html#returning-a-view-versus-a-copy\n",
      "/Users/lis/anaconda3/envs/bidir/lib/python3.7/site-packages/ipykernel_launcher.py:18: SettingWithCopyWarning: \n",
      "A value is trying to be set on a copy of a slice from a DataFrame.\n",
      "Try using .loc[row_indexer,col_indexer] = value instead\n",
      "\n",
      "See the caveats in the documentation: http://pandas.pydata.org/pandas-docs/stable/user_guide/indexing.html#returning-a-view-versus-a-copy\n",
      "/Users/lis/anaconda3/envs/bidir/lib/python3.7/site-packages/ipykernel_launcher.py:22: SettingWithCopyWarning: \n",
      "A value is trying to be set on a copy of a slice from a DataFrame.\n",
      "Try using .loc[row_indexer,col_indexer] = value instead\n",
      "\n",
      "See the caveats in the documentation: http://pandas.pydata.org/pandas-docs/stable/user_guide/indexing.html#returning-a-view-versus-a-copy\n",
      "/Users/lis/anaconda3/envs/bidir/lib/python3.7/site-packages/ipykernel_launcher.py:23: SettingWithCopyWarning: \n",
      "A value is trying to be set on a copy of a slice from a DataFrame.\n",
      "Try using .loc[row_indexer,col_indexer] = value instead\n",
      "\n",
      "See the caveats in the documentation: http://pandas.pydata.org/pandas-docs/stable/user_guide/indexing.html#returning-a-view-versus-a-copy\n",
      "/Users/lis/anaconda3/envs/bidir/lib/python3.7/site-packages/ipykernel_launcher.py:24: SettingWithCopyWarning: \n",
      "A value is trying to be set on a copy of a slice from a DataFrame.\n",
      "Try using .loc[row_indexer,col_indexer] = value instead\n",
      "\n",
      "See the caveats in the documentation: http://pandas.pydata.org/pandas-docs/stable/user_guide/indexing.html#returning-a-view-versus-a-copy\n"
     ]
    },
    {
     "data": {
      "image/png": "[encoded data removed]",
      "text/plain": [
       "<Figure size 864x288 with 3 Axes>"
      ]
     },
     "metadata": {
      "needs_background": "light"
     },
     "output_type": "display_data"
    }
   ],
   "source": [
    "def compAcc(df):\n",
    "    vx = df['droneVelocityFiltered.x'].values\n",
    "    vy = df['droneVelocityFiltered.y'].values\n",
    "    vz = df['droneVelocityFiltered.z'].values\n",
    "    t = df['absoluteTime'].values\n",
    "    \n",
    "    dvx = np.diff(vx)\n",
    "    dvy = np.diff(vy)\n",
    "    dvz = np.diff(vz)\n",
    "    dt = np.diff(t)\n",
    "    \n",
    "    ax = np.append([0],dvx/dt)\n",
    "    ay = np.append([0],dvy/dt)\n",
    "    az = np.append([0],dvz/dt)\n",
    "    \n",
    "    df['droneAcceleration.x'] = ax\n",
    "    df['droneAcceleration.y'] = ay\n",
    "    df['droneAcceleration.z'] = az\n",
    "    \n",
    "    steps = 30    \n",
    "    \n",
    "    df['droneAccelerationFiltered.x'] = running_average(df['droneAcceleration.x'], steps)\n",
    "    df['droneAccelerationFiltered.y'] = running_average(df['droneAcceleration.y'], steps)\n",
    "    df['droneAccelerationFiltered.z'] = running_average(df['droneAcceleration.z'], steps)\n",
    "\n",
    "    da = np.sqrt(df['droneAccelerationFiltered.x'][100:]**2+df['droneAccelerationFiltered.y'][100:]**2+df['droneAccelerationFiltered.z'][100:]**2)\n",
    "    \n",
    "    a = np.mean(da)\n",
    "\n",
    "    return a\n",
    "\n",
    "acc = runBasicAnalysis(compAcc)\n",
    "basic_plot(acc)"
   ]
  },
  {
   "cell_type": "markdown",
   "metadata": {},
   "source": [
    "# Jerk Analysis"
   ]
  },
  {
   "cell_type": "code",
   "execution_count": 17,
   "metadata": {
    "jupyter": {
     "source_hidden": true
    }
   },
   "outputs": [
    {
     "name": "stdout",
     "output_type": "stream",
     "text": [
      "first remote\n",
      "[1.7101052294816639, 1.2158228418982926, 1.759313586063058, 1.726223532960491, 0.574171264364218, 0.9836955495754648, 1.1482867583882286, 1.113160929116499, 1.0043641604774616]\n",
      "mean =  1.248349316925042\n",
      "std =  0.3824046112807294\n",
      "\n",
      "last remote\n",
      "[1.5538321319313084, 1.5457041607177497, 1.61463918370713, 1.826863924945043, 0.8415444930858282, 0.9506634557176598, 1.275919056220123, 2.0065321167916434, 0.8193883394608696]\n",
      "mean =  1.3816763180641507\n",
      "std =  0.40883548360396527\n",
      "\n",
      "first motion\n",
      "[1.322450539991678, 1.1647612441273885, 2.267610592462352, 1.2805465811439398, 1.9504241331184142, 1.1497659673238672, 1.6717749738185856, 1.5655025750472022, 0.6987563484567377]\n",
      "mean =  1.452399217276685\n",
      "std =  0.44249752588135216\n",
      "\n",
      "last motion\n",
      "[1.294368628816663, 1.188418081046969, 2.440149225828725, 2.239030378255799, 2.0569458134272276, 1.546473452050761, 1.3644658022080893, 2.657912206904177, 0.8842246116743919]\n",
      "mean =  1.741332022245867\n",
      "std =  0.5865058172079529\n",
      "\n",
      "\n",
      "first remote last remote\n",
      "Kruskal\n",
      "p = 0.6911022238448452\n",
      "Levene\n",
      "p = 0.7532104487618521\n",
      "\n",
      "first remote first motion\n",
      "Kruskal\n",
      "p = 0.26968989984502656\n",
      "Levene\n",
      "p = 0.7370542538279448\n",
      "\n",
      "first remote last motion\n",
      "Kruskal\n",
      "\u001b[31mp = 0.08508907281620419 !\u001b[0m\n",
      "Levene\n",
      "p = 0.16985508834737562\n",
      "\n",
      "last remote first motion\n",
      "Kruskal\n",
      "p = 0.7572777496236265\n",
      "Levene\n",
      "p = 0.9712419898576519\n",
      "\n",
      "last remote last motion\n",
      "Kruskal\n",
      "p = 0.23323022278218208\n",
      "Levene\n",
      "p = 0.2782056511373953\n",
      "\n",
      "first motion last motion\n",
      "Kruskal\n",
      "p = 0.3098795496397732\n",
      "Levene\n",
      "p = 0.31049334941564727\n",
      "\n",
      "motion ratio\n",
      "[ 0.02123475 -0.02031046 -0.0760883  -0.74849585 -0.05461462 -0.34503325\n",
      "  0.18382209 -0.69780124 -0.26542623]\n",
      "-0.22252367753618302\n",
      "0.30449351672849473\n",
      "\n",
      "remote ratio\n",
      "[ 0.09138215 -0.27132351  0.08223344 -0.0583009  -0.46566808  0.03357959\n",
      " -0.1111502  -0.80255349  0.18417206]\n",
      "-0.14640321436286816\n",
      "0.2995484624755446\n",
      "\n",
      "p = 0.289838717607506\n",
      "\n",
      "firts ratio\n",
      "[ 0.2266847   0.04199756 -0.2889178   0.25818032 -2.39693791 -0.16882298\n",
      " -0.45588631 -0.40635782  0.30427989]\n",
      "-0.3206422605118816\n",
      "0.7829669337302376\n",
      "\n",
      "last ratio\n",
      "[ 0.16698297  0.23114778 -0.51126595 -0.22561421 -1.44425082 -0.62673072\n",
      " -0.0693984  -0.32462979 -0.07912765]\n",
      "-0.3203207545413556\n",
      "0.4790351899690437\n",
      "\n",
      "p = 0.4008141693829329\n"
     ]
    },
    {
     "name": "stderr",
     "output_type": "stream",
     "text": [
      "/Users/lis/anaconda3/envs/bidir/lib/python3.7/site-packages/ipykernel_launcher.py:16: SettingWithCopyWarning: \n",
      "A value is trying to be set on a copy of a slice from a DataFrame.\n",
      "Try using .loc[row_indexer,col_indexer] = value instead\n",
      "\n",
      "See the caveats in the documentation: http://pandas.pydata.org/pandas-docs/stable/user_guide/indexing.html#returning-a-view-versus-a-copy\n",
      "  app.launch_new_instance()\n",
      "/Users/lis/anaconda3/envs/bidir/lib/python3.7/site-packages/ipykernel_launcher.py:17: SettingWithCopyWarning: \n",
      "A value is trying to be set on a copy of a slice from a DataFrame.\n",
      "Try using .loc[row_indexer,col_indexer] = value instead\n",
      "\n",
      "See the caveats in the documentation: http://pandas.pydata.org/pandas-docs/stable/user_guide/indexing.html#returning-a-view-versus-a-copy\n",
      "/Users/lis/anaconda3/envs/bidir/lib/python3.7/site-packages/ipykernel_launcher.py:18: SettingWithCopyWarning: \n",
      "A value is trying to be set on a copy of a slice from a DataFrame.\n",
      "Try using .loc[row_indexer,col_indexer] = value instead\n",
      "\n",
      "See the caveats in the documentation: http://pandas.pydata.org/pandas-docs/stable/user_guide/indexing.html#returning-a-view-versus-a-copy\n",
      "/Users/lis/anaconda3/envs/bidir/lib/python3.7/site-packages/ipykernel_launcher.py:22: SettingWithCopyWarning: \n",
      "A value is trying to be set on a copy of a slice from a DataFrame.\n",
      "Try using .loc[row_indexer,col_indexer] = value instead\n",
      "\n",
      "See the caveats in the documentation: http://pandas.pydata.org/pandas-docs/stable/user_guide/indexing.html#returning-a-view-versus-a-copy\n",
      "/Users/lis/anaconda3/envs/bidir/lib/python3.7/site-packages/ipykernel_launcher.py:23: SettingWithCopyWarning: \n",
      "A value is trying to be set on a copy of a slice from a DataFrame.\n",
      "Try using .loc[row_indexer,col_indexer] = value instead\n",
      "\n",
      "See the caveats in the documentation: http://pandas.pydata.org/pandas-docs/stable/user_guide/indexing.html#returning-a-view-versus-a-copy\n",
      "/Users/lis/anaconda3/envs/bidir/lib/python3.7/site-packages/ipykernel_launcher.py:24: SettingWithCopyWarning: \n",
      "A value is trying to be set on a copy of a slice from a DataFrame.\n",
      "Try using .loc[row_indexer,col_indexer] = value instead\n",
      "\n",
      "See the caveats in the documentation: http://pandas.pydata.org/pandas-docs/stable/user_guide/indexing.html#returning-a-view-versus-a-copy\n"
     ]
    },
    {
     "data": {
      "image/png": "[encoded data removed]",
      "text/plain": [
       "<Figure size 864x288 with 3 Axes>"
      ]
     },
     "metadata": {
      "needs_background": "light"
     },
     "output_type": "display_data"
    }
   ],
   "source": [
    "def compJerk(df):\n",
    "    ax = df['droneAccelerationFiltered.x'].values\n",
    "    ay = df['droneAccelerationFiltered.y'].values\n",
    "    az = df['droneAccelerationFiltered.z'].values\n",
    "    t = df['absoluteTime'].values\n",
    "    \n",
    "    dax = np.diff(ax)\n",
    "    day = np.diff(ay)\n",
    "    daz = np.diff(az)\n",
    "    dt = np.diff(t)\n",
    "    \n",
    "    jx = np.append([0],dax/dt)\n",
    "    jy = np.append([0],day/dt)\n",
    "    jz = np.append([0],daz/dt)\n",
    "    \n",
    "    df['droneJerk.x'] = jx\n",
    "    df['droneJerk.y'] = jy\n",
    "    df['droneJerk.z'] = jz\n",
    "    \n",
    "    steps = 40    \n",
    "    \n",
    "    df['droneJerkFiltered.x'] = running_average(df['droneJerk.x'], steps)\n",
    "    df['droneJerkFiltered.y'] = running_average(df['droneJerk.y'], steps)\n",
    "    df['droneJerkFiltered.z'] = running_average(df['droneJerk.z'], steps)\n",
    "\n",
    "    dj = np.sqrt(df['droneJerkFiltered.x'][100:]**2+df['droneJerkFiltered.y'][100:]**2+df['droneJerkFiltered.z'][100:]**2)\n",
    "    \n",
    "    \n",
    "    j = np.mean(dj)\n",
    "\n",
    "    return j\n",
    "\n",
    "jerk = runBasicAnalysis(compJerk)\n",
    "basic_plot(jerk)"
   ]
  },
  {
   "cell_type": "markdown",
   "metadata": {},
   "source": [
    "# Energy Analysis"
   ]
  },
  {
   "cell_type": "code",
   "execution_count": 18,
   "metadata": {
    "jupyter": {
     "source_hidden": true
    }
   },
   "outputs": [
    {
     "name": "stdout",
     "output_type": "stream",
     "text": [
      "first remote\n",
      "[1544.0944067908558, 2914.416685378667, 2092.377663748999, 2058.0607901833646, 1398.4296726660089, 1723.174082535012, 2264.1453032200493, 1614.8294185176094, 2564.4254463977195]\n",
      "mean =  2019.3281632709206\n",
      "std =  474.66654042354367\n",
      "\n",
      "last remote\n",
      "[1176.6233673598217, 1270.9011819037419, 1216.1056489233024, 3045.3018555135895, 1106.3507669027608, 1503.413353880545, 1318.6086929897883, 1982.5479859445677, 1414.2047182609645]\n",
      "mean =  1559.3397301865646\n",
      "std =  579.4642425052594\n",
      "\n",
      "first motion\n",
      "[1239.5910846412821, 1530.039984321833, 1784.6959661965552, 1498.5062137707678, 1294.151292170006, 1355.08608580699, 1430.2174444757497, 1348.3983949034632, 1499.4806082593627]\n",
      "mean =  1442.2407860606677\n",
      "std =  153.10517147858474\n",
      "\n",
      "last motion\n",
      "[957.7049617705087, 1571.5765210763047, 2404.7405022746298, 1872.054675515924, 1180.3701977327062, 1313.4349275258705, 1503.5814595666889, 2085.943548541085, 1153.5933020698055]\n",
      "mean =  1560.333344008169\n",
      "std =  450.1525863970278\n",
      "\n",
      "\n",
      "first remote last remote\n",
      "Kruskal\n",
      "\u001b[32mp = 0.0017925441684880918 !!!!!!!!!!\u001b[0m\n",
      "Levene\n",
      "\u001b[33mp = 0.02029354627239943 !!!!!!\u001b[0m\n",
      "\n",
      "first remote first motion\n",
      "Kruskal\n",
      "\u001b[32mp = 0.0020755629257427034 !!!!!!!!!!\u001b[0m\n",
      "Levene\n",
      "\u001b[32mp = 0.008788976082813335 !!!!!!!!!!\u001b[0m\n",
      "\n",
      "first remote last motion\n",
      "Kruskal\n",
      "\u001b[31mp = 0.0576307243947688 !\u001b[0m\n",
      "Levene\n",
      "p = 0.8519844994363857\n",
      "\n",
      "last remote first motion\n",
      "Kruskal\n",
      "p = 0.10519250512004134\n",
      "Levene\n",
      "p = 0.652461962019017\n",
      "\n",
      "last remote last motion\n",
      "Kruskal\n",
      "p = 0.2663799233424782\n",
      "Levene\n",
      "\u001b[33mp = 0.029746986332388262 !!!!!!\u001b[0m\n",
      "\n",
      "first motion last motion\n",
      "Kruskal\n",
      "p = 0.6304275015358908\n",
      "Levene\n",
      "\u001b[33mp = 0.013538148376319212 !!!!!!\u001b[0m\n",
      "\n",
      "motion ratio\n",
      "[ 0.22740251 -0.02714735 -0.34742306 -0.24928056  0.08791947  0.03073691\n",
      " -0.05129571 -0.54697866  0.23067141]\n",
      "-0.07171056057356441\n",
      "0.24781525775519495\n",
      "\n",
      "remote ratio\n",
      "[ 0.23798483  0.56392605  0.41879247 -0.4796948   0.20886206  0.12753252\n",
      "  0.41761304 -0.22771357  0.4485296 ]\n",
      "0.19064802329980365\n",
      "0.3232378595234197\n",
      "\n",
      "\u001b[33mp = 0.01235458501787193 !!!!!!\u001b[0m\n",
      "\n",
      "firts ratio\n",
      "[0.19720512 0.47500987 0.14704883 0.27188438 0.0745682  0.21361045\n",
      " 0.36831906 0.1649902  0.41527619]\n",
      "0.2586569224302972\n",
      "0.1266942654689993\n",
      "\n",
      "last ratio\n",
      "[ 0.18605648 -0.23658436 -0.97741085  0.38526466 -0.06690413  0.12636473\n",
      " -0.14027874 -0.05215287  0.18428125]\n",
      "-0.06570709026856814\n",
      "0.3700292832820526\n",
      "\n",
      "\u001b[33mp = 0.03426400773486915 !!!!!!\u001b[0m\n"
     ]
    },
    {
     "name": "stderr",
     "output_type": "stream",
     "text": [
      "/Users/lis/anaconda3/envs/bidir/lib/python3.7/site-packages/ipykernel_launcher.py:2: SettingWithCopyWarning: \n",
      "A value is trying to be set on a copy of a slice from a DataFrame.\n",
      "Try using .loc[row_indexer,col_indexer] = value instead\n",
      "\n",
      "See the caveats in the documentation: http://pandas.pydata.org/pandas-docs/stable/user_guide/indexing.html#returning-a-view-versus-a-copy\n",
      "  \n"
     ]
    },
    {
     "data": {
      "text/plain": [
       "<matplotlib.axes._subplots.AxesSubplot at 0x1a231c6dd0>"
      ]
     },
     "execution_count": 18,
     "metadata": {},
     "output_type": "execute_result"
    },
    {
     "data": {
      "image/png": "[encoded data removed]",
      "text/plain": [
       "<Figure size 864x288 with 3 Axes>"
      ]
     },
     "metadata": {
      "needs_background": "light"
     },
     "output_type": "display_data"
    },
    {
     "data": {
      "image/png": "[encoded data removed]",
      "text/plain": [
       "<Figure size 144x144 with 1 Axes>"
      ]
     },
     "metadata": {
      "needs_background": "light"
     },
     "output_type": "display_data"
    }
   ],
   "source": [
    "def compEnergy(df):\n",
    "    df['controlInput'] = np.sqrt(df['controlSpeed.x']**2+df['controlSpeed.y']**2+df['controlSpeed.z']**2)\n",
    "    return df['controlInput'].sum()\n",
    "\n",
    "energy = runBasicAnalysis(compEnergy)\n",
    "basic_plot(energy)\n",
    "\n",
    "for i in energy:\n",
    "    energy[i] = np.array(energy[i])/1000\n",
    "\n",
    "basic_box(energy, fields, y = 'IAU', ylim = [.8,3.500], save = True, where = 'IAU.pdf', whis = 3)"
   ]
  },
  {
   "cell_type": "markdown",
   "metadata": {},
   "source": [
    "## <span style=\"color:red\">Energy is signficatively lower in the first run for the motion controller, than compensated with time</span>."
   ]
  },
  {
   "cell_type": "markdown",
   "metadata": {},
   "source": [
    "# Collision Analysis"
   ]
  },
  {
   "cell_type": "code",
   "execution_count": 19,
   "metadata": {
    "jupyter": {
     "source_hidden": true
    }
   },
   "outputs": [],
   "source": [
    "coll_df = pd.read_csv('/Volumes/GoogleDrive/My Drive/Matteo/EPFL/LIS/PhD/Bidirectional_wearable_interface/DATA/Learning_Curve/Bidir - learning collisions - Sheet1.csv')"
   ]
  },
  {
   "cell_type": "code",
   "execution_count": 20,
   "metadata": {
    "jupyter": {
     "source_hidden": true
    }
   },
   "outputs": [],
   "source": [
    "coll = {}\n",
    "\n",
    "coll['motion'] = coll_df[coll_df['Interface']=='Motion']\n",
    "coll['remote'] = coll_df[coll_df['Interface']=='Remote']\n",
    "\n",
    "\n",
    "coll['first motion'] = coll['motion'][coll['motion']['Run']==1]\n",
    "coll['last motion'] = coll['motion'][coll['motion']['Run']==5]\n",
    "coll['first remote'] = coll['remote'][coll['remote']['Run']==1]\n",
    "coll['last remote'] = coll['remote'][coll['remote']['Run']==5]"
   ]
  },
  {
   "cell_type": "code",
   "execution_count": 21,
   "metadata": {
    "jupyter": {
     "source_hidden": true
    }
   },
   "outputs": [
    {
     "name": "stdout",
     "output_type": "stream",
     "text": [
      "\n",
      "consider all runs\n",
      "\n",
      "mean motion =  0.7\n",
      "std motion =  0.9529760045804524\n",
      "mean remote =  1.04\n",
      "std remote =  1.497753419666418\n",
      "\n",
      "total motion =  35\n",
      "total remote =  52\n",
      "\n",
      "p = 0.3307919461014416\n",
      "p = 0.1597357653576776\n",
      "\n",
      "consider first runs\n",
      "\n",
      "mean motion =  0.9\n",
      "std motion =  0.9944289260117534\n",
      "mean remote =  0.7\n",
      "std remote =  0.9486832980505138\n",
      "\n",
      "total motion =  9\n",
      "total remote =  7\n",
      "\n",
      "p = 0.640316414374904\n",
      "p = 0.565454352852049\n",
      "\n",
      "consider last runs\n",
      "\n",
      "mean motion =  0.9\n",
      "std motion =  1.1005049346146119\n",
      "mean remote =  1.7\n",
      "std remote =  1.70293863659264\n",
      "\n",
      "total motion =  9\n",
      "total remote =  17\n",
      "\n",
      "p = 0.3901157668035834\n",
      "p = 0.41932662276540966\n",
      "\n",
      "FIRST LAST REMOTE\n",
      "\n",
      "p = 0.20392477458611555\n",
      "p = 0.926113412145248\n"
     ]
    },
    {
     "data": {
      "text/plain": [
       "Text(0.5, 1.0, 'Collisions - last run')"
      ]
     },
     "execution_count": 21,
     "metadata": {},
     "output_type": "execute_result"
    },
    {
     "data": {
      "image/png": "[encoded data removed]",
      "text/plain": [
       "<Figure size 864x288 with 3 Axes>"
      ]
     },
     "metadata": {
      "needs_background": "light"
     },
     "output_type": "display_data"
    }
   ],
   "source": [
    "def compute_mean_std_collisions(data_m, data_r):\n",
    "    mean_m = data_m['Collisions'].mean()\n",
    "    std_m = data_m['Collisions'].std()\n",
    "    mean_r = data_r['Collisions'].mean()\n",
    "    std_r = data_r['Collisions'].std()\n",
    "\n",
    "    print('mean motion = ', mean_m)\n",
    "    print('std motion = ', std_m)\n",
    "    print('mean remote = ', mean_r)\n",
    "    print('std remote = ', std_r)\n",
    "    print('')\n",
    "    print('total motion = ', data_m['Collisions'].sum())\n",
    "    print('total remote = ', data_r['Collisions'].sum())\n",
    "    print('')\n",
    "\n",
    "    t, p = t_test_kruskal(data_m['Collisions'],data_r['Collisions'])\n",
    "\n",
    "    print_p(p)\n",
    "    t, p = t_test_levene(data_m['Collisions'],data_r['Collisions'])\n",
    "    print_p(p)\n",
    "    \n",
    "print('')\n",
    "print('consider all runs')\n",
    "print('')\n",
    "compute_mean_std_collisions(coll['motion'], coll['remote'])\n",
    "    \n",
    "print('')\n",
    "print('consider first runs')\n",
    "print('')\n",
    "compute_mean_std_collisions(coll['first motion'], coll['first remote'])\n",
    "    \n",
    "print('')\n",
    "print('consider last runs')\n",
    "print('')\n",
    "compute_mean_std_collisions(coll['last motion'], coll['last remote'])\n",
    "\n",
    "t, p = t_test_kruskal(coll['first remote']['Collisions'],coll['last remote']['Collisions'])\n",
    "\n",
    "print('')\n",
    "print('FIRST LAST REMOTE')\n",
    "print('')\n",
    "print_p(p)\n",
    "t, p = t_test_levene(coll['first remote']['Collisions'],coll['last remote']['Collisions'])\n",
    "print_p(p)\n",
    "\n",
    "\n",
    "    \n",
    "fig = plt.figure(figsize=(12, 4))\n",
    "ax = fig.add_subplot(131)\n",
    "ax.bar([0, 1],\n",
    "   [coll['motion']['Collisions'].sum(), coll['remote']['Collisions'].sum()])\n",
    "\n",
    "plt.xticks(range(2), ['motion', 'remote'])\n",
    "plt.ylim([0, 60])\n",
    "plt.title('Total collisions')\n",
    "\n",
    "ax = fig.add_subplot(132)\n",
    "ax.bar([0, 1],\n",
    "   [coll['first motion']['Collisions'].sum(), coll['first remote']['Collisions'].sum()])\n",
    "\n",
    "plt.xticks(range(2), ['motion', 'remote'])\n",
    "plt.ylim([0, 20])\n",
    "plt.title('Collisions - first run')\n",
    "\n",
    "ax = fig.add_subplot(133)\n",
    "ax.bar([0, 1],\n",
    "   [coll['last motion']['Collisions'].sum(), coll['last remote']['Collisions'].sum()])\n",
    "\n",
    "plt.xticks(range(2), ['motion', 'remote'])\n",
    "plt.ylim([0, 20])\n",
    "plt.title('Total collisions')\n",
    "plt.title('Collisions - last run')"
   ]
  },
  {
   "cell_type": "markdown",
   "metadata": {},
   "source": [
    "# FINAL PLOTS"
   ]
  },
  {
   "cell_type": "code",
   "execution_count": 22,
   "metadata": {},
   "outputs": [
    {
     "data": {
      "image/png": "[encoded data removed]",
      "text/plain": [
       "<Figure size 504x144 with 3 Axes>"
      ]
     },
     "metadata": {
      "needs_background": "light"
     },
     "output_type": "display_data"
    }
   ],
   "source": [
    "\n",
    "fig = plt.figure(figsize = [7,2])\n",
    "\n",
    "gs = gridspec.GridSpec(1, 5,\n",
    "                       width_ratios=[2, .2, 2, .2, 1],\n",
    "                       height_ratios=[2]\n",
    "                       )\n",
    "\n",
    "ax = plt.subplot(gs[0])\n",
    "basic_box(time, fields, y = 'Time [s]', ylim = [15,110], ax = ax, save = True, where = 'Time.pdf')\n",
    "ax = plt.subplot(gs[2])\n",
    "ax = basic_box(dist, fields, y = 'Distance [m]', ylim = [10, 60], ax = ax, save = True, where = 'Distance.pdf', whis = 3)\n",
    "ax = plt.subplot(gs[4])\n",
    "\n",
    "ax.bar([0],\n",
    "   [coll['remote']['Collisions'].sum()], color = 'b', width = 0.3)\n",
    "ax.bar([1],\n",
    "   [coll['motion']['Collisions'].sum()], color = 'r', width = 0.3)\n",
    "plt.xticks(range(2), ['R', 'W'])\n",
    "plt.ylim([0, 60])\n",
    "plt.xlim([-0.5, 1.5])\n",
    "plt.ylabel('Collisions')\n",
    "ax.yaxis.grid()\n",
    "ax.spines['right'].set_visible(False)\n",
    "ax.spines['top'].set_visible(False)\n",
    "\n",
    "savefig('sim_learn.pdf', bbox_inches='tight')"
   ]
  },
  {
   "cell_type": "code",
   "execution_count": null,
   "metadata": {
    "collapsed": true,
    "jupyter": {
     "outputs_hidden": true,
     "source_hidden": true
    }
   },
   "outputs": [],
   "source": []
  }
 ],
 "metadata": {
  "kernelspec": {
   "display_name": "Python 3",
   "language": "python",
   "name": "python3"
  },
  "language_info": {
   "codemirror_mode": {
    "name": "ipython",
    "version": 3
   },
   "file_extension": ".py",
   "mimetype": "text/x-python",
   "name": "python",
   "nbconvert_exporter": "python",
   "pygments_lexer": "ipython3",
   "version": "3.7.4"
  },
  "varInspector": {
   "cols": {
    "lenName": 16,
    "lenType": 16,
    "lenVar": 40
   },
   "kernels_config": {
    "python": {
     "delete_cmd_postfix": "",
     "delete_cmd_prefix": "del ",
     "library": "var_list.py",
     "varRefreshCmd": "print(var_dic_list())"
    },
    "r": {
     "delete_cmd_postfix": ") ",
     "delete_cmd_prefix": "rm(",
     "library": "var_list.r",
     "varRefreshCmd": "cat(var_dic_list()) "
    }
   },
   "position": {
    "height": "472.85px",
    "left": "1048.6px",
    "right": "20px",
    "top": "22px",
    "width": "462.8px"
   },
   "types_to_exclude": [
    "module",
    "function",
    "builtin_function_or_method",
    "instance",
    "_Feature"
   ],
   "window_display": false
  }
 },
 "nbformat": 4,
 "nbformat_minor": 4
}
